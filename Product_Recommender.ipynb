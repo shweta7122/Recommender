{
  "nbformat": 4,
  "nbformat_minor": 0,
  "metadata": {
    "colab": {
      "name": "Product Recommender.ipynb",
      "provenance": [],
      "collapsed_sections": [],
      "include_colab_link": true
    },
    "kernelspec": {
      "display_name": "Python 3",
      "name": "python3"
    },
    "language_info": {
      "name": "python"
    }
  },
  "cells": [
    {
      "cell_type": "markdown",
      "metadata": {
        "id": "view-in-github",
        "colab_type": "text"
      },
      "source": [
        "<a href=\"https://colab.research.google.com/github/shweta7122/Recommender/blob/main/Product_Recommender.ipynb\" target=\"_parent\"><img src=\"https://colab.research.google.com/assets/colab-badge.svg\" alt=\"Open In Colab\"/></a>"
      ]
    },
    {
      "cell_type": "markdown",
      "metadata": {
        "id": "mbDSs2p9CTIN"
      },
      "source": [
        "## **PRODUCT RECOMMENDER SYSTEM - CSDA 1040**"
      ]
    },
    {
      "cell_type": "markdown",
      "metadata": {
        "id": "USFFlQzTCifz"
      },
      "source": [
        "### **Context: Building a Product Recommender System**"
      ]
    },
    {
      "cell_type": "markdown",
      "metadata": {
        "id": "xbyEWEM6DdKZ"
      },
      "source": [
        "Everyday millions of products get sold online. It has been established that products recommended to users based on popularity and other metrics on e-commerce websites leads to enhanced user experience. Most popular e-commerce website boost their average order value and also increases revenues significantly thereby improves conversion. Recommender systems are among the most visible and successful applications of Articial Intelligence and Machine Learning technology in practice. Nowadays, such systems accompany us\n",
        "through our daily online lives — for example on e-commerce sites, on media streaming platforms, or in social networks. They help us by suggesting things that are assumed to be of interest to us and which we are correspondingly likely to inspect, consume, or purchase."
      ]
    },
    {
      "cell_type": "markdown",
      "metadata": {
        "id": "l0YZAIlcFoJx"
      },
      "source": [
        "**Data Source: Source** - Amazon Reviews data (http://jmcauley.ucsd.edu/data/amazon/) The repository has several datasets. For this case study, we are using the Electronics dataset.\n",
        "Learning Outcomes"
      ]
    },
    {
      "cell_type": "markdown",
      "metadata": {
        "id": "fGTxhX5XGkvI"
      },
      "source": [
        "**BUSINESS PROBLEM:**\n",
        "\n",
        "As a business that is invested in online sales, it has become imperative to build a product recommender system. Customers that are accustomed to online shopping have come to expect a level of personalization and recommendation to enhance their experience and might move away to websites that are more perceptive to their needs.\n",
        "\n",
        "a) Helps User find the right type of product more easily which leads to better levels of engagement\n",
        "\n",
        "b) Also helps the business use cross-sell, upsell and entice customers which leads to increased sales\n",
        "\n",
        "c) Leads to a personalized experience "
      ]
    },
    {
      "cell_type": "markdown",
      "metadata": {
        "id": "VFp8xxhBGk60"
      },
      "source": [
        "\n",
        "**ANALYTICAL OBJECTIVE**\n",
        "\n",
        "Build a Recommender Model that recommends products to users either based on popularity or ratings to increase customer engagement and drive sales. \n",
        "\n",
        "There are different types of recommender models based on popularity, user based, content based recommendation, collaborative filtering.\n",
        "\n"
      ]
    },
    {
      "cell_type": "code",
      "metadata": {
        "id": "MQUfJbd_B7_O"
      },
      "source": [
        "# Importing Libraries\n",
        "\n",
        "import pandas as pd\n",
        "import numpy as np\n",
        "import seaborn as sns\n",
        "import matplotlib.pyplot as plt\n",
        "%matplotlib inline\n",
        "from sklearn.model_selection import train_test_split\n",
        "import numpy as np # linear algebra\n",
        "import pandas as pd # data processing, CSV file I/O (e.g. pd.read_csv)\n",
        "import os\n",
        "from IPython.core.interactiveshell import InteractiveShell\n",
        "InteractiveShell.ast_node_interactivity = \"all\"\n",
        "import math\n",
        "import json\n",
        "import time\n",
        "import matplotlib.pyplot as plt\n",
        "import seaborn as sns\n",
        "from sklearn.metrics.pairwise import cosine_similarity\n",
        "from sklearn.model_selection import train_test_split\n",
        "from sklearn.neighbors import NearestNeighbors\n",
        "import scipy.sparse\n",
        "from scipy.sparse import csr_matrix\n",
        "from scipy.sparse.linalg import svds\n",
        "import warnings; warnings.simplefilter('ignore')\n",
        "%matplotlib inline\n",
        "\n",
        "# suppress display of warnings\n",
        "warnings.filterwarnings('ignore')\n",
        "\n",
        "# display all dataframe columns\n",
        "pd.options.display.max_columns = None\n",
        "\n",
        "# to set the limit to 3 decimals\n",
        "pd.options.display.float_format = '{:.7f}'.format\n",
        "\n",
        "# display all dataframe rows\n",
        "pd.options.display.max_rows = None\n",
        "\n"
      ],
      "execution_count": null,
      "outputs": []
    },
    {
      "cell_type": "code",
      "metadata": {
        "colab": {
          "base_uri": "https://localhost:8080/",
          "height": 206
        },
        "id": "lh0cdlZFNTNb",
        "outputId": "a974f86d-1f25-4719-c4d3-9b77488c403c"
      },
      "source": [
        "# Loading Data with headers and display\n",
        "electronics_data = pd.read_csv(\"ratings_Electronics (1).csv\", names=['userId', 'productId','Rating','timestamp'])\n",
        "electronics_data = electronics_data.iloc[1:]\n",
        "electronics_data.head()"
      ],
      "execution_count": null,
      "outputs": [
        {
          "output_type": "execute_result",
          "data": {
            "text/html": [
              "<div>\n",
              "<style scoped>\n",
              "    .dataframe tbody tr th:only-of-type {\n",
              "        vertical-align: middle;\n",
              "    }\n",
              "\n",
              "    .dataframe tbody tr th {\n",
              "        vertical-align: top;\n",
              "    }\n",
              "\n",
              "    .dataframe thead th {\n",
              "        text-align: right;\n",
              "    }\n",
              "</style>\n",
              "<table border=\"1\" class=\"dataframe\">\n",
              "  <thead>\n",
              "    <tr style=\"text-align: right;\">\n",
              "      <th></th>\n",
              "      <th>userId</th>\n",
              "      <th>productId</th>\n",
              "      <th>Rating</th>\n",
              "      <th>timestamp</th>\n",
              "    </tr>\n",
              "  </thead>\n",
              "  <tbody>\n",
              "    <tr>\n",
              "      <th>1</th>\n",
              "      <td>A2CX7LUOHB2NDG</td>\n",
              "      <td>0321732944</td>\n",
              "      <td>5.0000000</td>\n",
              "      <td>1341100800.0000000</td>\n",
              "    </tr>\n",
              "    <tr>\n",
              "      <th>2</th>\n",
              "      <td>A2NWSAGRHCP8N5</td>\n",
              "      <td>0439886341</td>\n",
              "      <td>1.0000000</td>\n",
              "      <td>1367193600.0000000</td>\n",
              "    </tr>\n",
              "    <tr>\n",
              "      <th>3</th>\n",
              "      <td>A2WNBOD3WNDNKT</td>\n",
              "      <td>0439886341</td>\n",
              "      <td>3.0000000</td>\n",
              "      <td>1374451200.0000000</td>\n",
              "    </tr>\n",
              "    <tr>\n",
              "      <th>4</th>\n",
              "      <td>A1GI0U4ZRJA8WN</td>\n",
              "      <td>0439886341</td>\n",
              "      <td>1.0000000</td>\n",
              "      <td>1334707200.0000000</td>\n",
              "    </tr>\n",
              "    <tr>\n",
              "      <th>5</th>\n",
              "      <td>A1QGNMC6O1VW39</td>\n",
              "      <td>0511189877</td>\n",
              "      <td>5.0000000</td>\n",
              "      <td>1397433600.0000000</td>\n",
              "    </tr>\n",
              "  </tbody>\n",
              "</table>\n",
              "</div>"
            ],
            "text/plain": [
              "           userId   productId    Rating          timestamp\n",
              "1  A2CX7LUOHB2NDG  0321732944 5.0000000 1341100800.0000000\n",
              "2  A2NWSAGRHCP8N5  0439886341 1.0000000 1367193600.0000000\n",
              "3  A2WNBOD3WNDNKT  0439886341 3.0000000 1374451200.0000000\n",
              "4  A1GI0U4ZRJA8WN  0439886341 1.0000000 1334707200.0000000\n",
              "5  A1QGNMC6O1VW39  0511189877 5.0000000 1397433600.0000000"
            ]
          },
          "metadata": {},
          "execution_count": 2
        }
      ]
    },
    {
      "cell_type": "markdown",
      "metadata": {
        "id": "i8c9Od9vYHFL"
      },
      "source": [
        "**DATA EXPLORATION**"
      ]
    },
    {
      "cell_type": "code",
      "metadata": {
        "colab": {
          "base_uri": "https://localhost:8080/"
        },
        "id": "XMGxaOy8X7wT",
        "outputId": "f99349bf-be82-4293-f9c6-d6cc25c8c27b"
      },
      "source": [
        "# Datatypes\n",
        "\n",
        "electronics_data.info()"
      ],
      "execution_count": null,
      "outputs": [
        {
          "output_type": "stream",
          "name": "stdout",
          "text": [
            "<class 'pandas.core.frame.DataFrame'>\n",
            "RangeIndex: 5662798 entries, 1 to 5662798\n",
            "Data columns (total 4 columns):\n",
            " #   Column     Dtype  \n",
            "---  ------     -----  \n",
            " 0   userId     object \n",
            " 1   productId  object \n",
            " 2   Rating     float64\n",
            " 3   timestamp  float64\n",
            "dtypes: float64(2), object(2)\n",
            "memory usage: 172.8+ MB\n"
          ]
        }
      ]
    },
    {
      "cell_type": "code",
      "metadata": {
        "colab": {
          "base_uri": "https://localhost:8080/"
        },
        "id": "xpxZpQMvX77C",
        "outputId": "7bec5c21-a494-4094-fd5a-29544ffe02c3"
      },
      "source": [
        "# Shape of the data\n",
        "electronics_data.shape"
      ],
      "execution_count": null,
      "outputs": [
        {
          "output_type": "execute_result",
          "data": {
            "text/plain": [
              "(5662798, 4)"
            ]
          },
          "metadata": {},
          "execution_count": 4
        }
      ]
    },
    {
      "cell_type": "code",
      "metadata": {
        "colab": {
          "base_uri": "https://localhost:8080/"
        },
        "id": "8eQG4-tbX8Ek",
        "outputId": "f2a247b7-0c7b-4c31-c859-3bd438f4a42d"
      },
      "source": [
        "# More on our data\n",
        "electronics_data.describe()['Rating'].T"
      ],
      "execution_count": null,
      "outputs": [
        {
          "output_type": "execute_result",
          "data": {
            "text/plain": [
              "count   5662797.0000000\n",
              "mean          3.9970031\n",
              "std           1.3911495\n",
              "min           1.0000000\n",
              "25%           3.0000000\n",
              "50%           5.0000000\n",
              "75%           5.0000000\n",
              "max           5.0000000\n",
              "Name: Rating, dtype: float64"
            ]
          },
          "metadata": {},
          "execution_count": 5
        }
      ]
    },
    {
      "cell_type": "code",
      "metadata": {
        "colab": {
          "base_uri": "https://localhost:8080/"
        },
        "id": "vtY4_9VhX8Ng",
        "outputId": "4df2c0b2-c88e-4462-e0bf-0a50635b1d7d"
      },
      "source": [
        "# Checking for any null or missing values\n",
        "print('Number of missing values across columns: \\n',electronics_data.isnull().sum())"
      ],
      "execution_count": null,
      "outputs": [
        {
          "output_type": "stream",
          "name": "stdout",
          "text": [
            "Number of missing values across columns: \n",
            " userId       0\n",
            "productId    1\n",
            "Rating       1\n",
            "timestamp    1\n",
            "dtype: int64\n"
          ]
        }
      ]
    },
    {
      "cell_type": "code",
      "metadata": {
        "colab": {
          "base_uri": "https://localhost:8080/"
        },
        "id": "iw7VE_qAZNEg",
        "outputId": "232befd6-cb2e-49ef-fb08-b308afd911bd"
      },
      "source": [
        "#Find the minimum and maximum ratings\n",
        "print('Minimum rating is: %d' %(electronics_data.Rating.min()))\n",
        "print('Maximum rating is: %d' %(electronics_data.Rating.max()))"
      ],
      "execution_count": null,
      "outputs": [
        {
          "output_type": "stream",
          "name": "stdout",
          "text": [
            "Minimum rating is: 1\n",
            "Maximum rating is: 5\n"
          ]
        }
      ]
    },
    {
      "cell_type": "markdown",
      "metadata": {
        "id": "_s_9pa84a6ys"
      },
      "source": [
        "**DATA DISTRIBUTION**"
      ]
    },
    {
      "cell_type": "code",
      "metadata": {
        "colab": {
          "base_uri": "https://localhost:8080/",
          "height": 392
        },
        "id": "3zcuu-wNfZjH",
        "outputId": "ff42bad3-e935-422f-9231-4fe894d256d0"
      },
      "source": [
        "\n",
        "sns.pairplot(electronics_data, diag_kind= 'kde')\n"
      ],
      "execution_count": null,
      "outputs": [
        {
          "output_type": "execute_result",
          "data": {
            "text/plain": [
              "<seaborn.axisgrid.PairGrid at 0x7fc9b06a3cd0>"
            ]
          },
          "metadata": {},
          "execution_count": 8
        },
        {
          "output_type": "display_data",
          "data": {
            "image/png": "[encoded data removed]",
            "text/plain": [
              "<Figure size 360x360 with 6 Axes>"
            ]
          },
          "metadata": {
            "needs_background": "light"
          }
        }
      ]
    },
    {
      "cell_type": "code",
      "metadata": {
        "colab": {
          "base_uri": "https://localhost:8080/",
          "height": 206
        },
        "id": "fiCo7dzoX8X1",
        "outputId": "e8ec104b-d170-456e-a760-aadf2ae584e8"
      },
      "source": [
        "# Checking the distribution of the ratings\n",
        "rating_counts = pd.DataFrame(electronics_data['Rating'].value_counts()).reset_index()\n",
        "rating_counts.columns = ['Labels', 'Ratings']\n",
        "rating_counts"
      ],
      "execution_count": null,
      "outputs": [
        {
          "output_type": "execute_result",
          "data": {
            "text/html": [
              "<div>\n",
              "<style scoped>\n",
              "    .dataframe tbody tr th:only-of-type {\n",
              "        vertical-align: middle;\n",
              "    }\n",
              "\n",
              "    .dataframe tbody tr th {\n",
              "        vertical-align: top;\n",
              "    }\n",
              "\n",
              "    .dataframe thead th {\n",
              "        text-align: right;\n",
              "    }\n",
              "</style>\n",
              "<table border=\"1\" class=\"dataframe\">\n",
              "  <thead>\n",
              "    <tr style=\"text-align: right;\">\n",
              "      <th></th>\n",
              "      <th>Labels</th>\n",
              "      <th>Ratings</th>\n",
              "    </tr>\n",
              "  </thead>\n",
              "  <tbody>\n",
              "    <tr>\n",
              "      <th>0</th>\n",
              "      <td>5.0000000</td>\n",
              "      <td>3122016</td>\n",
              "    </tr>\n",
              "    <tr>\n",
              "      <th>1</th>\n",
              "      <td>4.0000000</td>\n",
              "      <td>1079290</td>\n",
              "    </tr>\n",
              "    <tr>\n",
              "      <th>2</th>\n",
              "      <td>1.0000000</td>\n",
              "      <td>671624</td>\n",
              "    </tr>\n",
              "    <tr>\n",
              "      <th>3</th>\n",
              "      <td>3.0000000</td>\n",
              "      <td>455619</td>\n",
              "    </tr>\n",
              "    <tr>\n",
              "      <th>4</th>\n",
              "      <td>2.0000000</td>\n",
              "      <td>334248</td>\n",
              "    </tr>\n",
              "  </tbody>\n",
              "</table>\n",
              "</div>"
            ],
            "text/plain": [
              "     Labels  Ratings\n",
              "0 5.0000000  3122016\n",
              "1 4.0000000  1079290\n",
              "2 1.0000000   671624\n",
              "3 3.0000000   455619\n",
              "4 2.0000000   334248"
            ]
          },
          "metadata": {},
          "execution_count": 9
        }
      ]
    },
    {
      "cell_type": "code",
      "metadata": {
        "colab": {
          "base_uri": "https://localhost:8080/",
          "height": 790
        },
        "id": "emjJwbphkG5h",
        "outputId": "87b809c6-0b8a-406d-c9e3-4b568fde7357"
      },
      "source": [
        "fig, (ax1, ax2) = plt.subplots(nrows=1, ncols=2, figsize=(15,7))\n",
        "sns.countplot(electronics_data['Rating'], ax=ax1)\n",
        "ax1.set_xlabel('Rating Distribution', fontsize=10)\n",
        "ax1.set_ylabel('Count', fontsize=10)\n",
        "\n",
        "\n",
        "explode = (0.1, 0, 0.1, 0, 0)\n",
        "ax2.pie(rating_counts[\"Ratings\"], explode=explode, labels=rating_counts.Labels, autopct='%1.2f%%',\n",
        "        shadow=True, startangle=70)\n",
        "ax2.axis('equal')\n",
        "plt.title(\"Rating Ratio\")\n",
        "plt.legend(rating_counts.Labels, loc=3)\n",
        "plt.show()"
      ],
      "execution_count": null,
      "outputs": [
        {
          "output_type": "execute_result",
          "data": {
            "text/plain": [
              "<matplotlib.axes._subplots.AxesSubplot at 0x7fc9a51bb850>"
            ]
          },
          "metadata": {},
          "execution_count": 10
        },
        {
          "output_type": "execute_result",
          "data": {
            "text/plain": [
              "Text(0.5, 0, 'Rating Distribution')"
            ]
          },
          "metadata": {},
          "execution_count": 10
        },
        {
          "output_type": "execute_result",
          "data": {
            "text/plain": [
              "Text(0, 0.5, 'Count')"
            ]
          },
          "metadata": {},
          "execution_count": 10
        },
        {
          "output_type": "execute_result",
          "data": {
            "text/plain": [
              "([<matplotlib.patches.Wedge at 0x7fc9a4c96e50>,\n",
              "  <matplotlib.patches.Wedge at 0x7fc9a4c9e310>,\n",
              "  <matplotlib.patches.Wedge at 0x7fc9a4c360d0>,\n",
              "  <matplotlib.patches.Wedge at 0x7fc9a4c36ed0>,\n",
              "  <matplotlib.patches.Wedge at 0x7fc9a4c3edd0>],\n",
              " [Text(-1.1788923556547888, 0.22408215854615227, '5.0'),\n",
              "  Text(0.595590692513461, -0.9248090219020012, '4.0'),\n",
              "  Text(1.1995537583076403, -0.0327227891539711, '1.0'),\n",
              "  Text(0.9090496599490892, 0.619377684249639, '3.0'),\n",
              "  Text(0.560351081427255, 0.9465762861720687, '2.0')],\n",
              " [Text(-0.6876872074652934, 0.13071459248525547, '55.13%'),\n",
              "  Text(0.32486765046188776, -0.5044412846738188, '19.06%'),\n",
              "  Text(0.6997396923461235, -0.01908829367314981, '11.86%'),\n",
              "  Text(0.49584526906313947, 0.33784237322707583, '8.05%'),\n",
              "  Text(0.3056460444148663, 0.5163143379120374, '5.90%')])"
            ]
          },
          "metadata": {},
          "execution_count": 10
        },
        {
          "output_type": "execute_result",
          "data": {
            "text/plain": [
              "(-1.2182434569608511,\n",
              " 1.2135223459526252,\n",
              " -1.1066105187905693,\n",
              " 1.1289158276533633)"
            ]
          },
          "metadata": {},
          "execution_count": 10
        },
        {
          "output_type": "execute_result",
          "data": {
            "text/plain": [
              "Text(0.5, 1.0, 'Rating Ratio')"
            ]
          },
          "metadata": {},
          "execution_count": 10
        },
        {
          "output_type": "execute_result",
          "data": {
            "text/plain": [
              "<matplotlib.legend.Legend at 0x7fc9a4cdf790>"
            ]
          },
          "metadata": {},
          "execution_count": 10
        },
        {
          "output_type": "display_data",
          "data": {
            "image/png": "[encoded data removed]",
            "text/plain": [
              "<Figure size 1080x504 with 2 Axes>"
            ]
          },
          "metadata": {
            "needs_background": "light"
          }
        }
      ]
    },
    {
      "cell_type": "markdown",
      "metadata": {
        "id": "SZCB8bvVf1MI"
      },
      "source": [
        "**OBSERVATIONS:**\n",
        "\n",
        "We can see that most customers provide a rating of \"5\". Very few customers have given a rating of \"2\". \n",
        "\n",
        "From the barplot and pia chart we can clearly see that approx 55% of data have 5 rating followed by 4(approx 19%). Least number of people have given 2 rating. \n",
        "\n",
        "Either most products are liked by customers or there is more to investigate such as dropping of reviews by bots or promotional events. \n",
        "\n",
        "Are customers asked for feedback, if they give a lower rating thus making it easier to go with a rating of \"5\"?"
      ]
    },
    {
      "cell_type": "markdown",
      "metadata": {
        "id": "x0h_5KZjbC_r"
      },
      "source": [
        "**UNIQUE USERS AND NUMBER OF UNIQUE PRODUCTS**"
      ]
    },
    {
      "cell_type": "code",
      "metadata": {
        "id": "0767NVZ3j4mN"
      },
      "source": [
        "electronics_data.productId = electronics_data.productId.fillna('')"
      ],
      "execution_count": null,
      "outputs": []
    },
    {
      "cell_type": "code",
      "metadata": {
        "colab": {
          "base_uri": "https://localhost:8080/"
        },
        "id": "u6bglPj2a4b9",
        "outputId": "207759b8-4ae4-4c55-c334-ba1c984645b9"
      },
      "source": [
        "print(\"\\nTotal no of Ratings :\",electronics_data.shape[0])\n",
        "print(\"Total No of Users   :\", len(np.unique(electronics_data.userId)))\n",
        "print(\"Total No of Products  :\", len(np.unique(electronics_data.productId)))"
      ],
      "execution_count": null,
      "outputs": [
        {
          "output_type": "stream",
          "name": "stdout",
          "text": [
            "\n",
            "Total no of Ratings : 5662798\n",
            "Total No of Users   : 3250519\n",
            "Total No of Products  : 310624\n"
          ]
        }
      ]
    },
    {
      "cell_type": "code",
      "metadata": {
        "id": "gC8gIQN8a4nW"
      },
      "source": [
        "#Dropping the Timestamp Column and it is not needed for our analysis\n",
        "\n",
        "electronics_data.drop(['timestamp'], axis=1,inplace=True)"
      ],
      "execution_count": null,
      "outputs": []
    },
    {
      "cell_type": "markdown",
      "metadata": {
        "id": "-UwKu3H-lu1s"
      },
      "source": [
        "**POPULARITY BASED RECOMMENDER**\n",
        "\n",
        "Popularity based recommendation system uses the most frequently sold items to drive sales. For example, if any product which is usually bought by every new user then there are chances that it may suggest that item to the user who just signed up.\n",
        "\n",
        "The problems with popularity based recommendation system is that the personalization is not available with this method i.e. even though you know the behaviour of the user you cannot recommend items accordingly.\n",
        "\n",
        "This is good for new users when data is not available on their preferences.\n"
      ]
    },
    {
      "cell_type": "code",
      "metadata": {
        "id": "EWbWRTFya4zD"
      },
      "source": [
        "#  Taking Subset of users who have given 50 or more number of ratings\n",
        "users_counts = electronics_data['userId'].value_counts().rename('users_counts')\n",
        "users_data   = electronics_data.merge(users_counts.to_frame(),\n",
        "                                left_on='userId',\n",
        "                                right_index=True)"
      ],
      "execution_count": null,
      "outputs": []
    },
    {
      "cell_type": "code",
      "metadata": {
        "colab": {
          "base_uri": "https://localhost:8080/",
          "height": 206
        },
        "id": "8LTygCqkltfW",
        "outputId": "c41e8d04-a78c-4963-9379-c10ec96a6520"
      },
      "source": [
        "subset_df = users_data[users_data.users_counts >= 50]\n",
        "subset_df.tail()\n",
        "\n",
        "# Customers who have rated more than 50 products. These customers seem like they are regular buyers and provide regular feedback."
      ],
      "execution_count": null,
      "outputs": [
        {
          "output_type": "execute_result",
          "data": {
            "text/html": [
              "<div>\n",
              "<style scoped>\n",
              "    .dataframe tbody tr th:only-of-type {\n",
              "        vertical-align: middle;\n",
              "    }\n",
              "\n",
              "    .dataframe tbody tr th {\n",
              "        vertical-align: top;\n",
              "    }\n",
              "\n",
              "    .dataframe thead th {\n",
              "        text-align: right;\n",
              "    }\n",
              "</style>\n",
              "<table border=\"1\" class=\"dataframe\">\n",
              "  <thead>\n",
              "    <tr style=\"text-align: right;\">\n",
              "      <th></th>\n",
              "      <th>userId</th>\n",
              "      <th>productId</th>\n",
              "      <th>Rating</th>\n",
              "      <th>users_counts</th>\n",
              "    </tr>\n",
              "  </thead>\n",
              "  <tbody>\n",
              "    <tr>\n",
              "      <th>5303809</th>\n",
              "      <td>A34BZM6S9L7QI4</td>\n",
              "      <td>B0064R9H2A</td>\n",
              "      <td>5.0000000</td>\n",
              "      <td>58</td>\n",
              "    </tr>\n",
              "    <tr>\n",
              "      <th>5428704</th>\n",
              "      <td>A34BZM6S9L7QI4</td>\n",
              "      <td>B006LVZDSQ</td>\n",
              "      <td>5.0000000</td>\n",
              "      <td>58</td>\n",
              "    </tr>\n",
              "    <tr>\n",
              "      <th>5587943</th>\n",
              "      <td>A34BZM6S9L7QI4</td>\n",
              "      <td>B00746YHV6</td>\n",
              "      <td>5.0000000</td>\n",
              "      <td>58</td>\n",
              "    </tr>\n",
              "    <tr>\n",
              "      <th>5595111</th>\n",
              "      <td>A34BZM6S9L7QI4</td>\n",
              "      <td>B0074BW614</td>\n",
              "      <td>5.0000000</td>\n",
              "      <td>58</td>\n",
              "    </tr>\n",
              "    <tr>\n",
              "      <th>5614392</th>\n",
              "      <td>A34BZM6S9L7QI4</td>\n",
              "      <td>B0074FGNDC</td>\n",
              "      <td>5.0000000</td>\n",
              "      <td>58</td>\n",
              "    </tr>\n",
              "  </tbody>\n",
              "</table>\n",
              "</div>"
            ],
            "text/plain": [
              "                 userId   productId    Rating  users_counts\n",
              "5303809  A34BZM6S9L7QI4  B0064R9H2A 5.0000000            58\n",
              "5428704  A34BZM6S9L7QI4  B006LVZDSQ 5.0000000            58\n",
              "5587943  A34BZM6S9L7QI4  B00746YHV6 5.0000000            58\n",
              "5595111  A34BZM6S9L7QI4  B0074BW614 5.0000000            58\n",
              "5614392  A34BZM6S9L7QI4  B0074FGNDC 5.0000000            58"
            ]
          },
          "metadata": {},
          "execution_count": 15
        }
      ]
    },
    {
      "cell_type": "markdown",
      "metadata": {
        "id": "nMXbusE6naCX"
      },
      "source": [
        "**Resolving the \"Grey Sheep\" Problem:**\n",
        "\n",
        "\"Recommender Systems have been successfully applied to alleviate the information overload problem and assist the process of decision making. Collaborative filtering, as one of the most popular recommendation algorithms, has been fully explored and developed in the past two decades. However, one of the challenges in collaborative filtering, the problem of \"Grey Sheep\" user, is still under investigation. \"Grey Sheep\" users is a group of the users who have special tastes and they may neither agree nor disagree with the majority of the users. The identification of them becomes a challenge in collaborative filtering, since they may introduce difficulties to produce accurate collaborative recommendations\" (Source:https://dl.acm.org/doi/abs/10.1145/3125649.3125651)"
      ]
    },
    {
      "cell_type": "code",
      "metadata": {
        "colab": {
          "base_uri": "https://localhost:8080/",
          "height": 206
        },
        "id": "aiJGGXQVmjz-",
        "outputId": "30441aa5-38d2-4d0b-a26a-59b538c14c9d"
      },
      "source": [
        "# We resolve the \"Grey Sheep\" Problem by taking a subset of products that have 10 or more ratings. \n",
        "# This will ensure that these are commonly purchased and rated.\n",
        "product_rating_counts = subset_df['productId'].value_counts().rename('product_rating_counts')\n",
        "product_rating_data   = subset_df.merge(product_rating_counts.to_frame(),\n",
        "                                left_on='productId',\n",
        "                                right_index=True)\n",
        "product_rating_data = product_rating_data[product_rating_data.product_rating_counts >= 10]\n",
        "product_rating_data.tail()\n"
      ],
      "execution_count": null,
      "outputs": [
        {
          "output_type": "execute_result",
          "data": {
            "text/html": [
              "<div>\n",
              "<style scoped>\n",
              "    .dataframe tbody tr th:only-of-type {\n",
              "        vertical-align: middle;\n",
              "    }\n",
              "\n",
              "    .dataframe tbody tr th {\n",
              "        vertical-align: top;\n",
              "    }\n",
              "\n",
              "    .dataframe thead th {\n",
              "        text-align: right;\n",
              "    }\n",
              "</style>\n",
              "<table border=\"1\" class=\"dataframe\">\n",
              "  <thead>\n",
              "    <tr style=\"text-align: right;\">\n",
              "      <th></th>\n",
              "      <th>userId</th>\n",
              "      <th>productId</th>\n",
              "      <th>Rating</th>\n",
              "      <th>users_counts</th>\n",
              "      <th>product_rating_counts</th>\n",
              "    </tr>\n",
              "  </thead>\n",
              "  <tbody>\n",
              "    <tr>\n",
              "      <th>2850789</th>\n",
              "      <td>A4D5B7Q8A7PA6</td>\n",
              "      <td>B002TLTE7I</td>\n",
              "      <td>5.0000000</td>\n",
              "      <td>72</td>\n",
              "      <td>12</td>\n",
              "    </tr>\n",
              "    <tr>\n",
              "      <th>2850750</th>\n",
              "      <td>A2503LT8PZIHAD</td>\n",
              "      <td>B002TLTE7I</td>\n",
              "      <td>4.0000000</td>\n",
              "      <td>65</td>\n",
              "      <td>12</td>\n",
              "    </tr>\n",
              "    <tr>\n",
              "      <th>2850765</th>\n",
              "      <td>ABIVKBMSIPEDY</td>\n",
              "      <td>B002TLTE7I</td>\n",
              "      <td>5.0000000</td>\n",
              "      <td>84</td>\n",
              "      <td>12</td>\n",
              "    </tr>\n",
              "    <tr>\n",
              "      <th>2850791</th>\n",
              "      <td>A20L63B48RPSOH</td>\n",
              "      <td>B002TLTE7I</td>\n",
              "      <td>3.0000000</td>\n",
              "      <td>59</td>\n",
              "      <td>12</td>\n",
              "    </tr>\n",
              "    <tr>\n",
              "      <th>2850788</th>\n",
              "      <td>A2KHG3JOFXQ4CE</td>\n",
              "      <td>B002TLTE7I</td>\n",
              "      <td>3.0000000</td>\n",
              "      <td>50</td>\n",
              "      <td>12</td>\n",
              "    </tr>\n",
              "  </tbody>\n",
              "</table>\n",
              "</div>"
            ],
            "text/plain": [
              "                 userId   productId    Rating  users_counts  \\\n",
              "2850789   A4D5B7Q8A7PA6  B002TLTE7I 5.0000000            72   \n",
              "2850750  A2503LT8PZIHAD  B002TLTE7I 4.0000000            65   \n",
              "2850765   ABIVKBMSIPEDY  B002TLTE7I 5.0000000            84   \n",
              "2850791  A20L63B48RPSOH  B002TLTE7I 3.0000000            59   \n",
              "2850788  A2KHG3JOFXQ4CE  B002TLTE7I 3.0000000            50   \n",
              "\n",
              "         product_rating_counts  \n",
              "2850789                     12  \n",
              "2850750                     12  \n",
              "2850765                     12  \n",
              "2850791                     12  \n",
              "2850788                     12  "
            ]
          },
          "metadata": {},
          "execution_count": 16
        }
      ]
    },
    {
      "cell_type": "code",
      "metadata": {
        "colab": {
          "base_uri": "https://localhost:8080/",
          "height": 303
        },
        "id": "Zm8tv_0fqjU2",
        "outputId": "60e21bd3-ff63-48d3-940f-2cb3c8c83285"
      },
      "source": [
        "no_of_ratings_per_product = product_rating_data.groupby(by='productId')['Rating'].count().sort_values(ascending=False)\n",
        "\n",
        "fig = plt.figure(figsize=plt.figaspect(.5))\n",
        "ax = plt.gca()\n",
        "plt.plot(no_of_ratings_per_product.values)\n",
        "plt.title('# RATINGS per Product')\n",
        "plt.xlabel('Product')\n",
        "plt.ylabel('No of ratings per product')\n",
        "ax.set_xticklabels([])\n",
        "\n",
        "plt.show()"
      ],
      "execution_count": null,
      "outputs": [
        {
          "output_type": "execute_result",
          "data": {
            "text/plain": [
              "[<matplotlib.lines.Line2D at 0x7fc9a8210c90>]"
            ]
          },
          "metadata": {},
          "execution_count": 17
        },
        {
          "output_type": "execute_result",
          "data": {
            "text/plain": [
              "Text(0.5, 1.0, '# RATINGS per Product')"
            ]
          },
          "metadata": {},
          "execution_count": 17
        },
        {
          "output_type": "execute_result",
          "data": {
            "text/plain": [
              "Text(0.5, 0, 'Product')"
            ]
          },
          "metadata": {},
          "execution_count": 17
        },
        {
          "output_type": "execute_result",
          "data": {
            "text/plain": [
              "Text(0, 0.5, 'No of ratings per product')"
            ]
          },
          "metadata": {},
          "execution_count": 17
        },
        {
          "output_type": "execute_result",
          "data": {
            "text/plain": [
              "[]"
            ]
          },
          "metadata": {},
          "execution_count": 17
        },
        {
          "output_type": "display_data",
          "data": {
            "image/png": "[encoded data removed]",
            "text/plain": [
              "<Figure size 576x288 with 1 Axes>"
            ]
          },
          "metadata": {
            "needs_background": "light"
          }
        }
      ]
    },
    {
      "cell_type": "code",
      "metadata": {
        "colab": {
          "base_uri": "https://localhost:8080/"
        },
        "id": "oF9mSGSYq7d-",
        "outputId": "8540cfdf-808b-4969-e768-af346fa69786"
      },
      "source": [
        "#Average rating of the product \n",
        "\n",
        "product_rating_data.groupby('productId')['Rating'].mean().head()"
      ],
      "execution_count": null,
      "outputs": [
        {
          "output_type": "execute_result",
          "data": {
            "text/plain": [
              "productId\n",
              "B00001WRSJ   4.3000000\n",
              "B00004SB92   4.3333333\n",
              "B00004T8R2   4.4375000\n",
              "B00004WCIC   4.3076923\n",
              "B00004XOM3   4.7000000\n",
              "Name: Rating, dtype: float64"
            ]
          },
          "metadata": {},
          "execution_count": 18
        }
      ]
    },
    {
      "cell_type": "code",
      "metadata": {
        "colab": {
          "base_uri": "https://localhost:8080/"
        },
        "id": "det14Bxxq7p2",
        "outputId": "59c4ae6a-3753-4563-e28c-b669c3c8d4bc"
      },
      "source": [
        "product_rating_data.groupby('productId')['Rating'].mean().sort_values(ascending=False).head()"
      ],
      "execution_count": null,
      "outputs": [
        {
          "output_type": "execute_result",
          "data": {
            "text/plain": [
              "productId\n",
              "B000FQ2JLW   5.0000000\n",
              "B0052SCU8U   5.0000000\n",
              "B0033PRWSW   5.0000000\n",
              "B000067RT6   5.0000000\n",
              "B000I1X3W8   5.0000000\n",
              "Name: Rating, dtype: float64"
            ]
          },
          "metadata": {},
          "execution_count": 19
        }
      ]
    },
    {
      "cell_type": "code",
      "metadata": {
        "colab": {
          "base_uri": "https://localhost:8080/"
        },
        "id": "RrRTaJ1aq7zG",
        "outputId": "e44c285e-23cd-4e49-fb82-b3aa82247e0a"
      },
      "source": [
        "#Top Products with maximum ratings of \"5\"\n",
        "\n",
        "product_rating_data.groupby('productId')['Rating'].count().sort_values(ascending=False).head()"
      ],
      "execution_count": null,
      "outputs": [
        {
          "output_type": "execute_result",
          "data": {
            "text/plain": [
              "productId\n",
              "B003ES5ZUU    107\n",
              "B002R5AM7C     93\n",
              "B000N99BBC     92\n",
              "B002V88HFE     72\n",
              "B002WE6D44     67\n",
              "Name: Rating, dtype: int64"
            ]
          },
          "metadata": {},
          "execution_count": 20
        }
      ]
    },
    {
      "cell_type": "code",
      "metadata": {
        "colab": {
          "base_uri": "https://localhost:8080/",
          "height": 237
        },
        "id": "P4kktTQYq726",
        "outputId": "1a0b0f26-db78-473a-f93a-e2722f15561a"
      },
      "source": [
        "ratings_mean_count = pd.DataFrame(product_rating_data.groupby('productId')['Rating'].mean())\n",
        "ratings_mean_count['rating_counts'] = pd.DataFrame(product_rating_data.groupby('productId')['Rating'].count())\n",
        "ratings_mean_count.head()"
      ],
      "execution_count": null,
      "outputs": [
        {
          "output_type": "execute_result",
          "data": {
            "text/html": [
              "<div>\n",
              "<style scoped>\n",
              "    .dataframe tbody tr th:only-of-type {\n",
              "        vertical-align: middle;\n",
              "    }\n",
              "\n",
              "    .dataframe tbody tr th {\n",
              "        vertical-align: top;\n",
              "    }\n",
              "\n",
              "    .dataframe thead th {\n",
              "        text-align: right;\n",
              "    }\n",
              "</style>\n",
              "<table border=\"1\" class=\"dataframe\">\n",
              "  <thead>\n",
              "    <tr style=\"text-align: right;\">\n",
              "      <th></th>\n",
              "      <th>Rating</th>\n",
              "      <th>rating_counts</th>\n",
              "    </tr>\n",
              "    <tr>\n",
              "      <th>productId</th>\n",
              "      <th></th>\n",
              "      <th></th>\n",
              "    </tr>\n",
              "  </thead>\n",
              "  <tbody>\n",
              "    <tr>\n",
              "      <th>B00001WRSJ</th>\n",
              "      <td>4.3000000</td>\n",
              "      <td>10</td>\n",
              "    </tr>\n",
              "    <tr>\n",
              "      <th>B00004SB92</th>\n",
              "      <td>4.3333333</td>\n",
              "      <td>18</td>\n",
              "    </tr>\n",
              "    <tr>\n",
              "      <th>B00004T8R2</th>\n",
              "      <td>4.4375000</td>\n",
              "      <td>16</td>\n",
              "    </tr>\n",
              "    <tr>\n",
              "      <th>B00004WCIC</th>\n",
              "      <td>4.3076923</td>\n",
              "      <td>13</td>\n",
              "    </tr>\n",
              "    <tr>\n",
              "      <th>B00004XOM3</th>\n",
              "      <td>4.7000000</td>\n",
              "      <td>10</td>\n",
              "    </tr>\n",
              "  </tbody>\n",
              "</table>\n",
              "</div>"
            ],
            "text/plain": [
              "              Rating  rating_counts\n",
              "productId                          \n",
              "B00001WRSJ 4.3000000             10\n",
              "B00004SB92 4.3333333             18\n",
              "B00004T8R2 4.4375000             16\n",
              "B00004WCIC 4.3076923             13\n",
              "B00004XOM3 4.7000000             10"
            ]
          },
          "metadata": {},
          "execution_count": 21
        }
      ]
    },
    {
      "cell_type": "code",
      "metadata": {
        "colab": {
          "base_uri": "https://localhost:8080/",
          "height": 392
        },
        "id": "UZ9FZxv5q77f",
        "outputId": "ef1b2550-d851-458a-852a-12a7cf95d5e8"
      },
      "source": [
        "plt.figure(figsize=(8,6))\n",
        "plt.rcParams['patch.force_edgecolor'] = True\n",
        "ratings_mean_count['rating_counts'].hist(bins=20)"
      ],
      "execution_count": null,
      "outputs": [
        {
          "output_type": "execute_result",
          "data": {
            "text/plain": [
              "<Figure size 576x432 with 0 Axes>"
            ]
          },
          "metadata": {},
          "execution_count": 22
        },
        {
          "output_type": "execute_result",
          "data": {
            "text/plain": [
              "<matplotlib.axes._subplots.AxesSubplot at 0x7fc9a4b98cd0>"
            ]
          },
          "metadata": {},
          "execution_count": 22
        },
        {
          "output_type": "display_data",
          "data": {
            "image/png": "[encoded data removed]",
            "text/plain": [
              "<Figure size 576x432 with 1 Axes>"
            ]
          },
          "metadata": {
            "needs_background": "light"
          }
        }
      ]
    },
    {
      "cell_type": "markdown",
      "metadata": {
        "id": "BL0MNphx0OVc"
      },
      "source": [
        "**OBSERVATION:**\n",
        "\n",
        "We see that the most customers have reviewed the top 25 products. This leads us to the conclusion that this seems to be the most popular product."
      ]
    },
    {
      "cell_type": "code",
      "metadata": {
        "colab": {
          "base_uri": "https://localhost:8080/",
          "height": 392
        },
        "id": "vHsXvk-aq7-M",
        "outputId": "9006c07e-fb4b-4cc6-8005-2c15dea560d5"
      },
      "source": [
        "plt.figure(figsize=(8,6))\n",
        "plt.rcParams['patch.force_edgecolor'] = True\n",
        "ratings_mean_count['Rating'].hist(bins=50)"
      ],
      "execution_count": null,
      "outputs": [
        {
          "output_type": "execute_result",
          "data": {
            "text/plain": [
              "<Figure size 576x432 with 0 Axes>"
            ]
          },
          "metadata": {},
          "execution_count": 23
        },
        {
          "output_type": "execute_result",
          "data": {
            "text/plain": [
              "<matplotlib.axes._subplots.AxesSubplot at 0x7fc9a4ba27d0>"
            ]
          },
          "metadata": {},
          "execution_count": 23
        },
        {
          "output_type": "display_data",
          "data": {
            "image/png": "[encoded data removed]",
            "text/plain": [
              "<Figure size 576x432 with 1 Axes>"
            ]
          },
          "metadata": {
            "needs_background": "light"
          }
        }
      ]
    },
    {
      "cell_type": "markdown",
      "metadata": {
        "id": "4nT13Jbh2DcH"
      },
      "source": [
        "**OBSERVATION**\n",
        "\n",
        "Here we see that the items with most ratings seem to be popular and consistently score between Rating \"4\" to Rating \"5\""
      ]
    },
    {
      "cell_type": "code",
      "metadata": {
        "colab": {
          "base_uri": "https://localhost:8080/",
          "height": 477
        },
        "id": "mKsh2tJjq8Bd",
        "outputId": "7c357575-6afb-4141-cc00-ef995c76b850"
      },
      "source": [
        "# Lets see the data on a jointplot\n",
        "plt.figure(figsize=(8,6))\n",
        "plt.rcParams['patch.force_edgecolor'] = True\n",
        "sns.jointplot(x='Rating', y='rating_counts', data=ratings_mean_count, alpha=0.4)"
      ],
      "execution_count": null,
      "outputs": [
        {
          "output_type": "execute_result",
          "data": {
            "text/plain": [
              "<Figure size 576x432 with 0 Axes>"
            ]
          },
          "metadata": {},
          "execution_count": 24
        },
        {
          "output_type": "execute_result",
          "data": {
            "text/plain": [
              "<seaborn.axisgrid.JointGrid at 0x7fc9a49a0d90>"
            ]
          },
          "metadata": {},
          "execution_count": 24
        },
        {
          "output_type": "display_data",
          "data": {
            "text/plain": [
              "<Figure size 576x432 with 0 Axes>"
            ]
          },
          "metadata": {}
        },
        {
          "output_type": "display_data",
          "data": {
            "image/png": "[encoded data removed]",
            "text/plain": [
              "<Figure size 432x432 with 3 Axes>"
            ]
          },
          "metadata": {
            "needs_background": "light"
          }
        }
      ]
    },
    {
      "cell_type": "code",
      "metadata": {
        "colab": {
          "base_uri": "https://localhost:8080/",
          "height": 356
        },
        "id": "dIzZtRjqq8Fm",
        "outputId": "484a643f-4335-4582-b5b7-dc101bb2e8d5"
      },
      "source": [
        "popular_products = pd.DataFrame(product_rating_data.groupby('productId')['Rating'].count())\n",
        "most_popular = popular_products.sort_values('Rating', ascending=False)\n",
        "most_popular.head(10).plot(kind = \"bar\")"
      ],
      "execution_count": null,
      "outputs": [
        {
          "output_type": "execute_result",
          "data": {
            "text/plain": [
              "<matplotlib.axes._subplots.AxesSubplot at 0x7fc9a4841e50>"
            ]
          },
          "metadata": {},
          "execution_count": 25
        },
        {
          "output_type": "display_data",
          "data": {
            "image/png": "[encoded data removed]",
            "text/plain": [
              "<Figure size 432x288 with 1 Axes>"
            ]
          },
          "metadata": {
            "needs_background": "light"
          }
        }
      ]
    },
    {
      "cell_type": "markdown",
      "metadata": {
        "id": "5MWdzzHv3gS0"
      },
      "source": [
        "The above chart shows us the Top 10 Recommended Products based on popularity"
      ]
    },
    {
      "cell_type": "markdown",
      "metadata": {
        "id": "-BKtftcA5gxy"
      },
      "source": [
        "**DATA PREPARATION**\n",
        "\n"
      ]
    },
    {
      "cell_type": "code",
      "metadata": {
        "id": "HZEH4gSOq8Jy"
      },
      "source": [
        "df1=product_rating_data.copy()\n",
        "df2 = df1.drop(['users_counts', 'product_rating_counts'], axis=1)"
      ],
      "execution_count": null,
      "outputs": []
    },
    {
      "cell_type": "code",
      "metadata": {
        "colab": {
          "base_uri": "https://localhost:8080/",
          "height": 206
        },
        "id": "1nvHvgewq8MB",
        "outputId": "f4e03dc7-ba34-48a0-caa6-d6297010dd83"
      },
      "source": [
        "df2.head()"
      ],
      "execution_count": null,
      "outputs": [
        {
          "output_type": "execute_result",
          "data": {
            "text/html": [
              "<div>\n",
              "<style scoped>\n",
              "    .dataframe tbody tr th:only-of-type {\n",
              "        vertical-align: middle;\n",
              "    }\n",
              "\n",
              "    .dataframe tbody tr th {\n",
              "        vertical-align: top;\n",
              "    }\n",
              "\n",
              "    .dataframe thead th {\n",
              "        text-align: right;\n",
              "    }\n",
              "</style>\n",
              "<table border=\"1\" class=\"dataframe\">\n",
              "  <thead>\n",
              "    <tr style=\"text-align: right;\">\n",
              "      <th></th>\n",
              "      <th>userId</th>\n",
              "      <th>productId</th>\n",
              "      <th>Rating</th>\n",
              "    </tr>\n",
              "  </thead>\n",
              "  <tbody>\n",
              "    <tr>\n",
              "      <th>169871</th>\n",
              "      <td>AT09WGFUM934H</td>\n",
              "      <td>B00006B7DA</td>\n",
              "      <td>4.0000000</td>\n",
              "    </tr>\n",
              "    <tr>\n",
              "      <th>170269</th>\n",
              "      <td>A32HSNCNPRUMTR</td>\n",
              "      <td>B00006B7DA</td>\n",
              "      <td>5.0000000</td>\n",
              "    </tr>\n",
              "    <tr>\n",
              "      <th>170243</th>\n",
              "      <td>A30X750M8V1XXW</td>\n",
              "      <td>B00006B7DA</td>\n",
              "      <td>5.0000000</td>\n",
              "    </tr>\n",
              "    <tr>\n",
              "      <th>169834</th>\n",
              "      <td>A680RUE1FDO8B</td>\n",
              "      <td>B00006B7DA</td>\n",
              "      <td>5.0000000</td>\n",
              "    </tr>\n",
              "    <tr>\n",
              "      <th>170363</th>\n",
              "      <td>A1F9Z42CFF9IAY</td>\n",
              "      <td>B00006B7DA</td>\n",
              "      <td>5.0000000</td>\n",
              "    </tr>\n",
              "  </tbody>\n",
              "</table>\n",
              "</div>"
            ],
            "text/plain": [
              "                userId   productId    Rating\n",
              "169871   AT09WGFUM934H  B00006B7DA 4.0000000\n",
              "170269  A32HSNCNPRUMTR  B00006B7DA 5.0000000\n",
              "170243  A30X750M8V1XXW  B00006B7DA 5.0000000\n",
              "169834   A680RUE1FDO8B  B00006B7DA 5.0000000\n",
              "170363  A1F9Z42CFF9IAY  B00006B7DA 5.0000000"
            ]
          },
          "metadata": {},
          "execution_count": 27
        }
      ]
    },
    {
      "cell_type": "code",
      "metadata": {
        "id": "199celAm7x_8",
        "colab": {
          "base_uri": "https://localhost:8080/"
        },
        "outputId": "a5fc0c12-3752-45ab-b706-82286af4373d"
      },
      "source": [
        "!pip3 install numpy\n",
        "!pip3 install scikit-surprise"
      ],
      "execution_count": null,
      "outputs": [
        {
          "output_type": "stream",
          "name": "stdout",
          "text": [
            "Requirement already satisfied: numpy in /usr/local/lib/python3.7/dist-packages (1.19.5)\n",
            "Collecting scikit-surprise\n",
            "  Downloading scikit-surprise-1.1.1.tar.gz (11.8 MB)\n",
            "\u001b[K     |████████████████████████████████| 11.8 MB 5.8 MB/s \n",
            "\u001b[?25hRequirement already satisfied: joblib>=0.11 in /usr/local/lib/python3.7/dist-packages (from scikit-surprise) (1.0.1)\n",
            "Requirement already satisfied: numpy>=1.11.2 in /usr/local/lib/python3.7/dist-packages (from scikit-surprise) (1.19.5)\n",
            "Requirement already satisfied: scipy>=1.0.0 in /usr/local/lib/python3.7/dist-packages (from scikit-surprise) (1.4.1)\n",
            "Requirement already satisfied: six>=1.10.0 in /usr/local/lib/python3.7/dist-packages (from scikit-surprise) (1.15.0)\n",
            "Building wheels for collected packages: scikit-surprise\n",
            "  Building wheel for scikit-surprise (setup.py) ... \u001b[?25l\u001b[?25hdone\n",
            "  Created wheel for scikit-surprise: filename=scikit_surprise-1.1.1-cp37-cp37m-linux_x86_64.whl size=1619418 sha256=88bde8dc26cb3f3c11af02bd2a56c1a84e048f67e098eaede95ed874cc08ec36\n",
            "  Stored in directory: /root/.cache/pip/wheels/76/44/74/b498c42be47b2406bd27994e16c5188e337c657025ab400c1c\n",
            "Successfully built scikit-surprise\n",
            "Installing collected packages: scikit-surprise\n",
            "Successfully installed scikit-surprise-1.1.1\n"
          ]
        }
      ]
    },
    {
      "cell_type": "code",
      "metadata": {
        "id": "cwAR5Nrz61bW"
      },
      "source": [
        "from collections import defaultdict\n",
        "from surprise import KNNWithMeans\n",
        "from surprise import SVD, SVDpp\n",
        "from surprise import KNNBaseline\n",
        "from surprise import KNNBasic\n",
        "from surprise import KNNWithZScore\n",
        "from surprise import BaselineOnly\n",
        "from surprise import Dataset\n",
        "from surprise import Reader\n",
        "from surprise import accuracy\n",
        "from surprise.model_selection import train_test_split\n",
        "from surprise.model_selection import cross_validate\n",
        "from surprise.model_selection import KFold\n",
        "from surprise.model_selection import GridSearchCV\n",
        "\n",
        "import time"
      ],
      "execution_count": null,
      "outputs": []
    },
    {
      "cell_type": "code",
      "metadata": {
        "id": "sJy33egTq8Pv"
      },
      "source": [
        "# Spliting the data randomly into train and test dataset. (Split it in 70/30 ratio)\n",
        "\n",
        "k = 5 \n",
        "#(To Get top - K ( K = 5) recommendations)\n",
        "reader = Reader(rating_scale=(1, 5))\n",
        "surprise_data = Dataset.load_from_df(df2[['userId', 'productId', 'Rating']], reader)\n",
        "trainset, testset = train_test_split(surprise_data, test_size=.30, random_state=7)"
      ],
      "execution_count": null,
      "outputs": []
    },
    {
      "cell_type": "markdown",
      "metadata": {
        "id": "DHyieHL28TBS"
      },
      "source": [
        "**DATA MODELING**\n",
        "\n",
        "Here we will try two types of Popularity Recommender Models - \n",
        "\n",
        "1) Using Mean Product Rating\n",
        "\n",
        "2) Using Ranking Based Rating"
      ]
    },
    {
      "cell_type": "code",
      "metadata": {
        "colab": {
          "base_uri": "https://localhost:8080/"
        },
        "id": "7m4dPGSW9Fk5",
        "outputId": "46955460-57ba-41de-bb91-bdd78f4b9e4f"
      },
      "source": [
        "# 1) Using Mean Product Rating\n",
        "df2.groupby('productId')['Rating'].mean().head()"
      ],
      "execution_count": null,
      "outputs": [
        {
          "output_type": "execute_result",
          "data": {
            "text/plain": [
              "productId\n",
              "B00001WRSJ   4.3000000\n",
              "B00004SB92   4.3333333\n",
              "B00004T8R2   4.4375000\n",
              "B00004WCIC   4.3076923\n",
              "B00004XOM3   4.7000000\n",
              "Name: Rating, dtype: float64"
            ]
          },
          "metadata": {},
          "execution_count": 31
        }
      ]
    },
    {
      "cell_type": "code",
      "metadata": {
        "colab": {
          "base_uri": "https://localhost:8080/"
        },
        "id": "FoUOQsYK9F_f",
        "outputId": "e5d63422-0365-481d-a7b4-ae867a259b4f"
      },
      "source": [
        "df2.groupby('productId')['Rating'].mean().sort_values(ascending=False).head()"
      ],
      "execution_count": null,
      "outputs": [
        {
          "output_type": "execute_result",
          "data": {
            "text/plain": [
              "productId\n",
              "B000FQ2JLW   5.0000000\n",
              "B0052SCU8U   5.0000000\n",
              "B0033PRWSW   5.0000000\n",
              "B000067RT6   5.0000000\n",
              "B000I1X3W8   5.0000000\n",
              "Name: Rating, dtype: float64"
            ]
          },
          "metadata": {},
          "execution_count": 32
        }
      ]
    },
    {
      "cell_type": "code",
      "metadata": {
        "colab": {
          "base_uri": "https://localhost:8080/",
          "height": 237
        },
        "id": "Y9FduWyd9y2x",
        "outputId": "3a71c4b6-aa65-4a5a-c77d-44520f636de7"
      },
      "source": [
        "prod_rating_count = pd.DataFrame(df2.groupby('productId')['Rating'].mean().sort_values(ascending=False))\n",
        "prod_rating_count['prod_rating_count'] = pd.DataFrame(df2.groupby('productId')['Rating'].count())\n",
        "prod_rating_count.head(k)"
      ],
      "execution_count": null,
      "outputs": [
        {
          "output_type": "execute_result",
          "data": {
            "text/html": [
              "<div>\n",
              "<style scoped>\n",
              "    .dataframe tbody tr th:only-of-type {\n",
              "        vertical-align: middle;\n",
              "    }\n",
              "\n",
              "    .dataframe tbody tr th {\n",
              "        vertical-align: top;\n",
              "    }\n",
              "\n",
              "    .dataframe thead th {\n",
              "        text-align: right;\n",
              "    }\n",
              "</style>\n",
              "<table border=\"1\" class=\"dataframe\">\n",
              "  <thead>\n",
              "    <tr style=\"text-align: right;\">\n",
              "      <th></th>\n",
              "      <th>Rating</th>\n",
              "      <th>prod_rating_count</th>\n",
              "    </tr>\n",
              "    <tr>\n",
              "      <th>productId</th>\n",
              "      <th></th>\n",
              "      <th></th>\n",
              "    </tr>\n",
              "  </thead>\n",
              "  <tbody>\n",
              "    <tr>\n",
              "      <th>B000FQ2JLW</th>\n",
              "      <td>5.0000000</td>\n",
              "      <td>12</td>\n",
              "    </tr>\n",
              "    <tr>\n",
              "      <th>B0052SCU8U</th>\n",
              "      <td>5.0000000</td>\n",
              "      <td>31</td>\n",
              "    </tr>\n",
              "    <tr>\n",
              "      <th>B0033PRWSW</th>\n",
              "      <td>5.0000000</td>\n",
              "      <td>11</td>\n",
              "    </tr>\n",
              "    <tr>\n",
              "      <th>B000067RT6</th>\n",
              "      <td>5.0000000</td>\n",
              "      <td>24</td>\n",
              "    </tr>\n",
              "    <tr>\n",
              "      <th>B000I1X3W8</th>\n",
              "      <td>5.0000000</td>\n",
              "      <td>13</td>\n",
              "    </tr>\n",
              "  </tbody>\n",
              "</table>\n",
              "</div>"
            ],
            "text/plain": [
              "              Rating  prod_rating_count\n",
              "productId                              \n",
              "B000FQ2JLW 5.0000000                 12\n",
              "B0052SCU8U 5.0000000                 31\n",
              "B0033PRWSW 5.0000000                 11\n",
              "B000067RT6 5.0000000                 24\n",
              "B000I1X3W8 5.0000000                 13"
            ]
          },
          "metadata": {},
          "execution_count": 33
        }
      ]
    },
    {
      "cell_type": "code",
      "metadata": {
        "colab": {
          "base_uri": "https://localhost:8080/",
          "height": 237
        },
        "id": "TM0PXDAa9zLT",
        "outputId": "e1c2f7df-6e5f-4f58-9444-18b5e8d9f246"
      },
      "source": [
        "basic_poplurity_model = prod_rating_count.sort_values(by=['prod_rating_count'], ascending=False)\n",
        "basic_poplurity_model.head(k)"
      ],
      "execution_count": null,
      "outputs": [
        {
          "output_type": "execute_result",
          "data": {
            "text/html": [
              "<div>\n",
              "<style scoped>\n",
              "    .dataframe tbody tr th:only-of-type {\n",
              "        vertical-align: middle;\n",
              "    }\n",
              "\n",
              "    .dataframe tbody tr th {\n",
              "        vertical-align: top;\n",
              "    }\n",
              "\n",
              "    .dataframe thead th {\n",
              "        text-align: right;\n",
              "    }\n",
              "</style>\n",
              "<table border=\"1\" class=\"dataframe\">\n",
              "  <thead>\n",
              "    <tr style=\"text-align: right;\">\n",
              "      <th></th>\n",
              "      <th>Rating</th>\n",
              "      <th>prod_rating_count</th>\n",
              "    </tr>\n",
              "    <tr>\n",
              "      <th>productId</th>\n",
              "      <th></th>\n",
              "      <th></th>\n",
              "    </tr>\n",
              "  </thead>\n",
              "  <tbody>\n",
              "    <tr>\n",
              "      <th>B003ES5ZUU</th>\n",
              "      <td>4.8224299</td>\n",
              "      <td>107</td>\n",
              "    </tr>\n",
              "    <tr>\n",
              "      <th>B002R5AM7C</th>\n",
              "      <td>4.1397849</td>\n",
              "      <td>93</td>\n",
              "    </tr>\n",
              "    <tr>\n",
              "      <th>B000N99BBC</th>\n",
              "      <td>4.7608696</td>\n",
              "      <td>92</td>\n",
              "    </tr>\n",
              "    <tr>\n",
              "      <th>B002V88HFE</th>\n",
              "      <td>4.7500000</td>\n",
              "      <td>72</td>\n",
              "    </tr>\n",
              "    <tr>\n",
              "      <th>B002WE6D44</th>\n",
              "      <td>4.7611940</td>\n",
              "      <td>67</td>\n",
              "    </tr>\n",
              "  </tbody>\n",
              "</table>\n",
              "</div>"
            ],
            "text/plain": [
              "              Rating  prod_rating_count\n",
              "productId                              \n",
              "B003ES5ZUU 4.8224299                107\n",
              "B002R5AM7C 4.1397849                 93\n",
              "B000N99BBC 4.7608696                 92\n",
              "B002V88HFE 4.7500000                 72\n",
              "B002WE6D44 4.7611940                 67"
            ]
          },
          "metadata": {},
          "execution_count": 34
        }
      ]
    },
    {
      "cell_type": "markdown",
      "metadata": {
        "id": "wk1gwARf-KgJ"
      },
      "source": [
        "These are the TOP 5 popular products that would be recommended based on Mean Product Rating"
      ]
    },
    {
      "cell_type": "markdown",
      "metadata": {
        "id": "Y23UrgTN-XTB"
      },
      "source": [
        "2) Ranking Based Rating"
      ]
    },
    {
      "cell_type": "code",
      "metadata": {
        "colab": {
          "base_uri": "https://localhost:8080/",
          "height": 206
        },
        "id": "0H1LOLGU9zRR",
        "outputId": "06ed9a71-48c7-4b0f-cf4b-73c108506184"
      },
      "source": [
        "df2_grouped = df2.groupby('productId').agg({'userId': 'count'}).reset_index()\n",
        "df2_grouped.rename(columns = {'userId': 'Score'},inplace=True)\n",
        "df2_grouped.head()"
      ],
      "execution_count": null,
      "outputs": [
        {
          "output_type": "execute_result",
          "data": {
            "text/html": [
              "<div>\n",
              "<style scoped>\n",
              "    .dataframe tbody tr th:only-of-type {\n",
              "        vertical-align: middle;\n",
              "    }\n",
              "\n",
              "    .dataframe tbody tr th {\n",
              "        vertical-align: top;\n",
              "    }\n",
              "\n",
              "    .dataframe thead th {\n",
              "        text-align: right;\n",
              "    }\n",
              "</style>\n",
              "<table border=\"1\" class=\"dataframe\">\n",
              "  <thead>\n",
              "    <tr style=\"text-align: right;\">\n",
              "      <th></th>\n",
              "      <th>productId</th>\n",
              "      <th>Score</th>\n",
              "    </tr>\n",
              "  </thead>\n",
              "  <tbody>\n",
              "    <tr>\n",
              "      <th>0</th>\n",
              "      <td>B00001WRSJ</td>\n",
              "      <td>10</td>\n",
              "    </tr>\n",
              "    <tr>\n",
              "      <th>1</th>\n",
              "      <td>B00004SB92</td>\n",
              "      <td>18</td>\n",
              "    </tr>\n",
              "    <tr>\n",
              "      <th>2</th>\n",
              "      <td>B00004T8R2</td>\n",
              "      <td>16</td>\n",
              "    </tr>\n",
              "    <tr>\n",
              "      <th>3</th>\n",
              "      <td>B00004WCIC</td>\n",
              "      <td>13</td>\n",
              "    </tr>\n",
              "    <tr>\n",
              "      <th>4</th>\n",
              "      <td>B00004XOM3</td>\n",
              "      <td>10</td>\n",
              "    </tr>\n",
              "  </tbody>\n",
              "</table>\n",
              "</div>"
            ],
            "text/plain": [
              "    productId  Score\n",
              "0  B00001WRSJ     10\n",
              "1  B00004SB92     18\n",
              "2  B00004T8R2     16\n",
              "3  B00004WCIC     13\n",
              "4  B00004XOM3     10"
            ]
          },
          "metadata": {},
          "execution_count": 35
        }
      ]
    },
    {
      "cell_type": "code",
      "metadata": {
        "colab": {
          "base_uri": "https://localhost:8080/",
          "height": 206
        },
        "id": "HgiiaLw-9zaj",
        "outputId": "cd184e7a-2bc6-4603-8b02-341e03a081ae"
      },
      "source": [
        "#Sort the products on recommendation score \n",
        "df2_sort = df2_grouped.sort_values(['Score', 'productId'], ascending = [0,1]) \n",
        "      \n",
        "#Generate a product rank based upon score \n",
        "df2_sort['Rank'] = df2_sort['Score'].rank(ascending=0, method='first') \n",
        "          \n",
        "#Get the top 5 recommendations \n",
        "popularity_recommendations = df2_sort.head(k) \n",
        "popularity_recommendations "
      ],
      "execution_count": null,
      "outputs": [
        {
          "output_type": "execute_result",
          "data": {
            "text/html": [
              "<div>\n",
              "<style scoped>\n",
              "    .dataframe tbody tr th:only-of-type {\n",
              "        vertical-align: middle;\n",
              "    }\n",
              "\n",
              "    .dataframe tbody tr th {\n",
              "        vertical-align: top;\n",
              "    }\n",
              "\n",
              "    .dataframe thead th {\n",
              "        text-align: right;\n",
              "    }\n",
              "</style>\n",
              "<table border=\"1\" class=\"dataframe\">\n",
              "  <thead>\n",
              "    <tr style=\"text-align: right;\">\n",
              "      <th></th>\n",
              "      <th>productId</th>\n",
              "      <th>Score</th>\n",
              "      <th>Rank</th>\n",
              "    </tr>\n",
              "  </thead>\n",
              "  <tbody>\n",
              "    <tr>\n",
              "      <th>459</th>\n",
              "      <td>B003ES5ZUU</td>\n",
              "      <td>107</td>\n",
              "      <td>1.0000000</td>\n",
              "    </tr>\n",
              "    <tr>\n",
              "      <th>394</th>\n",
              "      <td>B002R5AM7C</td>\n",
              "      <td>93</td>\n",
              "      <td>2.0000000</td>\n",
              "    </tr>\n",
              "    <tr>\n",
              "      <th>125</th>\n",
              "      <td>B000N99BBC</td>\n",
              "      <td>92</td>\n",
              "      <td>3.0000000</td>\n",
              "    </tr>\n",
              "    <tr>\n",
              "      <th>410</th>\n",
              "      <td>B002V88HFE</td>\n",
              "      <td>72</td>\n",
              "      <td>4.0000000</td>\n",
              "    </tr>\n",
              "    <tr>\n",
              "      <th>426</th>\n",
              "      <td>B002WE6D44</td>\n",
              "      <td>67</td>\n",
              "      <td>5.0000000</td>\n",
              "    </tr>\n",
              "  </tbody>\n",
              "</table>\n",
              "</div>"
            ],
            "text/plain": [
              "      productId  Score      Rank\n",
              "459  B003ES5ZUU    107 1.0000000\n",
              "394  B002R5AM7C     93 2.0000000\n",
              "125  B000N99BBC     92 3.0000000\n",
              "410  B002V88HFE     72 4.0000000\n",
              "426  B002WE6D44     67 5.0000000"
            ]
          },
          "metadata": {},
          "execution_count": 36
        }
      ]
    },
    {
      "cell_type": "markdown",
      "metadata": {
        "id": "6xcsXTOdJPfo"
      },
      "source": [
        "**MODEL DEPLOYMENT AND EVALUATION**"
      ]
    },
    {
      "cell_type": "code",
      "metadata": {
        "id": "OaqXUHaN9zio"
      },
      "source": [
        "# Using popularity based recommender model to make predictions and find recommendations for random list of users with inferences\n",
        "\n",
        "import warnings\n",
        "warnings.filterwarnings('ignore')\n",
        "def recommend(userId):     \n",
        "    user_recommendations = popularity_recommendations \n",
        "          \n",
        "    #Adding user_id column for which the recommendations are being generated \n",
        "    user_recommendations['userID'] = userId \n",
        "      \n",
        "    #Bringing user_id column to the front \n",
        "    cols = user_recommendations.columns.tolist() \n",
        "    cols = cols[-1:] + cols[:-1] \n",
        "    user_recommendations = user_recommendations[cols] \n",
        "          \n",
        "    return user_recommendations "
      ],
      "execution_count": null,
      "outputs": []
    },
    {
      "cell_type": "code",
      "metadata": {
        "colab": {
          "base_uri": "https://localhost:8080/"
        },
        "id": "tsk0bDvf9zos",
        "outputId": "0307026c-ff55-4d3c-fe37-e9926ade9c26"
      },
      "source": [
        "find_recom = [15,121,55,230,477]   # This list is user choice.\n",
        "for i in find_recom:\n",
        "    print(\"Here is the recommendation for the userId: %d\\n\" %(i))\n",
        "    print(recommend(i))    \n",
        "    print(\"\\n\") "
      ],
      "execution_count": null,
      "outputs": [
        {
          "output_type": "stream",
          "name": "stdout",
          "text": [
            "Here is the recommendation for the userId: 15\n",
            "\n",
            "     userID   productId  Score      Rank\n",
            "459      15  B003ES5ZUU    107 1.0000000\n",
            "394      15  B002R5AM7C     93 2.0000000\n",
            "125      15  B000N99BBC     92 3.0000000\n",
            "410      15  B002V88HFE     72 4.0000000\n",
            "426      15  B002WE6D44     67 5.0000000\n",
            "\n",
            "\n",
            "Here is the recommendation for the userId: 121\n",
            "\n",
            "     userID   productId  Score      Rank\n",
            "459     121  B003ES5ZUU    107 1.0000000\n",
            "394     121  B002R5AM7C     93 2.0000000\n",
            "125     121  B000N99BBC     92 3.0000000\n",
            "410     121  B002V88HFE     72 4.0000000\n",
            "426     121  B002WE6D44     67 5.0000000\n",
            "\n",
            "\n",
            "Here is the recommendation for the userId: 55\n",
            "\n",
            "     userID   productId  Score      Rank\n",
            "459      55  B003ES5ZUU    107 1.0000000\n",
            "394      55  B002R5AM7C     93 2.0000000\n",
            "125      55  B000N99BBC     92 3.0000000\n",
            "410      55  B002V88HFE     72 4.0000000\n",
            "426      55  B002WE6D44     67 5.0000000\n",
            "\n",
            "\n",
            "Here is the recommendation for the userId: 230\n",
            "\n",
            "     userID   productId  Score      Rank\n",
            "459     230  B003ES5ZUU    107 1.0000000\n",
            "394     230  B002R5AM7C     93 2.0000000\n",
            "125     230  B000N99BBC     92 3.0000000\n",
            "410     230  B002V88HFE     72 4.0000000\n",
            "426     230  B002WE6D44     67 5.0000000\n",
            "\n",
            "\n",
            "Here is the recommendation for the userId: 477\n",
            "\n",
            "     userID   productId  Score      Rank\n",
            "459     477  B003ES5ZUU    107 1.0000000\n",
            "394     477  B002R5AM7C     93 2.0000000\n",
            "125     477  B000N99BBC     92 3.0000000\n",
            "410     477  B002V88HFE     72 4.0000000\n",
            "426     477  B002WE6D44     67 5.0000000\n",
            "\n",
            "\n"
          ]
        }
      ]
    },
    {
      "cell_type": "code",
      "metadata": {
        "id": "bBhhKcWkg-CG"
      },
      "source": [
        "import pickle\n",
        "pickle.dump(popularity_recommendations ,open('mostpopular.pkl','wb'))"
      ],
      "execution_count": null,
      "outputs": []
    },
    {
      "cell_type": "markdown",
      "metadata": {
        "id": "qNfXgiPgHijA"
      },
      "source": [
        "**NOTE:**\n",
        "\n",
        "Since this is a popularity-based recommender model, recommendations remain the same for all users. We predict the products based on the popularity. It is not personalized to the user."
      ]
    },
    {
      "cell_type": "markdown",
      "metadata": {
        "id": "gw5URhGlKEFS"
      },
      "source": [
        "**COLLABORATIVE FILTER MODELLING**\n",
        "\n",
        "We will use the SVD and KNN based modeling to find the closest product to the chosen product and also closest User Profile to the current User Profile\n"
      ]
    },
    {
      "cell_type": "markdown",
      "metadata": {
        "id": "KbgZRy48Sa7M"
      },
      "source": [
        "**SVD**"
      ]
    },
    {
      "cell_type": "code",
      "metadata": {
        "colab": {
          "base_uri": "https://localhost:8080/",
          "height": 302
        },
        "id": "E0pjhw45SfAz",
        "outputId": "ebfaa6f1-9247-4ae4-ad6d-1d73e6ad55c9"
      },
      "source": [
        "# Creating Model using best parameters\n",
        "svd_model = SVD(n_epochs=20, lr_all=0.005, reg_all=0.2)\n",
        "\n",
        "# Training the algorithm on the trainset\n",
        "svd_model.fit(trainset)\n",
        "\n",
        "\n",
        "# Predicting for test set\n",
        "predictions_svd = svd_model.test(testset)\n",
        "\n",
        "# Evaluating RMSE, MAE of algorithm SVD on 5 split(s) by cross validation\n",
        "svd_cv = cross_validate(svd_model, surprise_data, measures=['RMSE', 'MAE'], cv=5, verbose=True)\n",
        "\n",
        "# Storing Crossvalidation Results in dataframe\n",
        "svd_df = pd.DataFrame.from_dict(svd_cv)\n",
        "svd_described = svd_df.describe()\n",
        "cv_results = pd.DataFrame([['SVD', svd_described['test_rmse']['mean'], svd_described['test_mae']['mean'], \n",
        "                           svd_described['fit_time']['mean'], svd_described['test_time']['mean']]],\n",
        "                            columns = ['Model', 'RMSE', 'MAE', 'Fit Time', 'Test Time'])\n",
        "# get RMSE\n",
        "print(\"\\n\\n==================== Model Evaluation ===============================\")\n",
        "accuracy.rmse(predictions_svd, verbose=True)\n",
        "print(\"=====================================================================\")\n",
        "cv_results"
      ],
      "execution_count": null,
      "outputs": [
        {
          "output_type": "execute_result",
          "data": {
            "text/plain": [
              "<surprise.prediction_algorithms.matrix_factorization.SVD at 0x7fc9a31d9510>"
            ]
          },
          "metadata": {},
          "execution_count": 40
        },
        {
          "output_type": "stream",
          "name": "stdout",
          "text": [
            "Evaluating RMSE, MAE of algorithm SVD on 5 split(s).\n",
            "\n",
            "                  Fold 1  Fold 2  Fold 3  Fold 4  Fold 5  Mean    Std     \n",
            "RMSE (testset)    0.8888  0.9053  0.8872  0.8739  0.8949  0.8900  0.0103  \n",
            "MAE (testset)     0.6542  0.6575  0.6549  0.6407  0.6537  0.6522  0.0059  \n",
            "Fit time          0.54    0.53    0.52    0.53    0.52    0.53    0.01    \n",
            "Test time         0.02    0.02    0.02    0.02    0.02    0.02    0.00    \n",
            "\n",
            "\n",
            "==================== Model Evaluation ===============================\n",
            "RMSE: 0.8925\n"
          ]
        },
        {
          "output_type": "execute_result",
          "data": {
            "text/plain": [
              "0.892473621981048"
            ]
          },
          "metadata": {},
          "execution_count": 40
        },
        {
          "output_type": "stream",
          "name": "stdout",
          "text": [
            "=====================================================================\n"
          ]
        },
        {
          "output_type": "execute_result",
          "data": {
            "text/html": [
              "<div>\n",
              "<style scoped>\n",
              "    .dataframe tbody tr th:only-of-type {\n",
              "        vertical-align: middle;\n",
              "    }\n",
              "\n",
              "    .dataframe tbody tr th {\n",
              "        vertical-align: top;\n",
              "    }\n",
              "\n",
              "    .dataframe thead th {\n",
              "        text-align: right;\n",
              "    }\n",
              "</style>\n",
              "<table border=\"1\" class=\"dataframe\">\n",
              "  <thead>\n",
              "    <tr style=\"text-align: right;\">\n",
              "      <th></th>\n",
              "      <th>Model</th>\n",
              "      <th>RMSE</th>\n",
              "      <th>MAE</th>\n",
              "      <th>Fit Time</th>\n",
              "      <th>Test Time</th>\n",
              "    </tr>\n",
              "  </thead>\n",
              "  <tbody>\n",
              "    <tr>\n",
              "      <th>0</th>\n",
              "      <td>SVD</td>\n",
              "      <td>0.8900186</td>\n",
              "      <td>0.6521916</td>\n",
              "      <td>0.5305056</td>\n",
              "      <td>0.0190976</td>\n",
              "    </tr>\n",
              "  </tbody>\n",
              "</table>\n",
              "</div>"
            ],
            "text/plain": [
              "  Model      RMSE       MAE  Fit Time  Test Time\n",
              "0   SVD 0.8900186 0.6521916 0.5305056  0.0190976"
            ]
          },
          "metadata": {},
          "execution_count": 40
        }
      ]
    },
    {
      "cell_type": "markdown",
      "metadata": {
        "id": "LDXaIcHXS_vs"
      },
      "source": [
        "**Comment:** Here we can see that the RMSE of testset and complete dataset found from cross_validation is almost same and it seems like our model is performing well on trainset and testset."
      ]
    },
    {
      "cell_type": "markdown",
      "metadata": {
        "id": "bLYX-c1bTE9W"
      },
      "source": [
        "**SVD++**"
      ]
    },
    {
      "cell_type": "code",
      "metadata": {
        "colab": {
          "base_uri": "https://localhost:8080/",
          "height": 333
        },
        "id": "nbFjLXlPTTlp",
        "outputId": "d65b3cc0-fad1-491c-d0b3-57cce5562682"
      },
      "source": [
        "# Creating Model using best parameters\n",
        "svdpp_model = SVDpp(n_epochs=25, lr_all=0.01, reg_all=0.4)\n",
        "\n",
        "# Training the algorithm on the trainset\n",
        "svdpp_model.fit(trainset)\n",
        "\n",
        "\n",
        "# Predicting for test set\n",
        "predictions_svdpp = svdpp_model.test(testset)\n",
        "\n",
        "# Evaluating RMSE, MAE of algorithm SVDpp on 5 split(s) by cross validation\n",
        "svdpp_cv = cross_validate(svdpp_model, surprise_data, measures=['RMSE', 'MAE'], cv=5, verbose=True)\n",
        "\n",
        "# Storing Crossvalidation Results in dataframe\n",
        "svdpp_df = pd.DataFrame.from_dict(svdpp_cv)\n",
        "svdpp_described = svdpp_df.describe()\n",
        "svdpp_cv_results = pd.DataFrame([['SVD++', svdpp_described['test_rmse']['mean'], svdpp_described['test_mae']['mean'], \n",
        "                           svdpp_described['fit_time']['mean'], svdpp_described['test_time']['mean']]],\n",
        "                            columns = ['Model', 'RMSE', 'MAE', 'Fit Time', 'Test Time'])\n",
        "\n",
        "cv_results = cv_results.append(svdpp_cv_results, ignore_index=True)\n",
        "# get RMSE\n",
        "print(\"\\n\\n==================== Model Evaluation ===============================\")\n",
        "accuracy.rmse(predictions_svdpp, verbose=True)\n",
        "print(\"=====================================================================\")\n",
        "cv_results"
      ],
      "execution_count": null,
      "outputs": [
        {
          "output_type": "execute_result",
          "data": {
            "text/plain": [
              "<surprise.prediction_algorithms.matrix_factorization.SVDpp at 0x7fc9a2feec90>"
            ]
          },
          "metadata": {},
          "execution_count": 41
        },
        {
          "output_type": "stream",
          "name": "stdout",
          "text": [
            "Evaluating RMSE, MAE of algorithm SVDpp on 5 split(s).\n",
            "\n",
            "                  Fold 1  Fold 2  Fold 3  Fold 4  Fold 5  Mean    Std     \n",
            "RMSE (testset)    0.8799  0.9002  0.8955  0.8608  0.8975  0.8868  0.0148  \n",
            "MAE (testset)     0.6416  0.6474  0.6597  0.6241  0.6493  0.6444  0.0117  \n",
            "Fit time          3.93    3.85    3.82    3.81    3.81    3.84    0.05    \n",
            "Test time         0.07    0.10    0.13    0.11    0.11    0.10    0.02    \n",
            "\n",
            "\n",
            "==================== Model Evaluation ===============================\n",
            "RMSE: 0.8862\n"
          ]
        },
        {
          "output_type": "execute_result",
          "data": {
            "text/plain": [
              "0.8862035858821745"
            ]
          },
          "metadata": {},
          "execution_count": 41
        },
        {
          "output_type": "stream",
          "name": "stdout",
          "text": [
            "=====================================================================\n"
          ]
        },
        {
          "output_type": "execute_result",
          "data": {
            "text/html": [
              "<div>\n",
              "<style scoped>\n",
              "    .dataframe tbody tr th:only-of-type {\n",
              "        vertical-align: middle;\n",
              "    }\n",
              "\n",
              "    .dataframe tbody tr th {\n",
              "        vertical-align: top;\n",
              "    }\n",
              "\n",
              "    .dataframe thead th {\n",
              "        text-align: right;\n",
              "    }\n",
              "</style>\n",
              "<table border=\"1\" class=\"dataframe\">\n",
              "  <thead>\n",
              "    <tr style=\"text-align: right;\">\n",
              "      <th></th>\n",
              "      <th>Model</th>\n",
              "      <th>RMSE</th>\n",
              "      <th>MAE</th>\n",
              "      <th>Fit Time</th>\n",
              "      <th>Test Time</th>\n",
              "    </tr>\n",
              "  </thead>\n",
              "  <tbody>\n",
              "    <tr>\n",
              "      <th>0</th>\n",
              "      <td>SVD</td>\n",
              "      <td>0.8900186</td>\n",
              "      <td>0.6521916</td>\n",
              "      <td>0.5305056</td>\n",
              "      <td>0.0190976</td>\n",
              "    </tr>\n",
              "    <tr>\n",
              "      <th>1</th>\n",
              "      <td>SVD++</td>\n",
              "      <td>0.8867699</td>\n",
              "      <td>0.6444038</td>\n",
              "      <td>3.8447493</td>\n",
              "      <td>0.1043778</td>\n",
              "    </tr>\n",
              "  </tbody>\n",
              "</table>\n",
              "</div>"
            ],
            "text/plain": [
              "   Model      RMSE       MAE  Fit Time  Test Time\n",
              "0    SVD 0.8900186 0.6521916 0.5305056  0.0190976\n",
              "1  SVD++ 0.8867699 0.6444038 3.8447493  0.1043778"
            ]
          },
          "metadata": {},
          "execution_count": 41
        }
      ]
    },
    {
      "cell_type": "markdown",
      "metadata": {
        "id": "axMvqYEjLtH-"
      },
      "source": [
        "**KNN BASIC**"
      ]
    },
    {
      "cell_type": "code",
      "metadata": {
        "colab": {
          "base_uri": "https://localhost:8080/"
        },
        "id": "6QHB7xHqLxTf",
        "outputId": "2287ee11-3d9c-4cbb-8c8b-89a156a18711"
      },
      "source": [
        "knn_param_grid = {'bsl_options': {'method': ['als', 'sgd'],\n",
        "                              'reg': [1, 2]},\n",
        "              'k': [15, 20, 25, 30, 40, 50, 60],\n",
        "              'sim_options': {'name': ['msd', 'cosine', 'pearson_baseline']}\n",
        "              }\n",
        "\n",
        "knnbasic_gs = GridSearchCV(KNNBasic, knn_param_grid, measures=['rmse', 'mae'], cv=5, n_jobs=5)\n",
        "knnmeans_gs = GridSearchCV(KNNWithMeans, knn_param_grid, measures=['rmse', 'mae'], cv=5, n_jobs=5)\n",
        "knnz_gs     = GridSearchCV(KNNWithZScore, knn_param_grid, measures=['rmse', 'mae'], cv=5, n_jobs=5)\n",
        "\n",
        "\n",
        "knnbasic_gs.fit(surprise_data)\n",
        "knnmeans_gs.fit(surprise_data)\n",
        "knnz_gs.fit(surprise_data)\n",
        "\n",
        "# best RMSE score\n",
        "print(knnbasic_gs.best_score['rmse'])\n",
        "print(knnmeans_gs.best_score['rmse'])\n",
        "print(knnz_gs.best_score['rmse'])\n",
        "\n",
        "# combination of parameters that gave the best RMSE score\n",
        "print(knnbasic_gs.best_params['rmse'])\n",
        "print(knnmeans_gs.best_params['rmse'])\n",
        "print(knnz_gs.best_params['rmse'])\n",
        "\n"
      ],
      "execution_count": null,
      "outputs": [
        {
          "output_type": "stream",
          "name": "stdout",
          "text": [
            "0.9905989729265148\n",
            "0.9526177506572051\n",
            "0.9564671956353912\n",
            "{'bsl_options': {'method': 'als', 'reg': 1}, 'k': 25, 'sim_options': {'name': 'cosine', 'user_based': True}}\n",
            "{'bsl_options': {'method': 'als', 'reg': 1}, 'k': 60, 'sim_options': {'name': 'cosine', 'user_based': True}}\n",
            "{'bsl_options': {'method': 'als', 'reg': 1}, 'k': 40, 'sim_options': {'name': 'cosine', 'user_based': True}}\n"
          ]
        }
      ]
    },
    {
      "cell_type": "code",
      "metadata": {
        "colab": {
          "base_uri": "https://localhost:8080/",
          "height": 586
        },
        "id": "YVP7nggCLxaH",
        "outputId": "bdcafc88-c4f5-40be-cf12-5aa9c59e40ed"
      },
      "source": [
        "# Creating Model using best parameters\n",
        "knnBasic_model = KNNBasic(k=50, sim_options={'name': 'cosine', 'user_based': False})\n",
        "\n",
        "# Training the algorithm on the trainset\n",
        "knnBasic_model.fit(trainset)\n",
        "\n",
        "# Predicting for test set\n",
        "prediction_knnBasic = knnBasic_model.test(testset)\n",
        "\n",
        "# Evaluating RMSE, MAE of algorithm KNNBasic on 5 split(s)\n",
        "knnBasic_cv = cross_validate(knnBasic_model, surprise_data, measures=['RMSE', 'MAE'], cv=5, verbose=True)\n",
        "\n",
        "# Storing Crossvalidation Results in dataframe\n",
        "knnBasic_df = pd.DataFrame.from_dict(knnBasic_cv)\n",
        "knnBasic_described = knnBasic_df.describe()\n",
        "knnBasic_cv_results = pd.DataFrame([['KNNBasic', knnBasic_described['test_rmse']['mean'], knnBasic_described['test_mae']['mean'], knnBasic_described['fit_time']['mean'], knnBasic_described['test_time']['mean']]],\n",
        "columns = ['Model', 'RMSE', 'MAE', 'Fit Time', 'Test Time'])\n",
        "cv_results = cv_results.append(knnBasic_cv_results, ignore_index=True)\n",
        "\n",
        "# get RMSE\n",
        "print(\"\\n\\n==================== Model Evaluation ===============================\")\n",
        "accuracy.rmse(prediction_knnBasic, verbose=True)\n",
        "print(\"=====================================================================\")\n",
        "cv_results\n"
      ],
      "execution_count": null,
      "outputs": [
        {
          "output_type": "stream",
          "name": "stdout",
          "text": [
            "Computing the cosine similarity matrix...\n",
            "Done computing similarity matrix.\n"
          ]
        },
        {
          "output_type": "execute_result",
          "data": {
            "text/plain": [
              "<surprise.prediction_algorithms.knns.KNNBasic at 0x7fc9a23b8110>"
            ]
          },
          "metadata": {},
          "execution_count": 43
        },
        {
          "output_type": "stream",
          "name": "stdout",
          "text": [
            "Computing the cosine similarity matrix...\n",
            "Done computing similarity matrix.\n",
            "Computing the cosine similarity matrix...\n",
            "Done computing similarity matrix.\n",
            "Computing the cosine similarity matrix...\n",
            "Done computing similarity matrix.\n",
            "Computing the cosine similarity matrix...\n",
            "Done computing similarity matrix.\n",
            "Computing the cosine similarity matrix...\n",
            "Done computing similarity matrix.\n",
            "Evaluating RMSE, MAE of algorithm KNNBasic on 5 split(s).\n",
            "\n",
            "                  Fold 1  Fold 2  Fold 3  Fold 4  Fold 5  Mean    Std     \n",
            "RMSE (testset)    1.0318  1.0148  0.9921  0.9890  1.0106  1.0077  0.0157  \n",
            "MAE (testset)     0.7147  0.7033  0.6839  0.6893  0.6946  0.6972  0.0108  \n",
            "Fit time          0.10    0.10    0.09    0.10    0.10    0.10    0.00    \n",
            "Test time         0.07    0.08    0.07    0.08    0.08    0.07    0.00    \n",
            "\n",
            "\n",
            "==================== Model Evaluation ===============================\n",
            "RMSE: 1.0400\n"
          ]
        },
        {
          "output_type": "execute_result",
          "data": {
            "text/plain": [
              "1.0399722285962043"
            ]
          },
          "metadata": {},
          "execution_count": 43
        },
        {
          "output_type": "stream",
          "name": "stdout",
          "text": [
            "=====================================================================\n"
          ]
        },
        {
          "output_type": "execute_result",
          "data": {
            "text/html": [
              "<div>\n",
              "<style scoped>\n",
              "    .dataframe tbody tr th:only-of-type {\n",
              "        vertical-align: middle;\n",
              "    }\n",
              "\n",
              "    .dataframe tbody tr th {\n",
              "        vertical-align: top;\n",
              "    }\n",
              "\n",
              "    .dataframe thead th {\n",
              "        text-align: right;\n",
              "    }\n",
              "</style>\n",
              "<table border=\"1\" class=\"dataframe\">\n",
              "  <thead>\n",
              "    <tr style=\"text-align: right;\">\n",
              "      <th></th>\n",
              "      <th>Model</th>\n",
              "      <th>RMSE</th>\n",
              "      <th>MAE</th>\n",
              "      <th>Fit Time</th>\n",
              "      <th>Test Time</th>\n",
              "    </tr>\n",
              "  </thead>\n",
              "  <tbody>\n",
              "    <tr>\n",
              "      <th>0</th>\n",
              "      <td>SVD</td>\n",
              "      <td>0.8900186</td>\n",
              "      <td>0.6521916</td>\n",
              "      <td>0.5305056</td>\n",
              "      <td>0.0190976</td>\n",
              "    </tr>\n",
              "    <tr>\n",
              "      <th>1</th>\n",
              "      <td>SVD++</td>\n",
              "      <td>0.8867699</td>\n",
              "      <td>0.6444038</td>\n",
              "      <td>3.8447493</td>\n",
              "      <td>0.1043778</td>\n",
              "    </tr>\n",
              "    <tr>\n",
              "      <th>2</th>\n",
              "      <td>KNNBasic</td>\n",
              "      <td>1.0076508</td>\n",
              "      <td>0.6971592</td>\n",
              "      <td>0.0968201</td>\n",
              "      <td>0.0740165</td>\n",
              "    </tr>\n",
              "  </tbody>\n",
              "</table>\n",
              "</div>"
            ],
            "text/plain": [
              "      Model      RMSE       MAE  Fit Time  Test Time\n",
              "0       SVD 0.8900186 0.6521916 0.5305056  0.0190976\n",
              "1     SVD++ 0.8867699 0.6444038 3.8447493  0.1043778\n",
              "2  KNNBasic 1.0076508 0.6971592 0.0968201  0.0740165"
            ]
          },
          "metadata": {},
          "execution_count": 43
        }
      ]
    },
    {
      "cell_type": "markdown",
      "metadata": {
        "id": "Fn_kzijQQfn1"
      },
      "source": [
        "**KNNWithZScore**"
      ]
    },
    {
      "cell_type": "code",
      "metadata": {
        "colab": {
          "base_uri": "https://localhost:8080/",
          "height": 617
        },
        "id": "T-yYX0QiLxf3",
        "outputId": "a7811b0a-3464-48ca-f3ed-fa903e857496"
      },
      "source": [
        "# Creating Model using best parameters\n",
        "knnZscore_model = KNNWithZScore(k=60, sim_options={'name': 'cosine', 'user_based': False})\n",
        "\n",
        "# Training the algorithm on the trainset\n",
        "knnZscore_model.fit(trainset)\n",
        "\n",
        "# Predicting for testset\n",
        "prediction_knnZscore = knnZscore_model.test(testset)\n",
        "\n",
        "# Evaluating RMSE, MAE of algorithm KNNWithZScore on 5 split(s)\n",
        "knnZscore_cv = cross_validate(knnZscore_model, surprise_data, measures=['RMSE', 'MAE'], cv=5, verbose=True)\n",
        "\n",
        "# Storing Crossvalidation Results in dataframe\n",
        "knnZscore_df = pd.DataFrame.from_dict(knnZscore_cv)\n",
        "knnZscore_described = knnZscore_df.describe()\n",
        "knnZscore_cv_results = pd.DataFrame([['KNNWithZScore', knnZscore_described['test_rmse']['mean'], knnZscore_described['test_mae']['mean'], \n",
        "                           knnZscore_described['fit_time']['mean'], knnZscore_described['test_time']['mean']]],\n",
        "                            columns = ['Model', 'RMSE', 'MAE', 'Fit Time', 'Test Time'])\n",
        "\n",
        "cv_results = cv_results.append(knnZscore_cv_results, ignore_index=True)\n",
        "# get RMSE\n",
        "print(\"\\n\\n==================== Model Evaluation ===============================\")\n",
        "accuracy.rmse(prediction_knnZscore, verbose=True)\n",
        "print(\"=====================================================================\")\n",
        "cv_results"
      ],
      "execution_count": null,
      "outputs": [
        {
          "output_type": "stream",
          "name": "stdout",
          "text": [
            "Computing the cosine similarity matrix...\n",
            "Done computing similarity matrix.\n"
          ]
        },
        {
          "output_type": "execute_result",
          "data": {
            "text/plain": [
              "<surprise.prediction_algorithms.knns.KNNWithZScore at 0x7fc9a2230c10>"
            ]
          },
          "metadata": {},
          "execution_count": 44
        },
        {
          "output_type": "stream",
          "name": "stdout",
          "text": [
            "Computing the cosine similarity matrix...\n",
            "Done computing similarity matrix.\n",
            "Computing the cosine similarity matrix...\n",
            "Done computing similarity matrix.\n",
            "Computing the cosine similarity matrix...\n",
            "Done computing similarity matrix.\n",
            "Computing the cosine similarity matrix...\n",
            "Done computing similarity matrix.\n",
            "Computing the cosine similarity matrix...\n",
            "Done computing similarity matrix.\n",
            "Evaluating RMSE, MAE of algorithm KNNWithZScore on 5 split(s).\n",
            "\n",
            "                  Fold 1  Fold 2  Fold 3  Fold 4  Fold 5  Mean    Std     \n",
            "RMSE (testset)    0.9621  0.9745  0.9467  0.9634  0.9836  0.9660  0.0125  \n",
            "MAE (testset)     0.6535  0.6687  0.6436  0.6551  0.6742  0.6590  0.0110  \n",
            "Fit time          0.13    0.13    0.14    0.14    0.13    0.13    0.00    \n",
            "Test time         0.09    0.09    0.09    0.09    0.09    0.09    0.00    \n",
            "\n",
            "\n",
            "==================== Model Evaluation ===============================\n",
            "RMSE: 0.9841\n"
          ]
        },
        {
          "output_type": "execute_result",
          "data": {
            "text/plain": [
              "0.9841092077020233"
            ]
          },
          "metadata": {},
          "execution_count": 44
        },
        {
          "output_type": "stream",
          "name": "stdout",
          "text": [
            "=====================================================================\n"
          ]
        },
        {
          "output_type": "execute_result",
          "data": {
            "text/html": [
              "<div>\n",
              "<style scoped>\n",
              "    .dataframe tbody tr th:only-of-type {\n",
              "        vertical-align: middle;\n",
              "    }\n",
              "\n",
              "    .dataframe tbody tr th {\n",
              "        vertical-align: top;\n",
              "    }\n",
              "\n",
              "    .dataframe thead th {\n",
              "        text-align: right;\n",
              "    }\n",
              "</style>\n",
              "<table border=\"1\" class=\"dataframe\">\n",
              "  <thead>\n",
              "    <tr style=\"text-align: right;\">\n",
              "      <th></th>\n",
              "      <th>Model</th>\n",
              "      <th>RMSE</th>\n",
              "      <th>MAE</th>\n",
              "      <th>Fit Time</th>\n",
              "      <th>Test Time</th>\n",
              "    </tr>\n",
              "  </thead>\n",
              "  <tbody>\n",
              "    <tr>\n",
              "      <th>0</th>\n",
              "      <td>SVD</td>\n",
              "      <td>0.8900186</td>\n",
              "      <td>0.6521916</td>\n",
              "      <td>0.5305056</td>\n",
              "      <td>0.0190976</td>\n",
              "    </tr>\n",
              "    <tr>\n",
              "      <th>1</th>\n",
              "      <td>SVD++</td>\n",
              "      <td>0.8867699</td>\n",
              "      <td>0.6444038</td>\n",
              "      <td>3.8447493</td>\n",
              "      <td>0.1043778</td>\n",
              "    </tr>\n",
              "    <tr>\n",
              "      <th>2</th>\n",
              "      <td>KNNBasic</td>\n",
              "      <td>1.0076508</td>\n",
              "      <td>0.6971592</td>\n",
              "      <td>0.0968201</td>\n",
              "      <td>0.0740165</td>\n",
              "    </tr>\n",
              "    <tr>\n",
              "      <th>3</th>\n",
              "      <td>KNNWithZScore</td>\n",
              "      <td>0.9660434</td>\n",
              "      <td>0.6590307</td>\n",
              "      <td>0.1323882</td>\n",
              "      <td>0.0872754</td>\n",
              "    </tr>\n",
              "  </tbody>\n",
              "</table>\n",
              "</div>"
            ],
            "text/plain": [
              "           Model      RMSE       MAE  Fit Time  Test Time\n",
              "0            SVD 0.8900186 0.6521916 0.5305056  0.0190976\n",
              "1          SVD++ 0.8867699 0.6444038 3.8447493  0.1043778\n",
              "2       KNNBasic 1.0076508 0.6971592 0.0968201  0.0740165\n",
              "3  KNNWithZScore 0.9660434 0.6590307 0.1323882  0.0872754"
            ]
          },
          "metadata": {},
          "execution_count": 44
        }
      ]
    },
    {
      "cell_type": "markdown",
      "metadata": {
        "id": "oNArtAJWQ7gw"
      },
      "source": [
        "**KNNWithMeans User-User**"
      ]
    },
    {
      "cell_type": "code",
      "metadata": {
        "colab": {
          "base_uri": "https://localhost:8080/",
          "height": 648
        },
        "id": "XJY2S2vDLxkw",
        "outputId": "59cf3106-f50f-4ea5-a0de-b33fb112c61e"
      },
      "source": [
        "# Creating Model using best parameters\n",
        "knnMeansUU_model = KNNWithMeans(k=60, sim_options={'name': 'cosine', 'user_based': True})\n",
        "\n",
        "# Training the algorithm on the trainset\n",
        "knnMeansUU_model.fit(trainset)\n",
        "\n",
        "# Predicting for testset\n",
        "prediction_knnMeansUU = knnMeansUU_model.test(testset)\n",
        "\n",
        "# Evaluating RMSE, MAE of algorithm KNNWithMeans User-User on 5 split(s)\n",
        "knnMeansUU_cv = cross_validate(knnMeansUU_model, surprise_data, measures=['RMSE', 'MAE'], cv=5, verbose=True)\n",
        "\n",
        "# Storing Crossvalidation Results in dataframe\n",
        "knnMeansUU_df = pd.DataFrame.from_dict(knnMeansUU_cv)\n",
        "knnMeansUU_described = knnMeansUU_df.describe()\n",
        "knnMeansUU_cv_results = pd.DataFrame([['KNNWithMeans User-User', knnMeansUU_described['test_rmse']['mean'], knnMeansUU_described['test_mae']['mean'], \n",
        "                           knnMeansUU_described['fit_time']['mean'], knnMeansUU_described['test_time']['mean']]],\n",
        "                            columns = ['Model', 'RMSE', 'MAE', 'Fit Time', 'Test Time'])\n",
        "\n",
        "cv_results = cv_results.append(knnMeansUU_cv_results, ignore_index=True)\n",
        "# get RMSE\n",
        "print(\"\\n\\n==================== Model Evaluation ===============================\")\n",
        "accuracy.rmse(prediction_knnMeansUU, verbose=True)\n",
        "print(\"=====================================================================\")\n",
        "cv_results"
      ],
      "execution_count": null,
      "outputs": [
        {
          "output_type": "stream",
          "name": "stdout",
          "text": [
            "Computing the cosine similarity matrix...\n",
            "Done computing similarity matrix.\n"
          ]
        },
        {
          "output_type": "execute_result",
          "data": {
            "text/plain": [
              "<surprise.prediction_algorithms.knns.KNNWithMeans at 0x7fc9a21e5b90>"
            ]
          },
          "metadata": {},
          "execution_count": 45
        },
        {
          "output_type": "stream",
          "name": "stdout",
          "text": [
            "Computing the cosine similarity matrix...\n",
            "Done computing similarity matrix.\n",
            "Computing the cosine similarity matrix...\n",
            "Done computing similarity matrix.\n",
            "Computing the cosine similarity matrix...\n",
            "Done computing similarity matrix.\n",
            "Computing the cosine similarity matrix...\n",
            "Done computing similarity matrix.\n",
            "Computing the cosine similarity matrix...\n",
            "Done computing similarity matrix.\n",
            "Evaluating RMSE, MAE of algorithm KNNWithMeans on 5 split(s).\n",
            "\n",
            "                  Fold 1  Fold 2  Fold 3  Fold 4  Fold 5  Mean    Std     \n",
            "RMSE (testset)    0.9549  0.9306  0.9386  0.9696  0.9363  0.9460  0.0143  \n",
            "MAE (testset)     0.6628  0.6384  0.6475  0.6799  0.6509  0.6559  0.0143  \n",
            "Fit time          0.10    0.11    0.11    0.11    0.11    0.11    0.00    \n",
            "Test time         0.09    0.08    0.08    0.08    0.08    0.08    0.00    \n",
            "\n",
            "\n",
            "==================== Model Evaluation ===============================\n",
            "RMSE: 0.9755\n"
          ]
        },
        {
          "output_type": "execute_result",
          "data": {
            "text/plain": [
              "0.9755207614362842"
            ]
          },
          "metadata": {},
          "execution_count": 45
        },
        {
          "output_type": "stream",
          "name": "stdout",
          "text": [
            "=====================================================================\n"
          ]
        },
        {
          "output_type": "execute_result",
          "data": {
            "text/html": [
              "<div>\n",
              "<style scoped>\n",
              "    .dataframe tbody tr th:only-of-type {\n",
              "        vertical-align: middle;\n",
              "    }\n",
              "\n",
              "    .dataframe tbody tr th {\n",
              "        vertical-align: top;\n",
              "    }\n",
              "\n",
              "    .dataframe thead th {\n",
              "        text-align: right;\n",
              "    }\n",
              "</style>\n",
              "<table border=\"1\" class=\"dataframe\">\n",
              "  <thead>\n",
              "    <tr style=\"text-align: right;\">\n",
              "      <th></th>\n",
              "      <th>Model</th>\n",
              "      <th>RMSE</th>\n",
              "      <th>MAE</th>\n",
              "      <th>Fit Time</th>\n",
              "      <th>Test Time</th>\n",
              "    </tr>\n",
              "  </thead>\n",
              "  <tbody>\n",
              "    <tr>\n",
              "      <th>0</th>\n",
              "      <td>SVD</td>\n",
              "      <td>0.8900186</td>\n",
              "      <td>0.6521916</td>\n",
              "      <td>0.5305056</td>\n",
              "      <td>0.0190976</td>\n",
              "    </tr>\n",
              "    <tr>\n",
              "      <th>1</th>\n",
              "      <td>SVD++</td>\n",
              "      <td>0.8867699</td>\n",
              "      <td>0.6444038</td>\n",
              "      <td>3.8447493</td>\n",
              "      <td>0.1043778</td>\n",
              "    </tr>\n",
              "    <tr>\n",
              "      <th>2</th>\n",
              "      <td>KNNBasic</td>\n",
              "      <td>1.0076508</td>\n",
              "      <td>0.6971592</td>\n",
              "      <td>0.0968201</td>\n",
              "      <td>0.0740165</td>\n",
              "    </tr>\n",
              "    <tr>\n",
              "      <th>3</th>\n",
              "      <td>KNNWithZScore</td>\n",
              "      <td>0.9660434</td>\n",
              "      <td>0.6590307</td>\n",
              "      <td>0.1323882</td>\n",
              "      <td>0.0872754</td>\n",
              "    </tr>\n",
              "    <tr>\n",
              "      <th>4</th>\n",
              "      <td>KNNWithMeans User-User</td>\n",
              "      <td>0.9460204</td>\n",
              "      <td>0.6559093</td>\n",
              "      <td>0.1104329</td>\n",
              "      <td>0.0816797</td>\n",
              "    </tr>\n",
              "  </tbody>\n",
              "</table>\n",
              "</div>"
            ],
            "text/plain": [
              "                    Model      RMSE       MAE  Fit Time  Test Time\n",
              "0                     SVD 0.8900186 0.6521916 0.5305056  0.0190976\n",
              "1                   SVD++ 0.8867699 0.6444038 3.8447493  0.1043778\n",
              "2                KNNBasic 1.0076508 0.6971592 0.0968201  0.0740165\n",
              "3           KNNWithZScore 0.9660434 0.6590307 0.1323882  0.0872754\n",
              "4  KNNWithMeans User-User 0.9460204 0.6559093 0.1104329  0.0816797"
            ]
          },
          "metadata": {},
          "execution_count": 45
        }
      ]
    },
    {
      "cell_type": "markdown",
      "metadata": {
        "id": "yhqJf4GGRSbf"
      },
      "source": [
        "**KNNWithMeans Item-Item**"
      ]
    },
    {
      "cell_type": "code",
      "metadata": {
        "colab": {
          "base_uri": "https://localhost:8080/",
          "height": 680
        },
        "id": "JkZapqyhLxrU",
        "outputId": "454e8648-866d-4bfc-dcec-535770c425cf"
      },
      "source": [
        "# Creating Model using best parameters\n",
        "knnMeansII_model = KNNWithMeans(k=60, sim_options={'name': 'cosine', 'user_based': False})\n",
        "\n",
        "# Training the algorithm on the trainset\n",
        "knnMeansII_model.fit(trainset)\n",
        "\n",
        "# Predicting for testset\n",
        "prediction_knnMeansII = knnMeansII_model.test(testset)\n",
        "\n",
        "# Evaluating RMSE, MAE of algorithm KNNWithMeans Item-Item on 5 split(s)\n",
        "knnMeansII_cv = cross_validate(knnMeansII_model, surprise_data, measures=['RMSE', 'MAE'], cv=5, verbose=True)\n",
        "\n",
        "# Storing Crossvalidation Results in dataframe\n",
        "knnMeansII_df = pd.DataFrame.from_dict(knnMeansII_cv)\n",
        "knnMeansII_described = knnMeansII_df.describe()\n",
        "knnMeansII_cv_results = pd.DataFrame([['KNNWithMeans Item-Item', knnMeansII_described['test_rmse']['mean'], knnMeansII_described['test_mae']['mean'], \n",
        "                           knnMeansII_described['fit_time']['mean'], knnMeansII_described['test_time']['mean']]],\n",
        "                            columns = ['Model', 'RMSE', 'MAE', 'Fit Time', 'Test Time'])\n",
        "\n",
        "cv_results = cv_results.append(knnMeansII_cv_results, ignore_index=True)\n",
        "\n",
        "# get RMSE\n",
        "print(\"\\n\\n==================== Model Evaluation ===============================\")\n",
        "accuracy.rmse(prediction_knnMeansII, verbose=True)\n",
        "print(\"=====================================================================\")\n",
        "cv_results"
      ],
      "execution_count": null,
      "outputs": [
        {
          "output_type": "stream",
          "name": "stdout",
          "text": [
            "Computing the cosine similarity matrix...\n",
            "Done computing similarity matrix.\n"
          ]
        },
        {
          "output_type": "execute_result",
          "data": {
            "text/plain": [
              "<surprise.prediction_algorithms.knns.KNNWithMeans at 0x7fc9a356fdd0>"
            ]
          },
          "metadata": {},
          "execution_count": 46
        },
        {
          "output_type": "stream",
          "name": "stdout",
          "text": [
            "Computing the cosine similarity matrix...\n",
            "Done computing similarity matrix.\n",
            "Computing the cosine similarity matrix...\n",
            "Done computing similarity matrix.\n",
            "Computing the cosine similarity matrix...\n",
            "Done computing similarity matrix.\n",
            "Computing the cosine similarity matrix...\n",
            "Done computing similarity matrix.\n",
            "Computing the cosine similarity matrix...\n",
            "Done computing similarity matrix.\n",
            "Evaluating RMSE, MAE of algorithm KNNWithMeans on 5 split(s).\n",
            "\n",
            "                  Fold 1  Fold 2  Fold 3  Fold 4  Fold 5  Mean    Std     \n",
            "RMSE (testset)    0.9353  0.9659  0.9376  0.9545  0.9475  0.9482  0.0113  \n",
            "MAE (testset)     0.6564  0.6696  0.6444  0.6469  0.6511  0.6537  0.0090  \n",
            "Fit time          0.11    0.10    0.11    0.11    0.11    0.11    0.00    \n",
            "Test time         0.07    0.08    0.08    0.08    0.07    0.08    0.00    \n",
            "\n",
            "\n",
            "==================== Model Evaluation ===============================\n",
            "RMSE: 0.9726\n"
          ]
        },
        {
          "output_type": "execute_result",
          "data": {
            "text/plain": [
              "0.9726464636694157"
            ]
          },
          "metadata": {},
          "execution_count": 46
        },
        {
          "output_type": "stream",
          "name": "stdout",
          "text": [
            "=====================================================================\n"
          ]
        },
        {
          "output_type": "execute_result",
          "data": {
            "text/html": [
              "<div>\n",
              "<style scoped>\n",
              "    .dataframe tbody tr th:only-of-type {\n",
              "        vertical-align: middle;\n",
              "    }\n",
              "\n",
              "    .dataframe tbody tr th {\n",
              "        vertical-align: top;\n",
              "    }\n",
              "\n",
              "    .dataframe thead th {\n",
              "        text-align: right;\n",
              "    }\n",
              "</style>\n",
              "<table border=\"1\" class=\"dataframe\">\n",
              "  <thead>\n",
              "    <tr style=\"text-align: right;\">\n",
              "      <th></th>\n",
              "      <th>Model</th>\n",
              "      <th>RMSE</th>\n",
              "      <th>MAE</th>\n",
              "      <th>Fit Time</th>\n",
              "      <th>Test Time</th>\n",
              "    </tr>\n",
              "  </thead>\n",
              "  <tbody>\n",
              "    <tr>\n",
              "      <th>0</th>\n",
              "      <td>SVD</td>\n",
              "      <td>0.8900186</td>\n",
              "      <td>0.6521916</td>\n",
              "      <td>0.5305056</td>\n",
              "      <td>0.0190976</td>\n",
              "    </tr>\n",
              "    <tr>\n",
              "      <th>1</th>\n",
              "      <td>SVD++</td>\n",
              "      <td>0.8867699</td>\n",
              "      <td>0.6444038</td>\n",
              "      <td>3.8447493</td>\n",
              "      <td>0.1043778</td>\n",
              "    </tr>\n",
              "    <tr>\n",
              "      <th>2</th>\n",
              "      <td>KNNBasic</td>\n",
              "      <td>1.0076508</td>\n",
              "      <td>0.6971592</td>\n",
              "      <td>0.0968201</td>\n",
              "      <td>0.0740165</td>\n",
              "    </tr>\n",
              "    <tr>\n",
              "      <th>3</th>\n",
              "      <td>KNNWithZScore</td>\n",
              "      <td>0.9660434</td>\n",
              "      <td>0.6590307</td>\n",
              "      <td>0.1323882</td>\n",
              "      <td>0.0872754</td>\n",
              "    </tr>\n",
              "    <tr>\n",
              "      <th>4</th>\n",
              "      <td>KNNWithMeans User-User</td>\n",
              "      <td>0.9460204</td>\n",
              "      <td>0.6559093</td>\n",
              "      <td>0.1104329</td>\n",
              "      <td>0.0816797</td>\n",
              "    </tr>\n",
              "    <tr>\n",
              "      <th>5</th>\n",
              "      <td>KNNWithMeans Item-Item</td>\n",
              "      <td>0.9481773</td>\n",
              "      <td>0.6536871</td>\n",
              "      <td>0.1075038</td>\n",
              "      <td>0.0768918</td>\n",
              "    </tr>\n",
              "  </tbody>\n",
              "</table>\n",
              "</div>"
            ],
            "text/plain": [
              "                    Model      RMSE       MAE  Fit Time  Test Time\n",
              "0                     SVD 0.8900186 0.6521916 0.5305056  0.0190976\n",
              "1                   SVD++ 0.8867699 0.6444038 3.8447493  0.1043778\n",
              "2                KNNBasic 1.0076508 0.6971592 0.0968201  0.0740165\n",
              "3           KNNWithZScore 0.9660434 0.6590307 0.1323882  0.0872754\n",
              "4  KNNWithMeans User-User 0.9460204 0.6559093 0.1104329  0.0816797\n",
              "5  KNNWithMeans Item-Item 0.9481773 0.6536871 0.1075038  0.0768918"
            ]
          },
          "metadata": {},
          "execution_count": 46
        }
      ]
    },
    {
      "cell_type": "markdown",
      "metadata": {
        "id": "DPyeDQm0U9ui"
      },
      "source": [
        "**COMPARING ALL RMSE AND MAE ACROSS MODELS**"
      ]
    },
    {
      "cell_type": "code",
      "metadata": {
        "colab": {
          "base_uri": "https://localhost:8080/",
          "height": 1000
        },
        "id": "5BeZST8kLxxO",
        "outputId": "2846c743-1caa-4c9c-c666-54121ecd9985"
      },
      "source": [
        "x_algo = ['KNN Basic', 'KNNWithMeans-User-User', 'KNNWithMeans-Item-Item', 'KNN ZScore', 'SVD', 'SVD++']\n",
        "all_algos_cv = [knnBasic_cv, knnMeansUU_cv, knnMeansII_cv, knnZscore_cv, svd_cv, svdpp_cv]\n",
        "\n",
        "rmse_cv = [round(res['test_rmse'].mean(), 4) for res in all_algos_cv]\n",
        "mae_cv  = [round(res['test_mae'].mean(), 4) for res in all_algos_cv]\n",
        "\n",
        "plt.figure(figsize=(20,15))\n",
        "\n",
        "plt.subplot(2, 1, 1)\n",
        "plt.title('Comparison of Algorithms on RMSE', loc='center', fontsize=15)\n",
        "plt.plot(x_algo, rmse_cv, label='RMSE', color='darkgreen', marker='o')\n",
        "plt.xlabel('Algorithms', fontsize=15)\n",
        "plt.ylabel('RMSE Value', fontsize=15)\n",
        "plt.legend()\n",
        "plt.grid(ls='dashed')\n",
        "\n",
        "plt.subplot(2, 1, 2)\n",
        "plt.title('Comparison of Algorithms on MAE', loc='center', fontsize=15)\n",
        "plt.plot(x_algo, mae_cv, label='MAE', color='navy', marker='o')\n",
        "plt.xlabel('Algorithms', fontsize=15)\n",
        "plt.ylabel('MAE Value', fontsize=15)\n",
        "plt.legend()\n",
        "plt.grid(ls='dashed')\n",
        "\n",
        "plt.show()\n",
        "\n",
        "cv_results\n"
      ],
      "execution_count": null,
      "outputs": [
        {
          "output_type": "execute_result",
          "data": {
            "text/plain": [
              "<Figure size 1440x1080 with 0 Axes>"
            ]
          },
          "metadata": {},
          "execution_count": 47
        },
        {
          "output_type": "execute_result",
          "data": {
            "text/plain": [
              "<matplotlib.axes._subplots.AxesSubplot at 0x7fc9a3038810>"
            ]
          },
          "metadata": {},
          "execution_count": 47
        },
        {
          "output_type": "execute_result",
          "data": {
            "text/plain": [
              "Text(0.5, 1.0, 'Comparison of Algorithms on RMSE')"
            ]
          },
          "metadata": {},
          "execution_count": 47
        },
        {
          "output_type": "execute_result",
          "data": {
            "text/plain": [
              "[<matplotlib.lines.Line2D at 0x7fc9a27ee450>]"
            ]
          },
          "metadata": {},
          "execution_count": 47
        },
        {
          "output_type": "execute_result",
          "data": {
            "text/plain": [
              "Text(0.5, 0, 'Algorithms')"
            ]
          },
          "metadata": {},
          "execution_count": 47
        },
        {
          "output_type": "execute_result",
          "data": {
            "text/plain": [
              "Text(0, 0.5, 'RMSE Value')"
            ]
          },
          "metadata": {},
          "execution_count": 47
        },
        {
          "output_type": "execute_result",
          "data": {
            "text/plain": [
              "<matplotlib.legend.Legend at 0x7fc9a2b48bd0>"
            ]
          },
          "metadata": {},
          "execution_count": 47
        },
        {
          "output_type": "execute_result",
          "data": {
            "text/plain": [
              "<matplotlib.axes._subplots.AxesSubplot at 0x7fc9a1c56a90>"
            ]
          },
          "metadata": {},
          "execution_count": 47
        },
        {
          "output_type": "execute_result",
          "data": {
            "text/plain": [
              "Text(0.5, 1.0, 'Comparison of Algorithms on MAE')"
            ]
          },
          "metadata": {},
          "execution_count": 47
        },
        {
          "output_type": "execute_result",
          "data": {
            "text/plain": [
              "[<matplotlib.lines.Line2D at 0x7fc9a1b55f10>]"
            ]
          },
          "metadata": {},
          "execution_count": 47
        },
        {
          "output_type": "execute_result",
          "data": {
            "text/plain": [
              "Text(0.5, 0, 'Algorithms')"
            ]
          },
          "metadata": {},
          "execution_count": 47
        },
        {
          "output_type": "execute_result",
          "data": {
            "text/plain": [
              "Text(0, 0.5, 'MAE Value')"
            ]
          },
          "metadata": {},
          "execution_count": 47
        },
        {
          "output_type": "execute_result",
          "data": {
            "text/plain": [
              "<matplotlib.legend.Legend at 0x7fc9a2b48990>"
            ]
          },
          "metadata": {},
          "execution_count": 47
        },
        {
          "output_type": "display_data",
          "data": {
            "image/png": "[encoded data removed]",
            "text/plain": [
              "<Figure size 1440x1080 with 2 Axes>"
            ]
          },
          "metadata": {
            "needs_background": "light"
          }
        },
        {
          "output_type": "execute_result",
          "data": {
            "text/html": [
              "<div>\n",
              "<style scoped>\n",
              "    .dataframe tbody tr th:only-of-type {\n",
              "        vertical-align: middle;\n",
              "    }\n",
              "\n",
              "    .dataframe tbody tr th {\n",
              "        vertical-align: top;\n",
              "    }\n",
              "\n",
              "    .dataframe thead th {\n",
              "        text-align: right;\n",
              "    }\n",
              "</style>\n",
              "<table border=\"1\" class=\"dataframe\">\n",
              "  <thead>\n",
              "    <tr style=\"text-align: right;\">\n",
              "      <th></th>\n",
              "      <th>Model</th>\n",
              "      <th>RMSE</th>\n",
              "      <th>MAE</th>\n",
              "      <th>Fit Time</th>\n",
              "      <th>Test Time</th>\n",
              "    </tr>\n",
              "  </thead>\n",
              "  <tbody>\n",
              "    <tr>\n",
              "      <th>0</th>\n",
              "      <td>SVD</td>\n",
              "      <td>0.8900186</td>\n",
              "      <td>0.6521916</td>\n",
              "      <td>0.5305056</td>\n",
              "      <td>0.0190976</td>\n",
              "    </tr>\n",
              "    <tr>\n",
              "      <th>1</th>\n",
              "      <td>SVD++</td>\n",
              "      <td>0.8867699</td>\n",
              "      <td>0.6444038</td>\n",
              "      <td>3.8447493</td>\n",
              "      <td>0.1043778</td>\n",
              "    </tr>\n",
              "    <tr>\n",
              "      <th>2</th>\n",
              "      <td>KNNBasic</td>\n",
              "      <td>1.0076508</td>\n",
              "      <td>0.6971592</td>\n",
              "      <td>0.0968201</td>\n",
              "      <td>0.0740165</td>\n",
              "    </tr>\n",
              "    <tr>\n",
              "      <th>3</th>\n",
              "      <td>KNNWithZScore</td>\n",
              "      <td>0.9660434</td>\n",
              "      <td>0.6590307</td>\n",
              "      <td>0.1323882</td>\n",
              "      <td>0.0872754</td>\n",
              "    </tr>\n",
              "    <tr>\n",
              "      <th>4</th>\n",
              "      <td>KNNWithMeans User-User</td>\n",
              "      <td>0.9460204</td>\n",
              "      <td>0.6559093</td>\n",
              "      <td>0.1104329</td>\n",
              "      <td>0.0816797</td>\n",
              "    </tr>\n",
              "    <tr>\n",
              "      <th>5</th>\n",
              "      <td>KNNWithMeans Item-Item</td>\n",
              "      <td>0.9481773</td>\n",
              "      <td>0.6536871</td>\n",
              "      <td>0.1075038</td>\n",
              "      <td>0.0768918</td>\n",
              "    </tr>\n",
              "  </tbody>\n",
              "</table>\n",
              "</div>"
            ],
            "text/plain": [
              "                    Model      RMSE       MAE  Fit Time  Test Time\n",
              "0                     SVD 0.8900186 0.6521916 0.5305056  0.0190976\n",
              "1                   SVD++ 0.8867699 0.6444038 3.8447493  0.1043778\n",
              "2                KNNBasic 1.0076508 0.6971592 0.0968201  0.0740165\n",
              "3           KNNWithZScore 0.9660434 0.6590307 0.1323882  0.0872754\n",
              "4  KNNWithMeans User-User 0.9460204 0.6559093 0.1104329  0.0816797\n",
              "5  KNNWithMeans Item-Item 0.9481773 0.6536871 0.1075038  0.0768918"
            ]
          },
          "metadata": {},
          "execution_count": 47
        }
      ]
    },
    {
      "cell_type": "markdown",
      "metadata": {
        "id": "6te0or5tVYiL"
      },
      "source": [
        "**MODEL EVALUATION:**\n",
        "\n",
        "From above algorithm comparisons plots we can infer the followings:\n",
        "\n",
        "1.   RMSE : we can see that SVD++ is giving the best RMSE values\n",
        "2.   MAE : Here SVD++ and KNNWithMean-User-User both are giving the best MAE value\n",
        "3.   SVD++ is showing the best RMSE in Matrix Factorization Based Algorithms.\n",
        "4.   KNNWithMeans is giving the best RMSE in Collaborative Filtering Algorithms.\n",
        "5.  If compare SVD and SVD++ then can notice that RMSE and MAE value of SVD is slightly differs from the SVD++ but the Fit Time and Test Time taken by SVD is significant less(12 times) than SVD++. So, we will proceed with SVD got get top-k recommendations\n"
      ]
    },
    {
      "cell_type": "markdown",
      "metadata": {
        "id": "2N_7JdxZYuST"
      },
      "source": [
        "**MODEL DEPLOYMENT**"
      ]
    },
    {
      "cell_type": "code",
      "metadata": {
        "colab": {
          "base_uri": "https://localhost:8080/"
        },
        "id": "_bTzP2IsLx28",
        "outputId": "0d835ca3-8096-4943-fb94-78818a506586"
      },
      "source": [
        "top_n = defaultdict(list)\n",
        "def get_top_n(predictions, n=k):\n",
        "    # First map the predictions to each user.\n",
        "    top_n = defaultdict(list)\n",
        "    for uid, iid, true_r, est, _ in predictions:\n",
        "        top_n[uid].append((iid, est))\n",
        "\n",
        "    # Then sort the predictions for each user and retrieve the k highest ones.\n",
        "    for uid, user_ratings in top_n.items():\n",
        "        user_ratings.sort(key=lambda x: x[1], reverse=True)\n",
        "        top_n[uid] = user_ratings[:n]\n",
        "\n",
        "    return top_n\n",
        "\n",
        "top_n = get_top_n(predictions_svd, n=k)\n",
        "top_n"
      ],
      "execution_count": null,
      "outputs": [
        {
          "output_type": "execute_result",
          "data": {
            "text/plain": [
              "defaultdict(list,\n",
              "            {'A100UD67AHFODS': [('B002Y6CJJ8', 4.950420659363509),\n",
              "              ('B002HWRJY4', 4.8595121452143575),\n",
              "              ('B0071BTJPI', 4.7678171033258225),\n",
              "              ('B000LRMS66', 4.713019987979951),\n",
              "              ('B000HZDF8W', 4.039676276324506)],\n",
              "             'A100WO06OQR8BQ': [('B003ES5ZUU', 4.653192590867959),\n",
              "              ('B001AW8W7A', 4.599249680262104),\n",
              "              ('B001342KM8', 4.461274970803387),\n",
              "              ('B00006BBAC', 4.37053417967114),\n",
              "              ('B004CLYEH8', 4.3121662417151505)],\n",
              "             'A105TOJ6LTVMBG': [('B000ENUCR4', 4.54871377174186),\n",
              "              ('B006JINHYS', 4.27394262956261),\n",
              "              ('B001F42MKG', 4.160521086935079)],\n",
              "             'A10NMELR4KX0J6': [('B00483WRZ6', 4.320401764716978),\n",
              "              ('B004LSNF04', 4.208885389524216),\n",
              "              ('B000Q8UAWY', 4.0300253257128),\n",
              "              ('B003VAM32E', 4.027487400435389)],\n",
              "             'A10O7THJ2O20AG': [('B00017LSPI', 4.995755893082746),\n",
              "              ('B000QUUFRW', 4.959093154347989),\n",
              "              ('B004LSNF04', 4.956433362988494),\n",
              "              ('B001XURP7W', 4.67639966177273),\n",
              "              ('B000IF51UQ', 4.607111366610191)],\n",
              "             'A10PEXB6XAQ5XF': [('B00622AG6S', 4.55644298306272),\n",
              "              ('B004SBBD8U', 4.396227390433464),\n",
              "              ('B006GWO5WK', 4.044294903652048)],\n",
              "             'A10X9ME6R66JDX': [('B0041Q38NU', 4.573720602595971),\n",
              "              ('B001XURP7W', 4.5053844592583),\n",
              "              ('B0012GK3MQ', 4.432711793384633),\n",
              "              ('B003ES5ZSW', 4.3814038350248),\n",
              "              ('B0009ZBRS0', 4.105086017700551)],\n",
              "             'A10Y058K7B96C6': [('B00017LSPI', 4.852810477263511),\n",
              "              ('B0019EHU8G', 4.826422008526518),\n",
              "              ('B001QUA6RA', 4.788586422536556),\n",
              "              ('B001N85NMI', 4.581971756764955),\n",
              "              ('B005NFG1MS', 4.560454028861205)],\n",
              "             'A10ZBR6O8S8OCY': [('B003FVJYF8', 4.8788356059898295),\n",
              "              ('B004TKTOWC', 4.204306186262748),\n",
              "              ('B002ZRPYC0', 4.119760678262931)],\n",
              "             'A10ZFE6YE0UHW8': [('B001TH7GUU', 4.371249782722931),\n",
              "              ('B000N99BBC', 4.333275315350864),\n",
              "              ('B001MSU1FS', 4.289051675284307),\n",
              "              ('B005EOWBHC', 3.7250404011527656)],\n",
              "             'A1143YEAZYMYHJ': [('B000M17AVO', 4.450524855213527),\n",
              "              ('B003N2POXK', 4.342751705746259),\n",
              "              ('B00168BSEW', 4.2939076391597695),\n",
              "              ('B001GS8FZ2', 4.118840262486757),\n",
              "              ('B0043CVH2Q', 4.110376294244275)],\n",
              "             'A11D1KHM7DVOQK': [('B00007EDM8', 3.922723205250603)],\n",
              "             'A11ED8O95W2103': [('B000EVSLRO', 4.559337286322746)],\n",
              "             'A11EXFO14WEJM1': [('B002K9IHGI', 4.8536785445309505),\n",
              "              ('B002R5AM7C', 4.5715289071066145),\n",
              "              ('B0041OSQ9I', 4.5038609216502055)],\n",
              "             'A11EYMH9UV9XG7': [('B000204SWE', 4.794842272754094),\n",
              "              ('B002KC55OM', 4.135788787422659)],\n",
              "             'A11FX8HL2ANK6T': [('B001F7AHOG', 4.596784460742756),\n",
              "              ('B003M0NURK', 4.401577416836153),\n",
              "              ('B004G6002M', 4.3889358924142226),\n",
              "              ('B0034XRDUA', 4.09863025713505)],\n",
              "             'A11I1I9QLMAM1A': [('B0074BW614', 4.693840027790628),\n",
              "              ('B005KFONIU', 4.564625980839885),\n",
              "              ('B004CLYEE6', 4.404926106224114),\n",
              "              ('B002HWRJBM', 4.332169361025463),\n",
              "              ('B00452V66G', 4.32939965403421)],\n",
              "             'A11KZ906QD08C5': [('B0007QKMQY', 4.746995058210087),\n",
              "              ('B0074BW614', 4.639848415373267),\n",
              "              ('B005MTME3U', 4.607223169351519),\n",
              "              ('B000NP3DJW', 4.5408164240414175),\n",
              "              ('B006WVR9GY', 4.492034836828546)],\n",
              "             'A11OTLEDSW8ZXD': [('B005KP473Q', 4.292240332485661),\n",
              "              ('B0063705PE', 3.986994672792862),\n",
              "              ('B0007U0GZM', 3.9219791478916397)],\n",
              "             'A11T807LX2EF00': [('B001QUA6RA', 4.665146171976707),\n",
              "              ('B0007LJHVA', 4.604663669339946)],\n",
              "             'A11YOTONCPRQ9S': [('B003Z4G3I6', 4.361311016642571),\n",
              "              ('B0071BTJPI', 4.279384356977281),\n",
              "              ('B000UHQVOW', 4.246940516046309),\n",
              "              ('B005CLPP84', 4.157443706008572),\n",
              "              ('B004J4VYEY', 3.9425899410518204)],\n",
              "             'A124WZCUIH2T7W': [('B0002L5R78', 4.513991112871346)],\n",
              "             'A12DQZKRKTNF5E': [('B001UI2FPE', 4.773929613705788),\n",
              "              ('B000VX6XL6', 4.642624648799008),\n",
              "              ('B0002L5R78', 4.634428785279678),\n",
              "              ('B006U3O566', 4.603828603289916),\n",
              "              ('B001FWYXD2', 4.571003864222365)],\n",
              "             'A12EVK82QUTSA6': [('B002WE6D44', 4.9337119824892035),\n",
              "              ('B002K9IHGI', 4.868898591189479),\n",
              "              ('B003XIJ566', 4.784204107312776),\n",
              "              ('B0043D2ICS', 4.081712252710344)],\n",
              "             'A12R3YGEHW7D8G': [('B00017LSPI', 4.605633352197334),\n",
              "              ('B0019EHU8G', 4.536987704980786),\n",
              "              ('B000QUUFRW', 4.5238838077007095),\n",
              "              ('B004S4R5CK', 4.48562608547803),\n",
              "              ('B00137NMMW', 4.239620257940372)],\n",
              "             'A13BX9O5UDBILC': [('B00267S7XW', 4.40201723842971),\n",
              "              ('B000HDJT4S', 4.34681475260581),\n",
              "              ('B00006RVPW', 4.345287297378773),\n",
              "              ('B003YKG2XM', 4.202999809224739),\n",
              "              ('B004GK0GKO', 4.03866004562129)],\n",
              "             'A13WOT3RSXKRD5': [('B004CLYEFK', 4.816922602521271),\n",
              "              ('B002WE6D44', 4.804513641975845),\n",
              "              ('B0041Q38NU', 4.607453967345997)],\n",
              "             'A13WREJ05GMRA6': [('B000MX48VM', 4.283427148642061),\n",
              "              ('B005CT56F8', 4.1903432959542),\n",
              "              ('B001S4OTS6', 4.075273356951481),\n",
              "              ('B0027VT6V4', 3.8801868553207157)],\n",
              "             'A141OPVE376YFI': [('B000067RT6', 5),\n",
              "              ('B0000BZL1P', 4.988865064340586),\n",
              "              ('B001CIREXA', 4.840949828950274),\n",
              "              ('B004Q3R9AQ', 4.8159241155529715),\n",
              "              ('B000TG4BA0', 4.39255448898132)],\n",
              "             'A1435P5AMCPB3X': [('B000204SWE', 4.666396837874517),\n",
              "              ('B000Q8UAWY', 4.376085081778609)],\n",
              "             'A145LBW8ZHF0TW': [('B000MUXJCO', 4.317027975792578),\n",
              "              ('B00007M1TZ', 4.3087301579410235),\n",
              "              ('B0049P6OTI', 3.749405251167535)],\n",
              "             'A149RNR5RH19YY': [('B001OOZ1X2', 4.687500946987803),\n",
              "              ('B001EYV9TM', 4.50998140055111),\n",
              "              ('B0011FOOI2', 4.239467016270543),\n",
              "              ('B00064V6RG', 4.2178227936331485),\n",
              "              ('B00007KDVI', 3.8939023437800775)],\n",
              "             'A14I1F2H7NOYDC': [('B000BQ7GW8', 4.839835865832014),\n",
              "              ('B0027VT6V4', 4.312858444225306)],\n",
              "             'A14JBDSWKPKTZA': [('B003LR7ME6', 5),\n",
              "              ('B003ZHV978', 4.888950856697975),\n",
              "              ('B001TH7GVE', 4.839357630208418),\n",
              "              ('B0010WG2H2', 4.832597781284133),\n",
              "              ('B000UY1MB2', 4.813203826811988)],\n",
              "             'A14MZJTZAQS6CV': [('B005IMFX2K', 4.319243563853065),\n",
              "              ('B001KELVS0', 4.256499041955542),\n",
              "              ('B005FDXMJS', 3.7236656775577908)],\n",
              "             'A1522TN5FVJL0Y': [('B005DSPLCQ', 4.8634456065075655),\n",
              "              ('B000N99BBC', 4.77293629453438),\n",
              "              ('B001IZYV3S', 3.636638707015048)],\n",
              "             'A15G70V9OBTOVO': [('B0002Y5WXE', 4.410414001085924),\n",
              "              ('B000I1X3W8', 4.304472113390274),\n",
              "              ('B000AZ57M6', 4.1283392612252054),\n",
              "              ('B0000A1G05', 4.037119186554512)],\n",
              "             'A15QYHQH80W30L': [('B005LFT3GG', 4.741565110980388),\n",
              "              ('B004W2JKWG', 4.69229314822581),\n",
              "              ('B000TKHBDK', 4.643648971456335),\n",
              "              ('B000HJPK2C', 4.5984329839707945),\n",
              "              ('B002ZCXJZE', 4.51995681535574)],\n",
              "             'A15T9G38F589KM': [('B001TOD7ME', 4.70712428771866),\n",
              "              ('B00127VF68', 4.157156582962628),\n",
              "              ('B005X9XVNQ', 4.033164509916827)],\n",
              "             'A15U64VGUV6RBF': [('B003ES5ZR8', 4.841402859091546),\n",
              "              ('B0052SCU8U', 4.838931469890949),\n",
              "              ('B004Q3R9AQ', 4.734104118400065),\n",
              "              ('B00109Y2DQ', 4.679956710387496),\n",
              "              ('B006U3O566', 4.6214714546415)],\n",
              "             'A16QODENBJVUI1': [('B003X26PMO', 4.686735610991021),\n",
              "              ('B0025ZH43O', 4.659469258323425),\n",
              "              ('B000TXEE14', 4.620741887935318),\n",
              "              ('B003ZHV978', 4.605712112518469),\n",
              "              ('B0007MXZB2', 4.516650054564358)],\n",
              "             'A16RI68PS6T5CA': [('B000N99BBC', 4.522117093015835),\n",
              "              ('B005D5M136', 4.098540014867012),\n",
              "              ('B0013FW8XS', 3.859884904468845),\n",
              "              ('B001L2IKYE', 3.859073826455114),\n",
              "              ('B002IC0YLS', 3.827500160219485)],\n",
              "             'A16SRDVPBXN69C': [('B0007QKMQY', 4.752964950894435),\n",
              "              ('B000EW8074', 4.735544763482724)],\n",
              "             'A17BUUBOU0598B': [('B001DJ64D4', 4.036105208505596),\n",
              "              ('B000TKHBDK', 4.014196316989484),\n",
              "              ('B001NTFAOS', 4.0039468046356275),\n",
              "              ('B0025VKUPW', 3.9556513225428698),\n",
              "              ('B0043M668G', 3.866896078647295)],\n",
              "             'A17HMM1M7T9PJ1': [('B002TMRZOQ', 4.887761855387572),\n",
              "              ('B002ZIMEMW', 4.838930393018141),\n",
              "              ('B002NO7PWC', 4.818852053858265),\n",
              "              ('B004Q3R9B0', 4.792706316371337),\n",
              "              ('B00109Y2DQ', 4.781472589460667)],\n",
              "             'A17O9AHKHK66AI': [('B003SGCO3E', 4.282514116703654),\n",
              "              ('B003UE52ME', 4.0753656923750485),\n",
              "              ('B003N2POXK', 3.9793421096537234),\n",
              "              ('B0063705PE', 3.7040538015482527)],\n",
              "             'A186697K4XKXQL': [('B001S4OTS6', 4.434952065566386),\n",
              "              ('B005DOUJL8', 4.314387575572409),\n",
              "              ('B006K550J0', 4.163863216133609),\n",
              "              ('B0043CVH2Q', 4.079770703209612),\n",
              "              ('B0049SKIDI', 3.9752372782481293)],\n",
              "             'A18EA7MNLXP9H5': [('B002Y6CJJ8', 4.299010909595414),\n",
              "              ('B000UHQVOW', 4.0839795461360255),\n",
              "              ('B005C31HC0', 4.073030461021811),\n",
              "              ('B0026ZPFCK', 4.0500776782711165),\n",
              "              ('B003VAGXZC', 4.036905488990898)],\n",
              "             'A18FLOC8YQY0P8': [('B0000BZL1P', 4.489472510886558),\n",
              "              ('B006W8U2MU', 4.3603346984907585),\n",
              "              ('B0053NBLFW', 3.7743199346251064)],\n",
              "             'A18HE80910BTZI': [('B0034CL2ZI', 4.289542566023466),\n",
              "              ('B0002MQGOK', 4.287327260726435),\n",
              "              ('B002JQNXZC', 4.263762200752202),\n",
              "              ('B002WE4HE2', 4.221307329611706),\n",
              "              ('B003M0NURK', 4.090749557035737)],\n",
              "             'A18OTCHQ6MXD6X': [('B002V8C3W2', 4.918907558201102),\n",
              "              ('B003NR57BY', 4.619791854237747),\n",
              "              ('B001KELVS0', 4.440743341688065)],\n",
              "             'A18S2VGUH9SCV5': [('B001AW8W7A', 4.553888329380055),\n",
              "              ('B000TKHBDK', 4.524754176590088),\n",
              "              ('B002I3OZ7G', 4.415719183418814),\n",
              "              ('B001HSOFI2', 4.374918942364999),\n",
              "              ('B002C7481G', 4.348414595063079)],\n",
              "             'A18YMFFJW974QS': [('B0016BVKAQ', 4.368504552789472),\n",
              "              ('B000FVGM38', 4.2246103809911375),\n",
              "              ('B002BDU95A', 4.015556284163429),\n",
              "              ('B002KKFP9Y', 3.841695728903024),\n",
              "              ('B002ZRPYC0', 3.5165023236412205)],\n",
              "             'A1901NTE8LFJF6': [('B000M2TAN4', 4.712040284219619),\n",
              "              ('B001T9NUJE', 4.389518333845314),\n",
              "              ('B001PIBE8I', 4.365723051809169),\n",
              "              ('B0034XRDUA', 3.9313783209701763),\n",
              "              ('B0043D2ICS', 3.741844197515923)],\n",
              "             'A195EZSQDW3E21': [('B003ES5ZUU', 4.437784165822669),\n",
              "              ('B0035FZJHQ', 4.332623499423846),\n",
              "              ('B000ZMCILW', 4.2953288632769455),\n",
              "              ('B00029U1DK', 4.245936068830922),\n",
              "              ('B001HSOFI2', 3.9556323777726616)],\n",
              "             'A196JN53PG0C7R': [('B001TH7GUA', 4.823401428964903),\n",
              "              ('B003ES5ZSW', 4.497171027726075)],\n",
              "             'A197T2N6RU7K56': [('B002QUZM0U', 4.7617062148241915),\n",
              "              ('B004NY9UV4', 4.690730172196544),\n",
              "              ('B003L1ZYZ6', 4.6180536628080375),\n",
              "              ('B00007M1TZ', 4.60053872466663),\n",
              "              ('B00004ZCJE', 4.235580562910682)],\n",
              "             'A198CCH4NNLI2E': [('B001TH7GVE', 4.245290566364147),\n",
              "              ('B002TLTGM6', 4.235916788324282)],\n",
              "             'A19EKT8H85AKO5': [('B004CLYEFK', 4.756290844827919),\n",
              "              ('B0063705PE', 4.171323121567743)],\n",
              "             'A19HT7YC1UW3D6': [('B004RORMF6', 5),\n",
              "              ('B004QK7HI8', 4.787165624198587),\n",
              "              ('B000FBK3QK', 4.7206098181831075)],\n",
              "             'A19RGDJPNZ7NZ': [('B006EKIQYM', 4.557117307063016)],\n",
              "             'A19RW25Q6206I3': [('B000BY52NK', 4.820331182702823)],\n",
              "             'A19W47CXJJP1MI': [('B000JE7GPY', 5),\n",
              "              ('B000HPV3RW', 5),\n",
              "              ('B001TH7GUA', 4.98788068099028),\n",
              "              ('B005FYNSPK', 4.933213149364874),\n",
              "              ('B001FA1O0O', 4.822916330044388)],\n",
              "             'A19X4BF861LQST': [('B000BQ7GW8', 4.17705016805505),\n",
              "              ('B0013FRNKG', 4.035982521193402),\n",
              "              ('B000X24ISU', 3.775413939973894)],\n",
              "             'A19XMHRB3G4DIR': [('B004CLYEH8', 4.631522336884049),\n",
              "              ('B001OQC0IO', 4.523606502976134),\n",
              "              ('B002JCSCYS', 4.49534946608737)],\n",
              "             'A19XPAWSWDRI3B': [('B0011U65F2', 4.583001844415138),\n",
              "              ('B005CT56F8', 4.467448181599311),\n",
              "              ('B000UWX70S', 3.740012602234516)],\n",
              "             'A1A306IAZ3TM1': [('B00009EHJV', 4.51765185644235),\n",
              "              ('B0025ZH43O', 4.448909342765312),\n",
              "              ('B003M0NURK', 4.41920815513684),\n",
              "              ('B000HZDF8W', 3.6486414940711267)],\n",
              "             'A1A535TCGNMVPI': [('B0010WG2H2', 4.355538560090097),\n",
              "              ('B002BDU95A', 4.342795836697825),\n",
              "              ('B0013IWYHU', 4.308838296719644),\n",
              "              ('B000BKJZ9Q', 4.26939643376846),\n",
              "              ('B000V1MLBE', 3.935694420387733)],\n",
              "             'A1A5KUIIIHFF4U': [('B00007IFED', 4.58719452819908)],\n",
              "             'A1AQ8JT2A3UWMY': [('B000AZ57M6', 4.647395645599197),\n",
              "              ('B004FA8NOQ', 4.529208891704232),\n",
              "              ('B002DW99H8', 4.3039554172414025)],\n",
              "             'A1ASWDAEDTTY5I': [('B00182CIB8', 4.724734361963658)],\n",
              "             'A1ATVMMJZP3Q4X': [('B0011Z44UA', 4.660895344718138),\n",
              "              ('B00007E7JU', 4.568499811265995),\n",
              "              ('B0000A1G05', 4.448080523123349)],\n",
              "             'A1B0NL8UWAELI7': [('B000067RT6', 4.759958070832147),\n",
              "              ('B001ENW61I', 4.63571661402284),\n",
              "              ('B00007E7JU', 4.605408791255335),\n",
              "              ('B0007U00X0', 4.59516639903089),\n",
              "              ('B0007DDK7A', 4.437459797171434)],\n",
              "             'A1B4MIXYVIKMU2': [('B0009GZSSO', 4.401767720034912),\n",
              "              ('B0045FM6SU', 4.047375341052341),\n",
              "              ('B0015DYMVO', 4.0299515012598075),\n",
              "              ('B002SQK2F2', 3.1627608826569946)],\n",
              "             'A1BJOHHLG0D965': [('B00316263Y', 4.700192805208447),\n",
              "              ('B004I5BUSO', 4.533396872529099),\n",
              "              ('B002QEBMAK', 4.409050976232754),\n",
              "              ('B003M0NURK', 4.39491276376003),\n",
              "              ('B0036VO6IC', 4.249718814661244)],\n",
              "             'A1BT6TL7UCIC5Y': [('B006EKIQYM', 4.7788030776638815),\n",
              "              ('B003ZSHKJ8', 4.459065714851124),\n",
              "              ('B001GS8FZ2', 4.351919021970134),\n",
              "              ('B001GUPEMW', 4.325118392033977),\n",
              "              ('B002MCZ2L6', 4.254604796214126)],\n",
              "             'A1BVE2ZIBKJ7YI': [('B005KG44V0', 3.4997303298781754)],\n",
              "             'A1C47ROOK7BSVL': [('B002WE0QN8', 4.721452373078945),\n",
              "              ('B006EKIQYM', 4.656847033514086)],\n",
              "             'A1C5WS021EL3WO': [('B000067RT6', 4.715549855939771),\n",
              "              ('B00267S7XW', 4.565810459713703),\n",
              "              ('B001N85NMI', 4.485972454426424),\n",
              "              ('B004SBBD8U', 4.468108727719644),\n",
              "              ('B005HMKKH4', 4.37142553812581)],\n",
              "             'A1CM4HI4S5P0WO': [('B003VAGXZC', 4.0848329627624915)],\n",
              "             'A1CMD08Z49PGKQ': [('B00483WRZ6', 5),\n",
              "              ('B003ES5ZUU', 5),\n",
              "              ('B000M2TAN4', 5),\n",
              "              ('B000SMVQK8', 4.76945566317057),\n",
              "              ('B004QK7HI8', 4.717997722726803)],\n",
              "             'A1CPRP3VFJRS1R': [('B005FYNSPK', 4.34372072715599),\n",
              "              ('B002VPDM2A', 4.280066834023371),\n",
              "              ('B0054JJ0QW', 4.200339685398458),\n",
              "              ('B0013FW8XS', 3.722849812784048)],\n",
              "             'A1CYTBE7LLUQ8F': [('B000F7JCRA', 4.780938985607279),\n",
              "              ('B000EVLS4C', 4.5064406099327154),\n",
              "              ('B00093IIRA', 4.436565589285324),\n",
              "              ('B001EZRJZE', 4.312100477958992)],\n",
              "             'A1DQHS7MOVYYYA': [('B004Q3R9B0', 4.82954707934646),\n",
              "              ('B0039BPG1A', 4.718302651195747),\n",
              "              ('B006WVR9GY', 4.396873391480819)],\n",
              "             'A1E1LEVQ9VQNK': [('B006FLENJC', 4.995059427421063),\n",
              "              ('B000M2GYF6', 4.963326650278966),\n",
              "              ('B00109Y2DQ', 4.923190773536786),\n",
              "              ('B005DOUJL8', 4.9208169254991),\n",
              "              ('B000ZMCILW', 4.887486836011575)],\n",
              "             'A1EH2S92FHWZRP': [('B003ES5ZUU', 4.605464589460742),\n",
              "              ('B006DEBYWU', 4.358221763829337),\n",
              "              ('B001PIBE8I', 4.291450574734098),\n",
              "              ('B005NFG1MS', 4.231367118535542),\n",
              "              ('B002IC0YL8', 4.225869157698209)],\n",
              "             'A1EKSETIBS9ETQ': [('B00005LEN4', 4.845705104752387),\n",
              "              ('B000M17AVO', 4.7261984706874225),\n",
              "              ('B000LRMS66', 4.4737445626713805),\n",
              "              ('B001GCVA0U', 4.441247227123847),\n",
              "              ('B004G6002M', 4.289337085458751)],\n",
              "             'A1EVV74UQYVKRY': [('B001FA1O0O', 4.4922472445320345),\n",
              "              ('B0002SQ2P2', 4.429943803390906),\n",
              "              ('B00310PJM0', 4.333491835488753),\n",
              "              ('B004G6002M', 4.331568442048007),\n",
              "              ('B005QCDY50', 3.9731583915964555)],\n",
              "             'A1EXGL6L0QQ0M5': [('B000M2TAN4', 4.78609202841928),\n",
              "              ('B0034CL2ZI', 4.762938962890861),\n",
              "              ('B004CLYE8C', 4.566223907906001),\n",
              "              ('B004LTEUDO', 4.369840825967645),\n",
              "              ('B003NSBF32', 4.348340786981461)],\n",
              "             'A1F0KPA232MTYC': [('B001TH7GUU', 4.552611383561705),\n",
              "              ('B000CRFOMK', 4.330967113682542),\n",
              "              ('B003HFCDLY', 4.291025666941132),\n",
              "              ('B00483WRZ6', 4.272732469955845),\n",
              "              ('B004QK7HI8', 4.20181264480038)],\n",
              "             'A1F1A0QQP2XVH5': [('B000H4CLXS', 4.453356199215678),\n",
              "              ('B002TMRZOQ', 4.4102380612395615),\n",
              "              ('B003ZSHNGS', 4.37511935605418),\n",
              "              ('B003NR57BY', 4.348480542800632),\n",
              "              ('B006TF37H8', 4.211789866950856)],\n",
              "             'A1F7YU6O5RU432': [('B006FLENJC', 4.942767854913346),\n",
              "              ('B002Y6CJJ8', 4.916614630917787),\n",
              "              ('B005FDXZJU', 4.885925997049348),\n",
              "              ('B000O8WE66', 4.7564293188173075),\n",
              "              ('B004CZ9U96', 4.648341465620727)],\n",
              "             'A1F9Z42CFF9IAY': [('B000H4CLXS', 3.977848073312714),\n",
              "              ('B000M17AVO', 3.9463153635524906),\n",
              "              ('B005CT56F8', 3.922707759990162)],\n",
              "             'A1FR68QH6Z4YZM': [('B0007U00X0', 4.46134769579702),\n",
              "              ('B003XFWSU4', 4.357544050669484),\n",
              "              ('B0030MITDK', 4.343509335416425),\n",
              "              ('B001T9N120', 4.0595183911701005)],\n",
              "             'A1GBT4UN2RW7XY': [('B002V88HFE', 4.517550070400998),\n",
              "              ('B0025ZH43O', 4.405147409199879),\n",
              "              ('B004JWA70I', 4.297143747068517),\n",
              "              ('B004GUT1QO', 4.270647425024192),\n",
              "              ('B0046HAO40', 4.229965186444609)],\n",
              "             'A1H4IVXNXWWBLV': [('B002VPE1WK', 4.643423307545914),\n",
              "              ('B00007EDM8', 4.331732918802736)],\n",
              "             'A1H98YV5K5BUX0': [('B00004WCIC', 4.265338497714758),\n",
              "              ('B00093IIRA', 4.187520238890653),\n",
              "              ('B000F34FVM', 4.168289217572555)],\n",
              "             'A1IBKN1GXYJ3K4': [('B002DW99H8', 4.6090844981585475)],\n",
              "             'A1IG1I6MR3HAWA': [('B0014J07R2', 4.219457497921569)],\n",
              "             'A1ILWPH1GHUXE2': [('B001NTFAOS', 4.207882547524256),\n",
              "              ('B005D5M136', 4.184671288295281),\n",
              "              ('B00168BSEW', 4.104799281622516),\n",
              "              ('B000R9AAJA', 3.9848522389852823),\n",
              "              ('B0001FTVE0', 3.832480991885451)],\n",
              "             'A1IU7S4HCK1XK0': [('B005FDXZJU', 4.717913612481433),\n",
              "              ('B002FB7IX4', 4.679068995114328),\n",
              "              ('B003NR57BY', 4.633274512900246),\n",
              "              ('B002VPE1WK', 4.572548604401334),\n",
              "              ('B004QK7HI8', 4.4595435737030735)],\n",
              "             'A1J75JJ0Q2OEJN': [('B001TOD7ME', 4.475083942852677),\n",
              "              ('B001NJ0D0Y', 4.3185038083271365),\n",
              "              ('B004CLYEH8', 4.2450523465158865),\n",
              "              ('B005CLPP84', 4.105817056489787),\n",
              "              ('B001FA1O18', 4.0618174761760475)],\n",
              "             'A1J87SYB3JPQWH': [('B002NEGTTW', 4.773121236613936),\n",
              "              ('B002I3OZ7G', 4.5630157179935),\n",
              "              ('B001G5ZTLS', 4.436747791433691)],\n",
              "             'A1JUBRIZMO0RJV': [('B002TMRZOQ', 4.48407619394319),\n",
              "              ('B001FA1O0O', 4.233816369856916),\n",
              "              ('B003YH9EZ8', 4.161719495255585),\n",
              "              ('B004GUT1QO', 4.061825720847011),\n",
              "              ('B003YKG2W8', 4.025502472968751)],\n",
              "             'A1JZFGZEZVWQPY': [('B000N99BBC', 4.80605552232482),\n",
              "              ('B004Q3R9AQ', 4.746804083687162),\n",
              "              ('B000FITKK8', 4.528585097850874),\n",
              "              ('B006K550J0', 4.4174319595659),\n",
              "              ('B006ZBWV0K', 4.364030822119226)],\n",
              "             'A1K4G5YJDJQI6Q': [('B0009GZSSO', 4.48509912696983),\n",
              "              ('B002QEBMAK', 4.380017176573428)],\n",
              "             'A1KD8NJPZ01R37': [('B000AP05BO', 3.8943271335211542)],\n",
              "             'A1KKE6VX8VPWZK': [('B003CFATT2', 4.873584161793625),\n",
              "              ('B001FWBUUG', 4.849086582457151),\n",
              "              ('B001NJ0WCS', 4.702192161086927),\n",
              "              ('B0002L5R78', 4.698896632327367),\n",
              "              ('B001U5YZ4G', 4.550020991802843)],\n",
              "             'A1KXJCXS6HFRQZ': [('B002TLTE6O', 4.562983513816543),\n",
              "              ('B004CLYEDC', 4.504292725511559),\n",
              "              ('B003CFATT2', 4.500396579844572),\n",
              "              ('B0002MQGOK', 4.486225940018532),\n",
              "              ('B004YLAYHA', 4.36123767839313)],\n",
              "             'A1KY5G5FP31F2F': [('B004GUT1QO', 4.225161171423411)],\n",
              "             'A1L64KDYO5BOJA': [('B000U5TUWE', 4.562228791238954),\n",
              "              ('B001T9N120', 4.396640268217215),\n",
              "              ('B001L6LG5K', 4.271239732205524)],\n",
              "             'A1M7HP5CHDXXOU': [('B003ES5ZUU', 4.659218396252309),\n",
              "              ('B003ZBZ64Q', 4.346091806231121),\n",
              "              ('B001EZRJZE', 4.189040512974668),\n",
              "              ('B001PUQ7PG', 4.147845328125702)],\n",
              "             'A1MFAPVBW9BEGD': [('B000N99BBC', 4.510919715448891),\n",
              "              ('B005IA843W', 4.312604734437684),\n",
              "              ('B000BY52NK', 4.282855989404456),\n",
              "              ('B005FYNSPK', 4.187850549380098)],\n",
              "             'A1MFVAHTT2BHM0': [('B001F51G16', 4.441926306757082),\n",
              "              ('B002WE4HE2', 4.427869672594029),\n",
              "              ('B005MTME3U', 4.375960111269553),\n",
              "              ('B002QEBMAK', 4.244689833273237),\n",
              "              ('B000S5Q9CA', 4.229664000051743)],\n",
              "             'A1MJMYLRTZ76ZX': [('B00081A2KY', 4.537064178198086),\n",
              "              ('B002V88HFE', 4.533289029572376),\n",
              "              ('B0002LEMWE', 4.503696944030728)],\n",
              "             'A1MRPX3RM48T2I': [('B003ES5ZUU', 4.990844154637303),\n",
              "              ('B005C31HC0', 4.685928488119606)],\n",
              "             'A1MZL91Z44RN06': [('B002WE6D44', 4.700832172914352),\n",
              "              ('B005L38VPC', 4.563984331747984),\n",
              "              ('B0013AV4M4', 4.532615949809872),\n",
              "              ('B004CLYEH8', 4.505602661592237),\n",
              "              ('B005HMKKH4', 4.4172914036346285)],\n",
              "             'A1N5FSCYN4796F': [('B002V88HFE', 4.3172939123420875),\n",
              "              ('B005DKZTMG', 4.1711532457564),\n",
              "              ('B001NTDGQC', 4.1258490416992215),\n",
              "              ('B002HWRZ2K', 3.948421174217495),\n",
              "              ('B004TLH6GM', 3.8751252832492193)],\n",
              "             'A1NAA1R38JSNHV': [('B000BQ7GW8', 4.638166057996277),\n",
              "              ('B000TXEE14', 4.476005020371447)],\n",
              "             'A1NGFGBX2VCQS8': [('B0052SCU8U', 4.661814124700718),\n",
              "              ('B006EKIQYM', 4.47091702487975),\n",
              "              ('B00752R4PK', 4.250856773957081),\n",
              "              ('B003NSBF32', 4.2071412733569575),\n",
              "              ('B0053NBLFW', 4.129956984208357)],\n",
              "             'A1NJHKPHD4YWZV': [('B00006I53X', 4.3304528019170325)],\n",
              "             'A1NNMOD9H36Q8E': [('B00005LEN4', 4.591054691442623),\n",
              "              ('B00119T6NQ', 4.361725924972655),\n",
              "              ('B0007LJHVA', 4.182218310537387)],\n",
              "             'A1O229NVVDJUX2': [('B006W8U2MU', 4.542035071006285),\n",
              "              ('B000AZ57M6', 4.452170353801503),\n",
              "              ('B003VAHYNC', 4.4206427002618645),\n",
              "              ('B002R5AM7C', 4.234761710136685),\n",
              "              ('B0036VO6IC', 4.059497755145208)],\n",
              "             'A1ODOGXEYECQQ8': [('B001E1Y5O6', 4.632493628446829),\n",
              "              ('B003ZBZ64Q', 4.578755270971384),\n",
              "              ('B000VX6XL6', 4.5758923352225525),\n",
              "              ('B0011NVMO8', 4.565597878516901),\n",
              "              ('B0041L3JS4', 4.4662140694189345)],\n",
              "             'A1OGCPMSIVK7G4': [('B00104XCVO', 4.69637366605224),\n",
              "              ('B000QUUFRW', 4.634459352270064),\n",
              "              ('B004TJ6JH6', 4.615909274715151)],\n",
              "             'A1OMXVXXP07F05': [('B006ZT4VA0', 4.703392075108557),\n",
              "              ('B005DKZP6G', 4.190471056762526),\n",
              "              ('B0044YU60M', 4.140214058977897)],\n",
              "             'A1OO9N1MRNQ7K0': [('B003SGCO3E', 4.836837473817823),\n",
              "              ('B005FYNSPK', 4.72715939411926)],\n",
              "             'A1P0JSFW184ZXJ': [('B001OOZ1X2', 4.779884106989852),\n",
              "              ('B0015AARJI', 4.469155998695261),\n",
              "              ('B001NEK0P2', 4.390051856722955),\n",
              "              ('B0011FCV8W', 3.979387712298182)],\n",
              "             'A1P3DDFL423B3C': [('B002BDU95A', 3.9907631441742835),\n",
              "              ('B001A4LVYY', 3.9506243700332986),\n",
              "              ('B000A6PPOK', 3.934146018970158),\n",
              "              ('B0015DYMVO', 3.8015649438025045)],\n",
              "             'A1PL7QILVQV3IF': [('B00081A2KY', 4.55191485810195),\n",
              "              ('B000JE7GPY', 4.547940354692265),\n",
              "              ('B001A4LVYY', 4.527729051539785),\n",
              "              ('B001HSOFI2', 4.188882070491865)],\n",
              "             'A1PM7HH4F77NEH': [('B003FVJYF8', 4.840088061736111),\n",
              "              ('B003XM1WE0', 4.7986440845156135),\n",
              "              ('B0071BTJPI', 4.672303408063107)],\n",
              "             'A1PN2U0AWXGVML': [('B0002L5R78', 4.864130681033456),\n",
              "              ('B0007U00X0', 4.846539689922463),\n",
              "              ('B000V5P90K', 4.729561736235139),\n",
              "              ('B000V5K3FG', 4.5596265108726115),\n",
              "              ('B000BKJZ9Q', 4.300631090438963)],\n",
              "             'A1PSVZBM894R5H': [('B003CJTQJC', 4.403442255478327),\n",
              "              ('B000Q82PIQ', 4.268908252879172),\n",
              "              ('B000CS7U1C', 4.131849105099891),\n",
              "              ('B0049P6OTI', 3.935186659662867)],\n",
              "             'A1PV5T5S4D5NPI': [('B003LR7ME6', 5),\n",
              "              ('B002WE6D44', 4.935591184018587),\n",
              "              ('B005HMKKH4', 4.633908311599067),\n",
              "              ('B000IF4788', 4.489353285248167),\n",
              "              ('B001SJVU6K', 4.433088651157443)],\n",
              "             'A1PVJICI412IN4': [('B001QUA6R0', 3.74960080900691)],\n",
              "             'A1Q5P5ML3176C0': [('B001G5ZTLS', 4.631899059496487)],\n",
              "             'A1QJ10LEINDRWW': [('B0021Y73W6', 4.507255367174051)],\n",
              "             'A1QNYLBG73QRNF': [('B0002LEMWE', 4.628006912591851),\n",
              "              ('B000MX48VM', 4.590661761030094),\n",
              "              ('B0028Y4H0K', 3.9697605894068717),\n",
              "              ('B001CHHVCU', 3.7401020312339184)],\n",
              "             'A1QOIHVQC5XWCJ': [('B002J9HBIO', 4.440363947034416),\n",
              "              ('B001GS8FZ2', 4.126369009316968)],\n",
              "             'A1QOK9LU90ACF7': [('B000F7QRTG', 4.759022951240744),\n",
              "              ('B004VM1T5S', 4.298374101366205),\n",
              "              ('B002R5AM7C', 4.265825669334095),\n",
              "              ('B000LRMS66', 4.259885395289138),\n",
              "              ('B005VAORH6', 4.233025887887731)],\n",
              "             'A1QQA7Y92L4F9R': [('B001S4OTS6', 4.806301379086205),\n",
              "              ('B0002MQGOK', 4.64705961446894),\n",
              "              ('B002YU83YO', 4.6094722850923935),\n",
              "              ('B001QUA6R0', 4.549537869492699),\n",
              "              ('B000VE2RP6', 4.457755187647052)],\n",
              "             'A1QVFHPY8418HC': [('B000RZQZM0', 4.776112239438544),\n",
              "              ('B00009EHJV', 4.756804705758401),\n",
              "              ('B000BQ57BU', 4.513326151613274),\n",
              "              ('B000MUXJCO', 4.500526760117402),\n",
              "              ('B00192KCAG', 4.35769614626048)],\n",
              "             'A1R19YYR5OR26T': [('B001TH7GUU', 4.9387212374011655),\n",
              "              ('B002V88HFE', 4.776826449255183),\n",
              "              ('B003X7TRWE', 4.644129927513574),\n",
              "              ('B002J9HBIO', 4.482324678148486)],\n",
              "             'A1R377IPZOKLMM': [('B001TH7GUU', 4.934443595795147),\n",
              "              ('B000N99BBC', 4.919752556217311),\n",
              "              ('B002K9IHGI', 4.806452515348114),\n",
              "              ('B000WYVBR0', 4.7653049376061585),\n",
              "              ('B00007IFED', 4.764675441629)],\n",
              "             'A1RJKTYC03L0JY': [('B0045FM6SU', 3.872200687892628)],\n",
              "             'A1RL1OTV8IJMVD': [('B0019EHU8G', 4.429016991360744),\n",
              "              ('B001NTDGQC', 4.401629358310052),\n",
              "              ('B001DJ7Y2O', 4.130821141240651),\n",
              "              ('B002FYL7PG', 4.105852932610625),\n",
              "              ('B00691WMJG', 4.098979098962769)],\n",
              "             'A1RPTVW5VEOSI': [('B006ZH0KVG', 4.4865163079221215),\n",
              "              ('B003YKG2XM', 4.072410352600266),\n",
              "              ('B0063705PE', 4.000959732053807)],\n",
              "             'A1S27P7KJO9I96': [('B00622AG6S', 4.395759216633715),\n",
              "              ('B004XQWGHW', 4.385839451299608),\n",
              "              ('B001BM5XB2', 4.3519132508841825),\n",
              "              ('B001AYW91I', 3.9258293971468006)],\n",
              "             'A1SB9BNNGKNX2Z': [('B000CKVOOY', 4.881573640951635),\n",
              "              ('B0076MBOC8', 4.655379357731899),\n",
              "              ('B0042FZA1S', 4.640400536629199),\n",
              "              ('B0000BVYTV', 4.619919600146848),\n",
              "              ('B005DM9BGE', 4.5652368048885155)],\n",
              "             'A1SFPA80X7TRBR': [('B0002LEMWE', 4.922613367665897),\n",
              "              ('B0002Y5WZM', 4.459012816828327),\n",
              "              ('B000U5TUWE', 4.216425456794616),\n",
              "              ('B00004ZCJE', 4.129216986245544)],\n",
              "             'A1SHHQSPOWR00F': [('B00005LEN4', 4.39461182771483),\n",
              "              ('B000HGIWN4', 4.312360247483739),\n",
              "              ('B002WE4HE2', 4.231825682037855),\n",
              "              ('B001U0O5QO', 4.029159899363922),\n",
              "              ('B000BN94F8', 4.017435131817926)],\n",
              "             'A1SX9PHJWTDMF9': [('B00020S7XK', 4.70638668388018),\n",
              "              ('B00004T8R2', 4.523657809122296)],\n",
              "             'A1T1YSCDW0PD25': [('B00007IFED', 4.68801566731537),\n",
              "              ('B001C271MA', 4.663949274945913),\n",
              "              ('B000BTL0OA', 4.65473788772497),\n",
              "              ('B002WE6D44', 4.645566866364431),\n",
              "              ('B002BH3Z8E', 4.616990331368281)],\n",
              "             'A1T7EHCMZ92TKC': [('B005DSPLCQ', 4.6095159554185665),\n",
              "              ('B003VAGXZC', 4.422732796823581),\n",
              "              ('B002R5AM7C', 4.262523141072677),\n",
              "              ('B001DULYZG', 4.154485968167878),\n",
              "              ('B001AYW91I', 4.013772509100926)],\n",
              "             'A1TDR7Y90SVCHL': [('B001TH7T2U', 4.669180814910153),\n",
              "              ('B002WE6D44', 4.66593339881373),\n",
              "              ('B003HFCDLY', 4.562339801484856),\n",
              "              ('B002RCNX8K', 4.555723260107936),\n",
              "              ('B000MX48VM', 4.465578760841138)],\n",
              "             'A1TFDMY4YNTV97': [('B0027AGK3M', 4.628198924686347)],\n",
              "             'A1TQBAHI3M4ZBQ': [('B0013DXVYK', 4.796912164397027),\n",
              "              ('B0002L5R78', 4.7850229060252385),\n",
              "              ('B000JMJWV2', 4.773579269941154)],\n",
              "             'A1TQZUSOU22E9M': [('B0025VKUQQ', 4.8920060258236795),\n",
              "              ('B001OI2YNS', 4.7228040959345625),\n",
              "              ('B002SZEOLG', 4.5457115009270685),\n",
              "              ('B002JM1V6O', 4.537177643378467),\n",
              "              ('B001TK3ACA', 4.507474291569544)],\n",
              "             'A1U4GOVZWL8ZTL': [('B0036Q7MV0', 4.724925290998671),\n",
              "              ('B005LFT3GG', 4.597061589205466)],\n",
              "             'A1U5IJHJK84S54': [('B003LR7ME6', 4.008230725720731),\n",
              "              ('B003N2POXK', 3.7896049345687493)],\n",
              "             'A1U5NWJOYH2QQH': [('B001UI2FPE', 4.442912505510327)],\n",
              "             'A1UEL5C1N6E5SE': [('B00006B7DA', 4.5901116550866705),\n",
              "              ('B000JMJWV2', 4.4564834438609315),\n",
              "              ('B0073FE1F0', 4.4254108437946025),\n",
              "              ('B0001FTVEK', 3.8181754401436208)],\n",
              "             'A1UQBFCERIP7VJ': [('B004CLYEFK', 4.6702637155808056),\n",
              "              ('B005VAORH6', 4.425681952136334),\n",
              "              ('B0044WWLW0', 4.383259114428659),\n",
              "              ('B005276QS6', 4.286799585559609),\n",
              "              ('B003WQ8EX4', 4.063868566724615)],\n",
              "             'A1URXSRV6WDHVY': [('B004CLYEDC', 4.854885866644442),\n",
              "              ('B001TH7GT6', 4.726362297617199),\n",
              "              ('B00119T6NQ', 4.6875845983623865),\n",
              "              ('B005DIQ2OC', 4.685677744742338),\n",
              "              ('B0041Q38NU', 4.628971147182756)],\n",
              "             'A1V3TRGWOMA8LC': [('B001CIREXA', 4.718588232586329),\n",
              "              ('B003M0NURK', 4.6009165469729485),\n",
              "              ('B004XZHY34', 4.353034471806108),\n",
              "              ('B005GOINEK', 4.31834113608755),\n",
              "              ('B0049SKIDI', 4.148604167065164)],\n",
              "             'A1V4A5U5O3TMMD': [('B000QUUFRW', 4.341931052767381),\n",
              "              ('B006JINHYS', 4.096948714376687),\n",
              "              ('B002MAPRYU', 3.534825562423769)],\n",
              "             'A1V4VVBQBFXRHC': [('B0034CL2ZI', 4.920560269860106),\n",
              "              ('B003ZBZ64Q', 4.841757924948738),\n",
              "              ('B000KO0GY6', 4.832025304730517),\n",
              "              ('B002LLJJAS', 4.606791393966362),\n",
              "              ('B005QCDY50', 4.3150658839400915)],\n",
              "             'A1VFX417XDNWIU': [('B002TLTE6O', 4.6280060660958044),\n",
              "              ('B001DULYZG', 4.025718014042171),\n",
              "              ('B006TF3746', 3.757990314659382)],\n",
              "             'A1VGXHHR08G044': [('B005EOWBKE', 4.344544214907103)],\n",
              "             'A1VHCO8RQFIGQJ': [('B00009XVCZ', 4.701453598600339),\n",
              "              ('B002WE6D44', 4.6444784245589465),\n",
              "              ('B001NS0OZ4', 4.522751378914107),\n",
              "              ('B0000A1G05', 4.515689921018171),\n",
              "              ('B0046RE60I', 4.466346640132506)],\n",
              "             'A1VLVWTLV3LVHR': [('B0025VKUPW', 4.5289264760649806)],\n",
              "             'A1VQHH85U7PX0': [('B0036Q7MV0', 4.988050000583012),\n",
              "              ('B0011NVMO8', 4.599346025420211),\n",
              "              ('B000L47AHG', 4.595325020612376),\n",
              "              ('B002SZEOLG', 4.570780180764753),\n",
              "              ('B001D60LG8', 4.486238700176743)],\n",
              "             'A1VRANSQ0WF1YS': [('B001CCAISE', 4.558031161717908),\n",
              "              ('B0041Q38N0', 4.320716900934527),\n",
              "              ('B00006I53S', 4.180643865124533),\n",
              "              ('B003M8HWDA', 3.9854618455366198),\n",
              "              ('B001LK8P14', 3.7625251953919996)],\n",
              "             'A1VTCSCH8FFC76': [('B001D7REIK', 3.888597802923848),\n",
              "              ('B003BLQHN4', 3.8759406323697774),\n",
              "              ('B0017TFVUW', 3.5776087689443297),\n",
              "              ('B00066IJPQ', 3.5730737404937214)],\n",
              "             'A1VUN4JU731CBH': [('B001342KM8', 3.9191601205117563),\n",
              "              ('B0009Y7APU', 3.7880362587704313),\n",
              "              ('B004J4VYEY', 3.344654113958713)],\n",
              "             'A1VVRA3P6G1TWH': [('B00006I53X', 4.281853581908266),\n",
              "              ('B000V5P90K', 4.232075594210874),\n",
              "              ('B000AZ57M6', 4.185085298246723),\n",
              "              ('B00009XVCZ', 4.178714183891096),\n",
              "              ('B0007QKMQY', 4.165606165094083)],\n",
              "             'A1W415JP5WEAJK': [('B0053R0WWG', 4.661902613103379),\n",
              "              ('B002VPE21A', 4.6048571858436205),\n",
              "              ('B006FLENJC', 4.57824461721544),\n",
              "              ('B006TT91TW', 4.355003599509)],\n",
              "             'A1WXG10FJ353K0': [('B0010WG2H2', 4.729551674168204),\n",
              "              ('B002I3OZ7G', 4.687212897766804),\n",
              "              ('B0058GK55Q', 4.48589769621509),\n",
              "              ('B002O0L0GC', 4.425397979882513),\n",
              "              ('B0013IWYHU', 4.3329170648454065)],\n",
              "             'A1X1CEGHTHMBL1': [('B001E1Y5O6', 4.788910361413184),\n",
              "              ('B002RCNX8K', 4.695242243206081),\n",
              "              ('B004Q0T0LU', 4.4463354076698325),\n",
              "              ('B001SJVU6K', 4.279271914176727)],\n",
              "             'A1X2LENOF84LCQ': [('B002HWRJY4', 4.223544794492797),\n",
              "              ('B0016O8HP4', 3.774433307057103),\n",
              "              ('B0028Y4CWI', 3.7602354665559106),\n",
              "              ('B004GCJEZU', 3.714960278085097),\n",
              "              ('B002O3W2OI', 3.2630191735049494)],\n",
              "             'A1X3DA7C61WZLQ': [('B0015AARJI', 4.320054611106219),\n",
              "              ('B006GWO5WK', 4.056096599533286),\n",
              "              ('B00007KDVI', 3.7290237184955046)],\n",
              "             'A1XE3M22N91451': [('B002V8C3W2', 4.9355301701890815),\n",
              "              ('B002ZIMEMW', 4.853012172278494),\n",
              "              ('B001D60LG8', 4.2570789901523725)],\n",
              "             'A1XXMNLOLKNO0I': [('B0000BZL1P', 5),\n",
              "              ('B00004ZCJE', 4.288535002542943)],\n",
              "             'A1Y85GQ09Y95JL': [('B000CKVOOY', 3.9534264511179185),\n",
              "              ('B003UI62AG', 3.8627064616850184),\n",
              "              ('B00007IFED', 3.715201271762897),\n",
              "              ('B001G5ZTLS', 3.510755349708673),\n",
              "              ('B003VAGXWK', 3.195593700802668)],\n",
              "             'A1YEPFLLH42OU1': [('B000BQ7GW8', 4.843217955296525),\n",
              "              ('B0034CL2ZI', 4.835838107332241),\n",
              "              ('B00622AG6S', 4.693879355928701),\n",
              "              ('B00752R4PK', 4.682299609313049),\n",
              "              ('B003VAK16O', 4.617441429539603)],\n",
              "             'A1YN5I4FINMBTI': [('B004W2JKWG', 4.574352785963747),\n",
              "              ('B0041Q38NU', 4.364604745650007),\n",
              "              ('B0015DYMVO', 4.326325153956663),\n",
              "              ('B000SMVQK8', 4.23138425846733)],\n",
              "             'A1Z16630QMH8Q6': [('B000Q82PIQ', 4.730602018593133),\n",
              "              ('B003M0NURK', 4.658451318585634),\n",
              "              ('B006WVR9GY', 4.612427614359612),\n",
              "              ('B00634PLTW', 4.457228000939567),\n",
              "              ('B002KC55OM', 4.14532344253987)],\n",
              "             'A1Z4GII5CHCDG7': [('B005CT56F8', 4.776944092634721),\n",
              "              ('B0002L5R78', 4.686538753642814),\n",
              "              ('B00006BBAC', 4.651904797164587),\n",
              "              ('B000E6G9RI', 4.6491464059694705),\n",
              "              ('B003NSBF32', 4.468290147913916)],\n",
              "             'A1ZCSSCAGBCD49': [('B002K9IHGI', 4.462022711470819),\n",
              "              ('B004CLYEFK', 4.370090442521117),\n",
              "              ('B003LR7ME6', 4.311984730360814),\n",
              "              ('B002R5AM7C', 4.035609027300947),\n",
              "              ('B004JWA70I', 4.016710804151073)],\n",
              "             'A1ZM846Y7AUYD': [('B00119T6NQ', 4.664797681779538),\n",
              "              ('B001DJ64D4', 4.653397234567565),\n",
              "              ('B000TKHBDK', 4.595514936631555),\n",
              "              ('B002VPE21A', 4.521662118487358),\n",
              "              ('B000LRMS66', 4.30457407058686)],\n",
              "             'A1ZTR0FR5AW9B4': [('B002KETE24', 4.477461672062024),\n",
              "              ('B000KZ70JE', 4.192788413155321)],\n",
              "             'A1ZU55TM45Y2R8': [('B00316263Y', 4.578123053084164),\n",
              "              ('B000N99BBC', 4.566008105343549),\n",
              "              ('B0034CL2ZI', 4.55927037080071),\n",
              "              ('B002TMRZOQ', 4.54454698770493),\n",
              "              ('B0018O9JIG', 4.292888539545518)],\n",
              "             'A1ZVFCPHCWFV71': [('B0076MBOC8', 4.5274307947957135),\n",
              "              ('B0025EWXEU', 4.418639851739882),\n",
              "              ('B0000A1G05', 4.385492061852698)],\n",
              "             'A203OCQQ12MAVT': [('B0052SCU8U', 5),\n",
              "              ('B004CLYEDC', 4.857185068052923),\n",
              "              ('B003ES5ZR8', 4.8377663564586975),\n",
              "              ('B0002D6QJO', 4.7857355721352866),\n",
              "              ('B003UI62AG', 4.7171243317703615)],\n",
              "             'A204K1OFE8OB9Y': [('B0001Y7UAI', 3.99191234288663),\n",
              "              ('B0007U00X0', 3.9375766207905953),\n",
              "              ('B004Q0T0LU', 3.624277856211812)],\n",
              "             'A206CGM6J75UJY': [('B004XC6GJ0', 4.81015434914899),\n",
              "              ('B002YU83YO', 4.807495091154925),\n",
              "              ('B006W8U2MU', 4.699433804530357),\n",
              "              ('B00006RVPW', 4.667735984255744)],\n",
              "             'A20951I210L0IB': [('B001F7AHOG', 3.9593556077333463),\n",
              "              ('B002HWRJY4', 3.9512731752060826),\n",
              "              ('B002QEBMAK', 3.930665867826491)],\n",
              "             'A20DDH4NT6Q1E8': [('B004W2JKWG', 4.716641774847114),\n",
              "              ('B005CT56F8', 4.478550783395154),\n",
              "              ('B000X24ISU', 4.256282657214338)],\n",
              "             'A20DZX38KRBIT8': [('B000CS7U1C', 3.5066220600913343),\n",
              "              ('B000FITKK8', 3.488010624161302),\n",
              "              ('B00746LVOM', 3.4810174934621476),\n",
              "              ('B001FA1O0O', 3.4698380323723415),\n",
              "              ('B0058UUR6E', 3.36910737027281)],\n",
              "             'A20H1M28WLI9J2': [('B0011U65F2', 4.290471948546221),\n",
              "              ('B000YQ6DIS', 4.244591653712069)],\n",
              "             'A20L63B48RPSOH': [('B002TLTE7I', 4.5859424232922255),\n",
              "              ('B005D5M136', 4.49279291792334),\n",
              "              ('B0046RE60I', 4.326515559820952),\n",
              "              ('B0014J07R2', 4.232810492954431),\n",
              "              ('B005IA844Q', 4.082044512752562)],\n",
              "             'A20OBCQWBKCGZT': [('B000JE7GPY', 4.663266795405833),\n",
              "              ('B002VPDM2A', 4.518906135873785),\n",
              "              ('B002HWRJBC', 4.510785432489895),\n",
              "              ('B002MCZJ78', 4.5016137966576695),\n",
              "              ('B002IC0YL8', 4.365147191736585)],\n",
              "             'A20VG5W98SX99L': [('B000N99BBC', 4.574905102235262),\n",
              "              ('B00429N18S', 4.5737607000563925),\n",
              "              ('B005KP473Q', 4.4140462056059055),\n",
              "              ('B001DJ64C0', 4.343724178933712),\n",
              "              ('B0018KTCIM', 4.082305981587136)],\n",
              "             'A212MDP6K4VJS5': [('B003ES5ZUU', 4.918265328074147),\n",
              "              ('B00005LEN4', 4.895137320126931),\n",
              "              ('B002HWRJY4', 4.873442404107322),\n",
              "              ('B002NU5UW8', 4.811638899555235),\n",
              "              ('B003ZSHKJ8', 4.6648164154169)],\n",
              "             'A213J54E63SYOP': [('B001MSU1FS', 4.574401918123887),\n",
              "              ('B002V88HFE', 4.454402796560757),\n",
              "              ('B004S4R5CK', 4.350596198867169),\n",
              "              ('B0043T7FXE', 4.133324364763225)],\n",
              "             'A21I62TCDL4754': [('B000HDJT4S', 4.299022706305451),\n",
              "              ('B0041Q38NU', 4.293160137589298),\n",
              "              ('B003BLQHN4', 4.286532207450593)],\n",
              "             'A21INUA35HX4XQ': [('B0052SCU8U', 4.25336072562653),\n",
              "              ('B0054JJ0QW', 4.116417542008454),\n",
              "              ('B0009Y7APU', 4.037137189340752),\n",
              "              ('B001E1Y5O6', 4.016248512253968),\n",
              "              ('B0011ZK6PC', 3.914953290509707)],\n",
              "             'A21T0D2F7SKG5S': [('B00006I53X', 4.360152427059134),\n",
              "              ('B0002Y5WXE', 4.33132485986625),\n",
              "              ('B000V5P90K', 4.330349992608741),\n",
              "              ('B00009R6TA', 4.319108206890463),\n",
              "              ('B00007E7JU', 4.304198032309017)],\n",
              "             'A225G2TFM76GYX': [('B000N99BBC', 4.975306942070825),\n",
              "              ('B0034CL2ZI', 4.864958261157972),\n",
              "              ('B001TANZ0W', 4.84208552417445),\n",
              "              ('B002QUZM0U', 4.803809899560294),\n",
              "              ('B006JH8T3S', 4.763721075420152)],\n",
              "             'A2294LS59GC5K7': [('B006W8U2MU', 4.437610451181816),\n",
              "              ('B002V88HFE', 4.359339458941737),\n",
              "              ('B002WE0QN8', 4.358378062684024),\n",
              "              ('B002J9HBIO', 4.279394159562583),\n",
              "              ('B005CT56F8', 4.089571640280516)],\n",
              "             'A22CW0ZHY3NJH8': [('B003ES5ZUU', 4.732412759726564),\n",
              "              ('B0034CL2ZI', 4.6496171589225375),\n",
              "              ('B000JE7GPY', 4.627002194783384),\n",
              "              ('B00483WRZ6', 4.601902967557825),\n",
              "              ('B0013DXVYK', 4.524522951254482)],\n",
              "             'A22I55P15NSAOX': [('B004I5BUSO', 4.386251456007129),\n",
              "              ('B0041Q38NU', 4.374567744771168),\n",
              "              ('B004DMNT2W', 4.35372278053308),\n",
              "              ('B00077AA5Q', 4.297978652689133),\n",
              "              ('B0015DYMVO', 4.096572354202263)],\n",
              "             'A22MANL4US4RMY': [('B0041Q38NU', 4.6974872399202106)],\n",
              "             'A22R9L5DAVYYWR': [('B002WE6D44', 4.274579049750434),\n",
              "              ('B000JMJWV2', 4.207108491112737)],\n",
              "             'A22S7D0LP8GRDH': [('B003ES5ZUU', 4.896411634555035),\n",
              "              ('B004ELA0SS', 4.675151185859176),\n",
              "              ('B004CLYEE6', 4.4599507498334665),\n",
              "              ('B001F7HLRC', 4.409269313347213)],\n",
              "             'A231WM2Z2JL0U3': [('B001TUYQT6', 4.3386878049036754),\n",
              "              ('B00007KDVI', 3.834695167560405)],\n",
              "             'A23GFTVIETX7DS': [('B002WE4HE2', 4.703304318267691),\n",
              "              ('B005IMFX2K', 4.6942621384525545),\n",
              "              ('B00746LVOM', 4.6490574569792065),\n",
              "              ('B000FVGM38', 4.592708721440069),\n",
              "              ('B001DJ64C0', 4.537651349114444)],\n",
              "             'A23NSKTMSPPBTR': [('B0034CL2ZI', 4.223649394027283),\n",
              "              ('B001QUA6RA', 4.199279242232043),\n",
              "              ('B003N2POXK', 3.9032709036235755),\n",
              "              ('B005I6EU48', 3.7243669821294625),\n",
              "              ('B005HTIWF4', 3.5828846738191755)],\n",
              "             'A23ONMGKEWDG4M': [('B002WE6D44', 4.8541006179291255),\n",
              "              ('B001KELVS0', 4.5877995617529015),\n",
              "              ('B000EXRSVM', 4.560632594636192),\n",
              "              ('B00166EUI0', 4.291493850966851)],\n",
              "             'A23ZNGL704AW7O': [('B004CLYEFK', 4.535710032534169),\n",
              "              ('B001DJ64D4', 4.460939533944794),\n",
              "              ('B00119T6NQ', 4.442163691347642),\n",
              "              ('B004K1EZDS', 4.269290448742594),\n",
              "              ('B004CLYEH8', 4.265191913454011)],\n",
              "             'A23ZXHFLC6TBLD': [('B000067RT6', 4.862848744790024),\n",
              "              ('B000HPV3RW', 4.850560158493843),\n",
              "              ('B0058UUR6E', 4.7006968793746005),\n",
              "              ('B00007IFED', 4.645281291340922),\n",
              "              ('B0026ZPFCK', 4.417946962709125)],\n",
              "             'A24HWYHR28JJ7A': [('B000CKVOOY', 4.605591230361244),\n",
              "              ('B004S4R5CK', 4.593627456938761),\n",
              "              ('B003CJTQJC', 4.560681595300402),\n",
              "              ('B000V5P90K', 4.543299505395531),\n",
              "              ('B005LDLP8W', 4.506398499215127)],\n",
              "             'A24J2Y1O22JYZX': [('B00077AA5Q', 4.5485766057471855)],\n",
              "             'A24P4E3RJ6AX94': [('B000067RT6', 4.716414492704667),\n",
              "              ('B003XM1WE0', 4.614164053640289),\n",
              "              ('B00081A2KY', 4.569468378433984),\n",
              "              ('B001TH7GUA', 4.523794810912521),\n",
              "              ('B003VAHYNC', 4.484660148562567)],\n",
              "             'A24QFMD1RXLJMB': [('B001TH7GUK', 4.519322854125759),\n",
              "              ('B001AW8W7A', 4.454985236082276),\n",
              "              ('B000652M6Y', 4.391521218504219),\n",
              "              ('B003ES5ZSW', 4.274440664700442)],\n",
              "             'A2503LT8PZIHAD': [('B002V8C3W2', 4.706193695507251),\n",
              "              ('B002TLTE7I', 4.337539417528688),\n",
              "              ('B0043M668G', 4.321875067682219),\n",
              "              ('B00486MH80', 4.041968670771405),\n",
              "              ('B0021L9C0A', 4.025024421825945)],\n",
              "             'A250AXLRBVYKB4': [('B003ES5ZUU', 4.758476185794158),\n",
              "              ('B002G1YPH0', 4.645500169046441),\n",
              "              ('B00004Z5M1', 4.61285066683727),\n",
              "              ('B000JMJWV2', 4.5206826927616),\n",
              "              ('B003BLQHN4', 4.4255817763235425)],\n",
              "             'A253IOATGMT2UP': [('B004LSNF04', 4.89527176560855),\n",
              "              ('B003ES5ZUU', 4.836949922346433),\n",
              "              ('B0071BTJPI', 4.699530578532171),\n",
              "              ('B001TH7GSW', 4.684584679479872),\n",
              "              ('B00119T6NQ', 4.642666456499291)],\n",
              "             'A257X1MQJO82P2': [('B004W2JKWG', 4.835864173815275),\n",
              "              ('B002WE6D44', 4.818966844561766),\n",
              "              ('B00009R6TA', 4.803930767277448),\n",
              "              ('B0011U65F2', 4.668798765286094)],\n",
              "             'A259MPG6SOL02P': [('B001QUA6RA', 3.8239959866094724),\n",
              "              ('B00007M1TZ', 3.7637078054470394),\n",
              "              ('B004SBI2MU', 3.6767779168718526),\n",
              "              ('B003UE52ME', 3.6214167931057037),\n",
              "              ('B003NSBF32', 3.524643614520388)],\n",
              "             'A25C2M3QF9G7OQ': [('B00007GQLU', 4.810699939886706),\n",
              "              ('B002NU5UW8', 4.795622000632487),\n",
              "              ('B001UI2FPE', 4.764517232470169),\n",
              "              ('B0053R0WWG', 4.739975514530062),\n",
              "              ('B000JMJWV2', 4.6691536334835275)],\n",
              "             'A25FL6VLD7S23S': [('B000BYCKU8', 4.52059181639751),\n",
              "              ('B00064V6RG', 4.415349459680715)],\n",
              "             'A25HBO5V8S8SEA': [('B004CLYEDC', 4.754810892028825),\n",
              "              ('B00007KDVI', 3.9051546590854858)],\n",
              "             'A25UZ7MA72SMKM': [('B006LW0W5Y', 4.650662372747875),\n",
              "              ('B0074BW614', 4.52081321243472),\n",
              "              ('B002MMY4WY', 4.459271627146614),\n",
              "              ('B003N2POXK', 4.390517881796073),\n",
              "              ('B004CLYEE6', 4.3758147735585)],\n",
              "             'A25WJCAP606YMP': [('B0036Q7MV0', 4.558142290979588),\n",
              "              ('B006ZT4VA0', 4.473924991725929),\n",
              "              ('B003MAJMXQ', 4.271213347484777),\n",
              "              ('B003XU6H8I', 4.1332311843583796),\n",
              "              ('B004IZN3WU', 3.893947778898815)],\n",
              "             'A26877IWJGISYM': [('B001OI2YNS', 4.282011187034935),\n",
              "              ('B004XQWGHW', 4.277783664303563),\n",
              "              ('B002R5AM7C', 4.224223359339818),\n",
              "              ('B00192KCAG', 4.189796032858857),\n",
              "              ('B00634PLTW', 4.183891064495544)],\n",
              "             'A26EQ8U96JA92T': [('B000BQ7GW8', 4.766866630149877),\n",
              "              ('B004HIN7SI', 4.692838207436255),\n",
              "              ('B004Q3R9B0', 4.6922415353406635),\n",
              "              ('B001D60LG8', 4.483012190695487),\n",
              "              ('B000Z80ICM', 4.388104263858653)],\n",
              "             'A26KXNN6H1IL0I': [('B0071BTJPI', 4.644473176466465),\n",
              "              ('B002VPE1YS', 4.509157549872155),\n",
              "              ('B000JMJWV2', 4.4700497732831375),\n",
              "              ('B000WKW69Q', 4.409968121078907),\n",
              "              ('B000BN94F8', 4.346519468894029)],\n",
              "             'A274MXTX3DYLUV': [('B001UI2FPE', 4.70255065001463),\n",
              "              ('B00006RVPW', 4.533425343429574),\n",
              "              ('B003XN24GY', 4.221475599902737)],\n",
              "             'A27ADCSD15F3GL': [('B0036Q7MV0', 4.399354150129239),\n",
              "              ('B001MSU1FS', 4.217656572720694),\n",
              "              ('B003CFATT2', 4.164164771188965),\n",
              "              ('B0054L8N7M', 4.037986994249631),\n",
              "              ('B004XZHY34', 3.8040532437606562)],\n",
              "             'A27B1U3OWCU14J': [('B002BH3I9U', 4.12378814654678),\n",
              "              ('B004ZMV2GA', 4.121950218596599)],\n",
              "             'A27H0T39U3FZB5': [('B002V88HFE', 4.407282632329823),\n",
              "              ('B004ELA0SS', 4.351281373217761),\n",
              "              ('B001TH7GSW', 4.282994810237842),\n",
              "              ('B0046RE60I', 4.1636070077880785),\n",
              "              ('B002JM1V6O', 4.123004299371924)],\n",
              "             'A27M75LRSJ788H': [('B003ES5ZUU', 5),\n",
              "              ('B002NO7PWC', 4.995182125173978),\n",
              "              ('B0046TJG1U', 4.937882832756868),\n",
              "              ('B001NS0OZ4', 4.893707336469749),\n",
              "              ('B002WE4HE2', 4.8391375626270285)],\n",
              "             'A27QXQQOLAMRRR': [('B000N99BBC', 4.588021026482579),\n",
              "              ('B003ES5ZSW', 4.170149018671547)],\n",
              "             'A28621TSIR5EOG': [('B006W8U2MU', 4.843399669321618),\n",
              "              ('B001L1H0SC', 4.752232523945348),\n",
              "              ('B005CT56F8', 4.615893352034332),\n",
              "              ('B005FVNGRI', 4.495782177107148),\n",
              "              ('B002MAPRYU', 4.1487762546229074)],\n",
              "             'A28BX3MM90A6FI': [('B002JQNXZC', 4.608222675263468),\n",
              "              ('B002QUZM0U', 4.582702834898377),\n",
              "              ('B005FYNSPK', 4.501008339267021),\n",
              "              ('B002KETE24', 4.462778478981643),\n",
              "              ('B001F51G16', 4.428779435710194)],\n",
              "             'A28CCQNXWV6WA2': [('B0011Z44UA', 4.411247490868227)],\n",
              "             'A28RSMADFCBJDT': [('B000M2TAN4', 4.674968777065422),\n",
              "              ('B00017LSPI', 4.531273548811909),\n",
              "              ('B000M2GYF6', 4.297091199488401),\n",
              "              ('B001TUYQT6', 4.11877194163287)],\n",
              "             'A28UMA3GW9L124': [('B000N99BBC', 4.132279412184267),\n",
              "              ('B000VX6XL6', 3.8935173924652573),\n",
              "              ('B003YKG2XM', 3.8642262629673354),\n",
              "              ('B002IO2UM2', 3.8631314655988085),\n",
              "              ('B000M2GYF6', 3.821823341184951)],\n",
              "             'A291XTI6NO7DEG': [('B000EVSLRO', 4.751032258295851),\n",
              "              ('B005CT56F8', 4.676512871922675)],\n",
              "             'A292TRC6DX2GKK': [('B0052SCU8U', 4.892107300873073)],\n",
              "             'A29KJ32G75L7G9': [('B001TOD7ME', 4.74167473565117),\n",
              "              ('B005ARQV6U', 4.587203570032033),\n",
              "              ('B0027AGK3M', 4.464706490594284),\n",
              "              ('B000EY5F5C', 3.837586264613543)],\n",
              "             'A2AEZQ3DGBBLPR': [('B000FITKK8', 4.01218742820027),\n",
              "              ('B004J4VYEY', 3.7111836294414617)],\n",
              "             'A2AF0NOCM71J0B': [('B003CFATT2', 4.461602181184782),\n",
              "              ('B005KP473Q', 4.419689754158215),\n",
              "              ('B001RNNXQM', 4.388499744600288),\n",
              "              ('B004YHXXKO', 4.339089037780288),\n",
              "              ('B003NSBF32', 4.216249483048235)],\n",
              "             'A2ALRZ0ENQLYY5': [('B002V8C3W2', 4.915611798180066),\n",
              "              ('B00007E7JU', 4.577142989787154),\n",
              "              ('B00004ZCJE', 4.202562968940803)],\n",
              "             'A2ARDVMUGDFED6': [('B000V5K3FG', 4.36868166467419),\n",
              "              ('B0001FTVE0', 4.2355776158749485)],\n",
              "             'A2AX2UGB167J31': [('B000CRFOMK', 4.561712065119987)],\n",
              "             'A2AY4YUOX2N1BQ': [('B0002L5R78', 4.819625035973726),\n",
              "              ('B005LFT3GG', 4.811826749197596),\n",
              "              ('B003XIJ566', 4.788851134645955),\n",
              "              ('B00007GQLU', 4.766823364063892),\n",
              "              ('B0033PRWSW', 4.741734505706595)],\n",
              "             'A2B7BUH8834Y6M': [('B0025VKUQQ', 4.828631096398576),\n",
              "              ('B000BQ7GW8', 4.749374018207613),\n",
              "              ('B00009R6WO', 4.6900799563298055),\n",
              "              ('B003XIJ3MW', 4.62574577729745),\n",
              "              ('B00004SB92', 4.61492180003156)],\n",
              "             'A2BCDZO1XQLDH': [('B00017LSPI', 4.46926681304948),\n",
              "              ('B001DJ64D4', 4.418100903347068),\n",
              "              ('B000F34FVM', 3.945610997617435)],\n",
              "             'A2BLFCOPSMBOZ9': [('B004CLYEFK', 4.51696224088169),\n",
              "              ('B001TH7GUA', 4.5094926342435935),\n",
              "              ('B001OOZ1X2', 4.483361908856125),\n",
              "              ('B003HFCDLY', 4.4471077682562745),\n",
              "              ('B001T9NUJE', 4.428133901637109)],\n",
              "             'A2BMZRO0H7TFCS': [('B000HPV3RW', 4.6019578986132315),\n",
              "              ('B001S0PWWC', 4.411967402192722),\n",
              "              ('B0054L8N7M', 4.38186498967344),\n",
              "              ('B001DJ64C0', 4.286299601846232),\n",
              "              ('B004NY9UV4', 4.259218767947036)],\n",
              "             'A2BX8DDQGCCG2J': [('B004YDUZ22', 4.698781414197784),\n",
              "              ('B005FYNSPK', 4.665945784602857),\n",
              "              ('B003N12TSY', 4.476891695248028),\n",
              "              ('B00007EDM8', 4.237937589691047),\n",
              "              ('B0049P6OTI', 4.162656702094886)],\n",
              "             'A2BYV7S1QP2YIG': [('B000KO0GY6', 4.645186219020051),\n",
              "              ('B002VPE1Q6', 4.558774609814014),\n",
              "              ('B003YKG2XM', 4.429688055233092)],\n",
              "             'A2CIQEY05SPHTZ': [('B002LAS1DU', 4.167845064316373),\n",
              "              ('B001NEK0P2', 3.9864514982081403),\n",
              "              ('B002M78L6E', 3.898480894730887),\n",
              "              ('B001CHHVCU', 3.6928551248260586),\n",
              "              ('B002SQK2F2', 3.2366569214132674)],\n",
              "             'A2D1LPEUCTNT8X': [('B000F9YN22', 4.930795234979587),\n",
              "              ('B001E1Y5O6', 4.778657436611581),\n",
              "              ('B0041OSQ9I', 4.567180490041781),\n",
              "              ('B001KN6WL2', 4.529353246255025),\n",
              "              ('B0049WBZEK', 4.326195965224625)],\n",
              "             'A2D1ZQEFS1NBH2': [('B0054JJ0QW', 4.402678191906363),\n",
              "              ('B001F7AHOG', 4.350981084132217),\n",
              "              ('B005KFONIU', 4.250258666197853)],\n",
              "             'A2DS9DLMSU2M2Z': [('B001TUYTZM', 4.649864230361011),\n",
              "              ('B000FITKK8', 4.489627606338144)],\n",
              "             'A2ED50E3KWKUKW': [('B0036AWR8E', 4.71408613845315),\n",
              "              ('B000089GN3', 4.695533695910514),\n",
              "              ('B001TZUS98', 4.46535944363197),\n",
              "              ('B0043T7FXE', 4.375948898595725),\n",
              "              ('B0007Y794O', 4.355529323819037)],\n",
              "             'A2EF8N7ZE7ONWX': [('B004J3ZV62', 4.5984694876059855),\n",
              "              ('B001DJ64C0', 4.456335533653213),\n",
              "              ('B00486MH80', 4.127318134008335),\n",
              "              ('B004T9RR6I', 3.8039351355102307),\n",
              "              ('B002O3W2OI', 3.5359270713675666)],\n",
              "             'A2EMUM49CE0JV4': [('B001XURP7W', 4.496576765773897)],\n",
              "             'A2EN82VBJT44QP': [('B00017LSPI', 4.7969133536949835),\n",
              "              ('B000KO0GY6', 4.560786689415546),\n",
              "              ('B000A6PPOK', 4.303062920846773),\n",
              "              ('B001XURP7W', 4.215136641820029)],\n",
              "             'A2EW01G2LNJN06': [('B005DKZP6G', 4.568552284462791),\n",
              "              ('B004QK7HI8', 4.450298192607271),\n",
              "              ('B003VAGXWK', 4.158983606159482)],\n",
              "             'A2EZTM9WY5B5IL': [('B0012Y6HC8', 4.515235630169184),\n",
              "              ('B005ES0YYA', 4.437128824411216),\n",
              "              ('B002WE0QN8', 4.2894388889665676),\n",
              "              ('B002W3IXZW', 4.162634603522574),\n",
              "              ('B0011NVMO8', 4.0925583519738975)],\n",
              "             'A2F2F7N94SR1KQ': [('B0041Q38NU', 4.309912733283276),\n",
              "              ('B003N12TSY', 4.239589326468905)],\n",
              "             'A2F2GLVFRNV7JJ': [('B002V8C3W2', 4.8254272098756825),\n",
              "              ('B000R9AAJA', 4.28358486005721)],\n",
              "             'A2F7CSE6KT7NI4': [('B001FVI91U', 4.485946129811306),\n",
              "              ('B000051299', 4.470787152850016),\n",
              "              ('B0017JY5FE', 4.399357640958536),\n",
              "              ('B005CT56F8', 4.367014926749286),\n",
              "              ('B002SZEOLG', 4.320025669194057)],\n",
              "             'A2FHTXLKY1XJDB': [('B000BQ7GW8', 4.697249438957336),\n",
              "              ('B001AHALEC', 4.5256374772986465)],\n",
              "             'A2FRKEXDXDN1KI': [('B000RZQZM0', 4.88567899213664),\n",
              "              ('B003M0NURK', 4.697013672915809),\n",
              "              ('B006K550J0', 4.6233925730083065),\n",
              "              ('B006WVR9GY', 4.589609856040142),\n",
              "              ('B001L2IKYE', 4.353448116438838)],\n",
              "             'A2FSOHSM9X13JT': [('B0009Y7APU', 4.91113057673203),\n",
              "              ('B000LRMS66', 4.379715781701582)],\n",
              "             'A2FXBWR4T4OFQ': [('B001E1Y5O6', 4.568245331215851),\n",
              "              ('B00009R6TA', 4.5502522964776295)],\n",
              "             'A2GKMXRLI7KLFP': [('B001C271MA', 4.857612845376668),\n",
              "              ('B00426C56U', 4.423408049448001)],\n",
              "             'A2GMZZ6TDYOHY7': [('B000QUUFRW', 4.776421442589177),\n",
              "              ('B004YDUZ22', 4.742814118803782),\n",
              "              ('B00006RVPW', 4.705169481654741),\n",
              "              ('B006QB1RPY', 4.676911714473748),\n",
              "              ('B0036AWR8E', 4.620661201351364)],\n",
              "             'A2GOHNFBHUU3UI': [('B003HFCDLY', 4.583080757732872)],\n",
              "             'A2HDTOF8222KN3': [('B00007EDM8', 4.281067667495124)],\n",
              "             'A2HKUM9OEBQKDW': [('B00029U1DK', 4.783615721315179),\n",
              "              ('B005FYNSPK', 4.666830369660472),\n",
              "              ('B001E1Y5O6', 4.656760833641237),\n",
              "              ('B004YI9NTS', 4.576468898640321),\n",
              "              ('B005CLPP84', 4.566130135257353)],\n",
              "             'A2HMF8ZR67BNZS': [('B000KO0GY6', 4.910866098294969),\n",
              "              ('B0013AV4M4', 4.787183863260578),\n",
              "              ('B000FBK3QK', 4.578926164951906),\n",
              "              ('B000LRMS66', 4.575526541611497),\n",
              "              ('B000BYCKU8', 4.556840926471747)],\n",
              "             'A2HNH4PKE5DPSI': [('B006WVR9GY', 4.803279127594814),\n",
              "              ('B001U0O5QO', 4.751073216061635),\n",
              "              ('B003FSTAFK', 4.517359267059301),\n",
              "              ('B0054YF0C0', 3.4444849977825664)],\n",
              "             'A2HRHF83I3NDGT': [('B005ARQV6U', 4.741824064239219),\n",
              "              ('B002RM08RE', 4.696410255777986),\n",
              "              ('B005EOWBHC', 4.284765519547)],\n",
              "             'A2HXEJXEQQTM1D': [('B000FQ2JLW', 4.617447590089525),\n",
              "              ('B000BTL0OA', 4.5549898154792885)],\n",
              "             'A2I18AO597DSDI': [('B001O94GNS', 4.052360078536422),\n",
              "              ('B000YQ6DIS', 3.810238235585906),\n",
              "              ('B0017TFVUW', 3.7316769315578777)],\n",
              "             'A2I357I10ZY7CI': [('B0034CL2ZI', 4.274998704081137),\n",
              "              ('B004GF8TIK', 4.169804286862055),\n",
              "              ('B00009XVCZ', 4.164540990651073),\n",
              "              ('B001TH7GUK', 4.121317301361686),\n",
              "              ('B001F51G16', 4.028130462214292)],\n",
              "             'A2I6GN7OHB9JKF': [('B004S4R5CK', 4.772567086025093)],\n",
              "             'A2IT7S59GSASN7': [('B003YKG2UK', 4.128189679056467),\n",
              "              ('B002JCSCYS', 4.023141469853421),\n",
              "              ('B004MSQZUU', 4.01816566050509),\n",
              "              ('B002LAS1DU', 3.943349657215665),\n",
              "              ('B00452V66G', 3.803712018732679)],\n",
              "             'A2IXK5LB4Y0NYV': [('B005ES0YYA', 4.674567288712233),\n",
              "              ('B001FVI91U', 4.603121577260915)],\n",
              "             'A2J0IBS4PFRO2C': [('B005L38VPC', 4.031756711970764),\n",
              "              ('B004XQWGHW', 4.014337972475009)],\n",
              "             'A2J7FHZFKOKGZ6': [('B000067RT6', 4.439048362474261),\n",
              "              ('B000Q8UAWY', 4.286907617119984),\n",
              "              ('B004QK7HI8', 4.1255201198952465)],\n",
              "             'A2J8T58Z4X15IO': [('B0021L9C0A', 4.4754953622527065)],\n",
              "             'A2JE071UW97J2A': [('B003I4FHNA', 4.5864197923236665),\n",
              "              ('B003CJTQJC', 4.5223593046350805),\n",
              "              ('B0002Y5WZM', 4.497154557673829),\n",
              "              ('B004MF11MU', 4.414845100105217),\n",
              "              ('B00007E7JU', 4.412852261735731)],\n",
              "             'A2JMJVNTBL7K7E': [('B002J9HBIO', 4.068760686752309),\n",
              "              ('B002TLTGM6', 4.008496805231586)],\n",
              "             'A2JP9E1H0SF392': [('B000N99BBC', 4.83500553153736),\n",
              "              ('B00007M1TZ', 4.742974400742663),\n",
              "              ('B006U3O566', 4.645011503768431)],\n",
              "             'A2JWF9IG8PJAOA': [('B004Q0PT3I', 4.816320071792702),\n",
              "              ('B000VX6XL6', 4.653349625429711),\n",
              "              ('B005C31HC0', 4.618642690240072),\n",
              "              ('B005HGBEZ2', 4.424878431998671),\n",
              "              ('B002SGATH8', 4.401143934225321)],\n",
              "             'A2JXS1JII6SAUD': [('B004FA8NOQ', 4.642436130117453)],\n",
              "             'A2KHG3JOFXQ4CE': [('B000RZQZM0', 3.9461400594183744),\n",
              "              ('B000F7QRTG', 3.9004712386353497),\n",
              "              ('B002TLTE6Y', 3.8567638664082255),\n",
              "              ('B003VAK1I2', 3.279672580421934),\n",
              "              ('B005GM1Q1O', 2.875213375270093)],\n",
              "             'A2KIJBT9HRIOM8': [('B005FYNSPK', 4.502718023063279),\n",
              "              ('B000VX6XL6', 4.46135726666571),\n",
              "              ('B000LRMS66', 4.453633755424044),\n",
              "              ('B004G6002M', 4.3460692711169076),\n",
              "              ('B002MAPRYU', 4.004474460192487)],\n",
              "             'A2KOV8XWZOZ0FQ': [('B003ES5ZUU', 4.425366033270636),\n",
              "              ('B001TH7T2U', 4.343895414366156),\n",
              "              ('B001IEZX3G', 4.2028936790242035),\n",
              "              ('B002VPE1YS', 4.064150445047999),\n",
              "              ('B001TH7GVE', 4.019931639080326)],\n",
              "             'A2KYRPDKVBI2R4': [('B000N99BBC', 5),\n",
              "              ('B0027AGK3M', 4.918508563308912),\n",
              "              ('B00483WRZ6', 4.91237937069032),\n",
              "              ('B003Z4G3I6', 4.9083247145579065),\n",
              "              ('B0039BPG1A', 4.749803443899182)],\n",
              "             'A2L42QEWR77PKZ': [('B001FA1OHW', 4.114516770335117)],\n",
              "             'A2L90SGUP36KGA': [('B000L47AHG', 4.387335235029261),\n",
              "              ('B004J3V90Y', 4.314051042202)],\n",
              "             'A2L9OPJAAEK08Q': [('B000089GN3', 4.410961716527706),\n",
              "              ('B001TH7GUK', 4.345253103024231),\n",
              "              ('B004GUT1QO', 4.014200486961517),\n",
              "              ('B002TLSOFQ', 4.007823042815984)],\n",
              "             'A2LB4FLRZG6CUV': [('B005CLPP8E', 4.118061856536349),\n",
              "              ('B003XU6H8I', 3.9057195504447924),\n",
              "              ('B000HZDF8W', 3.385077752958996)],\n",
              "             'A2LCE1D0TW2XY0': [('B00429N18S', 4.469373394590713),\n",
              "              ('B002NEGTTW', 4.43442172266472),\n",
              "              ('B000V5P90K', 4.389001119614623),\n",
              "              ('B0033PRWSW', 4.2927157182177025),\n",
              "              ('B00006I53S', 4.14862125701921)],\n",
              "             'A2LEIANN1UZTHP': [('B00212NO6W', 4.581408093123305),\n",
              "              ('B000EY5F5C', 4.051300422969865)],\n",
              "             'A2LLSFQO8O8XNW': [('B003VAM32E', 4.581494187040298)],\n",
              "             'A2LXX47A0KMJVX': [('B000LRMS66', 4.255122960486534),\n",
              "              ('B001SJVU24', 4.1938896854637955),\n",
              "              ('B001TUYQT6', 4.1748981889032075),\n",
              "              ('B00426C57O', 4.109179113821044),\n",
              "              ('B001VFUN82', 3.871460385593349)],\n",
              "             'A2MCRCK1V61FWQ': [('B0002Y5WZM', 4.615570301680601),\n",
              "              ('B001NJ0D0Y', 4.560186405575161),\n",
              "              ('B0009ZBRS0', 4.344092513030749)],\n",
              "             'A2ME89MSWVG9NF': [('B0028Y4H0K', 3.5031531444101094),\n",
              "              ('B006RG0QC8', 3.4885128664033194)],\n",
              "             'A2MR696ZU17F12': [('B000F7JCRA', 4.532112763410269),\n",
              "              ('B000Q8UAWY', 4.407895364076351),\n",
              "              ('B00452V66G', 4.08654120931296),\n",
              "              ('B002VPE1XY', 4.052604907409491)],\n",
              "             'A2NB2E5DXE319Z': [('B0052SCU8U', 4.7095995767027246),\n",
              "              ('B0000BZL1P', 4.684773338735034),\n",
              "              ('B005ES0YYA', 4.523111855745489),\n",
              "              ('B000CKVOOY', 4.463224676961979),\n",
              "              ('B004YI9NTS', 4.309508884170636)],\n",
              "             'A2NJQF2UI60VGT': [('B000QUUFRW', 4.869400728474002),\n",
              "              ('B004NY9UV4', 4.712854153332166),\n",
              "              ('B00119T6NQ', 4.696549710940626),\n",
              "              ('B005DKZTMG', 4.622922542384867),\n",
              "              ('B004LTEUDO', 4.588377342156566)],\n",
              "             'A2NOW4U7W3F7RI': [('B002V8C3W2', 5),\n",
              "              ('B00017LSPI', 5),\n",
              "              ('B0055QYJIS', 4.988411444420746),\n",
              "              ('B00746W3HG', 4.84396668906888),\n",
              "              ('B004XNLR16', 4.730961515223724)],\n",
              "             'A2NP9CGUSFP22E': [('B000ENUCR4', 4.639966644419884),\n",
              "              ('B00081A2KY', 4.624804465257487)],\n",
              "             'A2NSMJVQY0RV9S': [('B001CCAISE', 4.790759447928433),\n",
              "              ('B000KO0GY6', 4.692715428245135),\n",
              "              ('B004TJ6JH6', 4.555544776116689),\n",
              "              ('B000NP3DJW', 4.516156122627085),\n",
              "              ('B001ENW61I', 4.50017769585373)],\n",
              "             'A2NSXY5L42ZUGO': [('B001ENW61I', 4.70169749508908)],\n",
              "             'A2NU9H8H5MJZSL': [('B003SGCO3E', 4.73951111541057),\n",
              "              ('B003UE52ME', 4.546119049359179),\n",
              "              ('B000CS7U1C', 4.480020896414201)],\n",
              "             'A2NVQZ4Y7Y0J1R': [('B0021L9C0A', 4.0455808793130235),\n",
              "              ('B0049U3TVE', 3.5616138586450714)],\n",
              "             'A2NYK9KWFMJV4Y': [('B001XURP7W', 4.385419326799291),\n",
              "              ('B003XN24GY', 4.307489919925886),\n",
              "              ('B005I7X3RC', 4.222735231466665)],\n",
              "             'A2O6HZ2B9YSRXR': [('B001TH7T2U', 4.913163938679971),\n",
              "              ('B001TH7GUK', 4.867932574793359),\n",
              "              ('B002SIMPXM', 4.801084336746482),\n",
              "              ('B0026ZPFCK', 4.564762204840975),\n",
              "              ('B004Q0T0LU', 4.546521360471267)],\n",
              "             'A2OBDNQ5ZYU1L8': [('B00746LVOM', 4.662639739921368),\n",
              "              ('B00212NO6W', 4.654229257097548),\n",
              "              ('B002HWRZ2K', 4.363738338322609)],\n",
              "             'A2OKRGHIYTBQ6P': [('B001CIREXA', 4.731384651583072),\n",
              "              ('B005IMFX2K', 4.583069191544083),\n",
              "              ('B001XHBNN2', 4.383250101306655)],\n",
              "             'A2OOLI2WFY4L2': [('B003ES5ZUU', 4.5768291743796805),\n",
              "              ('B0046TJG1U', 4.490623324869047),\n",
              "              ('B000Q8UAWY', 4.284373866491626),\n",
              "              ('B000I68BD4', 4.017086775491447)],\n",
              "             'A2OWR5G2OAQF7C': [('B001TOD7ME', 4.698765402898874),\n",
              "              ('B004JWA70I', 4.416912597241165),\n",
              "              ('B002IC0YL8', 4.383279171356025),\n",
              "              ('B004MSQZUU', 4.2846042649668385),\n",
              "              ('B0011Z44UA', 4.28330180395606)],\n",
              "             'A2PB325LKXYDOL': [('B002BH3Z8E', 4.718386878628702),\n",
              "              ('B000X24ISU', 4.309080840335256)],\n",
              "             'A2PJH18W4XHTZW': [('B00429N18S', 4.84765181994358),\n",
              "              ('B002V88HFE', 4.77552604834278),\n",
              "              ('B00005T3G0', 4.653593529782465),\n",
              "              ('B00691WMJG', 4.4978874327345615),\n",
              "              ('B004N6259G', 4.2448577006155315)],\n",
              "             'A2PK64OVZA1U8Z': [('B000M17AVO', 4.652041299451921),\n",
              "              ('B005DSPLCQ', 4.570270778585046),\n",
              "              ('B006ZH0KVG', 4.494373375168254),\n",
              "              ('B002VR6A9K', 4.344515621420364),\n",
              "              ('B0043T7FXE', 4.329826268815889)],\n",
              "             'A2PREU4LOFQRB1': [('B002JQNXZC', 4.683625697430329),\n",
              "              ('B005CT56F8', 4.394773956714842),\n",
              "              ('B005HGBEZ2', 4.135957942957658),\n",
              "              ('B0034XRDUA', 3.910676611337628)],\n",
              "             'A2PSC7LUNIDEAH': [('B002JM1V6O', 4.654605553524325),\n",
              "              ('B000YQ6DIS', 4.46580410677238),\n",
              "              ('B001ELK2NY', 4.457759408805346),\n",
              "              ('B004N6259G', 4.220908699466235)],\n",
              "             'A2PSD2R9A1CXG7': [('B000AZ57M6', 4.48798713138784),\n",
              "              ('B002R5AM7C', 4.165184398035893),\n",
              "              ('B0007DDK7A', 3.972796555525318),\n",
              "              ('B001M5U5AC', 3.8757824566669576),\n",
              "              ('B002O3W2OI', 3.512948116497454)],\n",
              "             'A2PZXXPGLXXKZU': [('B00746LVOM', 4.37223388793352)],\n",
              "             'A2QI2NTDTMK2FV': [('B0019EHU8G', 4.679215409795958),\n",
              "              ('B000N99BBC', 4.664852361810148),\n",
              "              ('B004GF8TIK', 4.439755736636608),\n",
              "              ('B003X7TRWE', 4.400089183516855),\n",
              "              ('B002I3OZ7G', 4.32798309285947)],\n",
              "             'A2QNS95WGN35G9': [('B003ES5ZUU', 4.914282074062153),\n",
              "              ('B002HWRJY4', 4.842453429217984),\n",
              "              ('B003VAM32E', 4.74065256171681),\n",
              "              ('B000V07N9U', 4.561213619224973),\n",
              "              ('B003RRYAXQ', 4.440724319844431)],\n",
              "             'A2QRXQPHDMFCQV': [('B004CLYEDC', 3.882080664079714),\n",
              "              ('B002HWRJY4', 3.8280431698634536),\n",
              "              ('B004GUT1QO', 3.650985881700443),\n",
              "              ('B0021L9C0A', 3.6396024276632435),\n",
              "              ('B006WVR9GY', 3.5870696068435857)],\n",
              "             'A2R6RA8FRBS608': [('B00081A2KY', 4.560923420004809),\n",
              "              ('B0035ERKYW', 4.543076002199789),\n",
              "              ('B00004Z5M1', 4.506710104516253)],\n",
              "             'A2RG1B0K8YBJ4A': [('B002WE4HE2', 4.718053650214809)],\n",
              "             'A2RIL2NXHE00AQ': [('B000053HC5', 4.639473780341388),\n",
              "              ('B006TF37H8', 4.634380530320838)],\n",
              "             'A2RN2AO4BE6F4K': [('B001DJ64D4', 4.814196203041524),\n",
              "              ('B00119T6NQ', 4.6790049191690635),\n",
              "              ('B005DSPLCQ', 4.678153270424769),\n",
              "              ('B000O8WE66', 4.621477109606333),\n",
              "              ('B002BDU95A', 4.45796610476338)],\n",
              "             'A2RU4U1JZ3DMP5': [('B001TH7GUU', 4.859678406439188),\n",
              "              ('B00017LSPI', 4.67324585398255),\n",
              "              ('B00483WRZ6', 4.5474712784877696),\n",
              "              ('B002ZIMEMW', 4.478919148981388),\n",
              "              ('B00077AA5Q', 4.387288564771939)],\n",
              "             'A2S26YGSVXBCFL': [('B004CLYEFK', 4.461415620639577),\n",
              "              ('B003CJTQJC', 4.452758672083785),\n",
              "              ('B000F7JCRA', 4.2580929927414894),\n",
              "              ('B004CLYEH8', 4.250990854826185),\n",
              "              ('B001VEIYAC', 4.057556710848136)],\n",
              "             'A2SATO5BNKWY3Y': [('B00081A2KY', 4.73748314365941),\n",
              "              ('B00483WRZ6', 4.662114225219349),\n",
              "              ('B00009EHJV', 4.577253863414201),\n",
              "              ('B0002MQGOK', 4.509428153993874),\n",
              "              ('B00020S7XK', 4.471941212120734)],\n",
              "             'A2SH6A32BE6NEV': [('B005DKZTMG', 4.229250547807346),\n",
              "              ('B003GAMO6Y', 3.9039941008106003)],\n",
              "             'A2SKEQT0WTB954': [('B001AW8W7A', 4.65961680690239)],\n",
              "             'A2SL5IW096Z2BL': [('B00006B7DA', 4.4409401935995865),\n",
              "              ('B000E6G9RI', 4.410037715221393)],\n",
              "             'A2SYAQXJGRY3XE': [('B001GCVA0U', 4.518177589286781)],\n",
              "             'A2T3S3VTW65VO5': [('B001TH7GUU', 5),\n",
              "              ('B001TH7GT6', 4.88269255027455),\n",
              "              ('B006JH8T3S', 4.7799228113193175),\n",
              "              ('B000JE7GPY', 4.758078810445431),\n",
              "              ('B0027AGK3M', 4.744594883686085)],\n",
              "             'A2T689YVOAYGGD': [('B0036Q7MV0', 4.79814958078057),\n",
              "              ('B0000BZL1P', 4.651992165129631),\n",
              "              ('B0034CL2ZI', 4.614510341155866),\n",
              "              ('B002G1YPH0', 4.472366482148287),\n",
              "              ('B005DSPLC6', 3.875531555843262)],\n",
              "             'A2TKWMX4563NR6': [('B003OC6LWM', 4.671064118751757),\n",
              "              ('B000S5Q9CA', 4.528616593920332),\n",
              "              ('B0013FW8XS', 4.072917026157828)],\n",
              "             'A2TN0U8173HM7A': [('B000HPV3RW', 5)],\n",
              "             'A2TRXEZYU9GYY8': [('B00483WRZ6', 4.66088615921599),\n",
              "              ('B0052YFYFK', 4.532940044424224),\n",
              "              ('B004G6002M', 4.46197833901514)],\n",
              "             'A2TVH2OBNXYXHV': [('B0041L3JS4', 4.219276594340169),\n",
              "              ('B002R5AM7C', 4.172075786760448),\n",
              "              ('B00192KCAG', 4.10912911502679),\n",
              "              ('B001HSOFI2', 4.0793951509637765),\n",
              "              ('B004ZMV2GA', 4.0214122134452)],\n",
              "             'A2UOHALGF2X77Q': [('B002WE6D44', 4.674901180867398),\n",
              "              ('B002V88HFE', 4.661305714347986),\n",
              "              ('B001T9NUJE', 4.610567272569603),\n",
              "              ('B0007LJHVA', 4.5720156103045095),\n",
              "              ('B000Q82PIQ', 4.549754455349803)],\n",
              "             'A2UQK3DAZ8NO2T': [('B00005LEN4', 4.627095866730181),\n",
              "              ('B0009GZSSO', 4.4015218922919335),\n",
              "              ('B000HGIWN4', 4.370084591796152),\n",
              "              ('B000V5P90K', 4.362970748373236),\n",
              "              ('B00007E7JU', 4.359571408538516)],\n",
              "             'A2UTZ4O5E2W4DK': [('B004W2JKWG', 4.676237602322598),\n",
              "              ('B000062VUO', 4.566242235561839)],\n",
              "             'A2UWPPU5GZLMQZ': [('B000VZS2EU', 4.54139352859416),\n",
              "              ('B005IHAIJ8', 4.381785596194824),\n",
              "              ('B004WIUDGM', 4.140639120349399)],\n",
              "             'A2V0I904FH7ABY': [('B002K9IHGI', 4.861585114094452),\n",
              "              ('B001TH7GSW', 4.860991775689721),\n",
              "              ('B0046HAO40', 4.667244985063422),\n",
              "              ('B004CLYEE6', 4.54898983036049),\n",
              "              ('B002SZEOLG', 4.540145022970594)],\n",
              "             'A2V1J3JT5OOZFO': [('B000WOIFO2', 4.423755280420949),\n",
              "              ('B004K1EZDS', 4.044304209860399),\n",
              "              ('B006GWO5WK', 3.9494555686141184),\n",
              "              ('B0001FTVEK', 3.821357492360328)],\n",
              "             'A2V5M5EJPOD2IU': [('B000N99BBC', 4.998456849253473),\n",
              "              ('B00452V66G', 4.299628576772756)],\n",
              "             'A2V7EO331SFUF6': [('B003ES5ZUU', 4.672580532596781),\n",
              "              ('B004E10KFG', 3.955568024645593)],\n",
              "             'A2VCXIAWCPQ13P': [('B0010Z28XG', 4.2880462994875925),\n",
              "              ('B001F51G16', 4.186593757547175),\n",
              "              ('B000LRMS66', 4.033523489298031)],\n",
              "             'A2VH0UT5EQFB6P': [('B002RCNX8K', 4.3340113609248085),\n",
              "              ('B0002L5R78', 4.321731732121295),\n",
              "              ('B005DOUJL8', 4.23691489814884),\n",
              "              ('B004QK7HI8', 4.092952035602957),\n",
              "              ('B004CLYEE6', 3.9983143228884996)],\n",
              "             'A2VJ5ALN1BIV3B': [('B000M2TAN4', 4.911092695494157),\n",
              "              ('B002WE4HE2', 4.648536529257335),\n",
              "              ('B00081A2KY', 4.6412061635894855),\n",
              "              ('B005CLPP84', 4.46861023336609),\n",
              "              ('B0053NBLFW', 4.232159915426755)],\n",
              "             'A2VODABWSVHV8E': [('B004K1EZDS', 4.435701043951837),\n",
              "              ('B0041OSQ9I', 4.42279113467335),\n",
              "              ('B001V9LPT4', 4.13162855169117)],\n",
              "             'A2W2ODLRQ2L8LE': [('B001D7REIK', 4.479061573427743)],\n",
              "             'A2W9GX82SLKROQ': [('B0076MBOC8', 4.615461811486833),\n",
              "              ('B001TH7T2U', 4.576947804003465),\n",
              "              ('B000QUUFRW', 4.54218674066157),\n",
              "              ('B000TKHBDK', 4.505437348556108),\n",
              "              ('B004Q3R9B0', 4.49947647739472)],\n",
              "             'A2W9I628I6SE1U': [('B002MMY4WY', 4.154821364768179),\n",
              "              ('B001L2MJO6', 4.092037624762578),\n",
              "              ('B0014KOB6Y', 3.798191310237901)],\n",
              "             'A2WB7LZ595CR50': [('B00429N18S', 4.644254645015366),\n",
              "              ('B001TH7T2U', 4.577871177005829),\n",
              "              ('B0012Y6HC8', 4.465754670393853),\n",
              "              ('B00007E7JU', 4.465596975435244),\n",
              "              ('B00109Y2DQ', 4.461771073516172)],\n",
              "             'A2WC9NFLG57W4H': [('B000O8WE66', 4.240907743455675),\n",
              "              ('B0041Q38N0', 4.229161848752208),\n",
              "              ('B0058GK55Q', 4.202489704256629),\n",
              "              ('B004CZ9U96', 4.135762988915854)],\n",
              "             'A2WJ5XSE4I9F55': [('B004FA8NOQ', 4.228093256135766)],\n",
              "             'A2WLNSZ9U0T1S3': [('B001UI2FPE', 4.779083147382184),\n",
              "              ('B001IEZX3G', 4.726592625483689),\n",
              "              ('B000RZQZM0', 4.7100020037937655),\n",
              "              ('B0012Y2LLE', 4.689809229300496),\n",
              "              ('B001NJ0WCS', 4.666060996624888)],\n",
              "             'A2WW57XX2UVLM6': [('B002WE0QN8', 4.7414526270707835),\n",
              "              ('B002NU5UW8', 4.731486288444764),\n",
              "              ('B006JINHYS', 4.394047172729917),\n",
              "              ('B003Y74AXO', 4.102279214501149)],\n",
              "             'A2WXURU33RBGQS': [('B0013AV4M4', 4.153876790844445),\n",
              "              ('B000HDJT4S', 4.10092220970718)],\n",
              "             'A2X06FP2PQ6EK0': [('B004CLYEH8', 4.33567759418304),\n",
              "              ('B000VE2RP6', 4.271661705847387)],\n",
              "             'A2X3L31KCXBHCL': [('B000BQ7GW8', 4.873371681454595),\n",
              "              ('B000JMJWV2', 4.695471803767985),\n",
              "              ('B000I68BD4', 4.312347180027852),\n",
              "              ('B006I5MKZY', 3.778075042732246)],\n",
              "             'A2X78O6G89CB30': [('B003ES5ZUU', 4.734964382656669),\n",
              "              ('B001TH7GUU', 4.713798603987096),\n",
              "              ('B00212NO6W', 4.550428707201007),\n",
              "              ('B004J3V90Y', 4.478832728125995),\n",
              "              ('B000KZ70JE', 4.470480015594041)],\n",
              "             'A2X8KN82L07RSK': [('B003BLQHN4', 4.44744880938101),\n",
              "              ('B002IC0YL8', 4.302209847913759),\n",
              "              ('B002LARRDK', 4.222737792743931),\n",
              "              ('B0035JJJPU', 3.44073545552267)],\n",
              "             'A2XA8CW5DF4MNZ': [('B000TKHBDK', 4.729702803480632),\n",
              "              ('B001TOD7ME', 4.688012821200348),\n",
              "              ('B000JMJWV2', 4.668377307145653),\n",
              "              ('B000AP05BO', 4.357177331596071),\n",
              "              ('B0025VKUQ6', 4.355802872901148)],\n",
              "             'A2XHOLOLKGV1FE': [('B001PIBE8I', 3.958034475634943),\n",
              "              ('B004I5BUSO', 3.9564987585131455)],\n",
              "             'A2XJMQ2COPGWJH': [('B003ES5ZUU', 4.802710539013535),\n",
              "              ('B001CIREXA', 4.652866473782178),\n",
              "              ('B000E6G9RI', 4.58685458922974),\n",
              "              ('B0041Q38N0', 4.513547283079956),\n",
              "              ('B0025VKUPW', 4.474979400255494)],\n",
              "             'A2XPK6XCL0UH1S': [('B004CLYEE6', 4.197360751653124)],\n",
              "             'A2XRMQA6PJ5ZJ8': [('B001V9KG0I', 5),\n",
              "              ('B002TMRZOQ', 4.968947789866),\n",
              "              ('B000BQ7GW8', 4.935766712192668),\n",
              "              ('B005FYNSPK', 4.775101805941037),\n",
              "              ('B005MTME3U', 4.771649899521355)],\n",
              "             'A2XU6J41ZQOJ2V': [('B002ZIN9DU', 4.588744429029479),\n",
              "              ('B002SGATH8', 4.37032970103281)],\n",
              "             'A2Y1WNETD9AYHO': [('B00752R4PK', 4.555458081018413)],\n",
              "             'A2Y29IRSI08F0I': [('B00081A2KY', 4.815987641399457),\n",
              "              ('B004J3ZV62', 4.814603265373724),\n",
              "              ('B001TZUS98', 4.764167893814092),\n",
              "              ('B003XIJ3MW', 4.66532560717699)],\n",
              "             'A2Y3WWPUKIJ59I': [('B0034CL2ZI', 4.580372478218929),\n",
              "              ('B003I4FHNA', 4.30431446925912),\n",
              "              ('B002SZEOLG', 4.166248547320374),\n",
              "              ('B0002CPBWI', 4.071056096000324),\n",
              "              ('B0034XRDUA', 3.747290015364331)],\n",
              "             'A2Y739CRM15WDL': [('B001HSOFI2', 4.399633429449452),\n",
              "              ('B000BKJZ9Q', 4.360568771542249),\n",
              "              ('B005BZNE2U', 4.268181647134649),\n",
              "              ('B001CHHVCU', 3.774655988181914),\n",
              "              ('B005GM1Q1O', 3.7330516731185615)],\n",
              "             'A2YEZ8Z3BW2SKG': [('B000N99BBC', 4.782203619341057),\n",
              "              ('B003VANOI6', 4.3922050647426945),\n",
              "              ('B003ES5ZSW', 4.365739534882244)],\n",
              "             'A2YHXGPCTENZY3': [('B002UT42UI', 3.5178503824101086)],\n",
              "             'A2YRX8J4WM5BRX': [('B000CS7U1C', 4.883075662523063),\n",
              "              ('B001ELK2NY', 4.656384406050313)],\n",
              "             'A2ZFBTGPDP6PH6': [('B000BQ7GW8', 4.804970801604344),\n",
              "              ('B002MCZJ78', 4.6314379676776225),\n",
              "              ('B002VPE1WK', 4.544574199783697),\n",
              "              ('B001GS8FZ2', 4.15349779925356)],\n",
              "             'A2ZRG5NOFZ47RK': [('B0000BZL1P', 4.796292926030132),\n",
              "              ('B000CKVOOY', 4.582632117306249),\n",
              "              ('B0043WJRRS', 4.499901920019658),\n",
              "              ('B004GUT1QO', 4.479433497116722)],\n",
              "             'A2ZY49IDE6TY5I': [('B003ZBZ64Q', 4.324650307310807),\n",
              "              ('B000LRMS66', 4.205896407549772),\n",
              "              ('B006ZBWV0K', 4.204745022332148),\n",
              "              ('B006OZEIKS', 3.9725642948948923)],\n",
              "             'A3077MQTAKOVFZ': [('B000062VUO', 4.557505706978965),\n",
              "              ('B001XURP7W', 4.4248662495951825),\n",
              "              ('B005FVNGRI', 4.413010713347597),\n",
              "              ('B0063705PE', 4.227015028740067)],\n",
              "             'A307Y3LMCVEZS1': [('B002WE6D44', 4.640450032915692),\n",
              "              ('B000UHQVOW', 4.470342370735391),\n",
              "              ('B003EO1H7E', 4.069192792328232)],\n",
              "             'A30X750M8V1XXW': [('B001TUYTZM', 4.665248986711247),\n",
              "              ('B002RCNX8K', 4.531547514193753),\n",
              "              ('B0043M668G', 4.506187535064703),\n",
              "              ('B0002VAQR4', 4.47641513121723),\n",
              "              ('B0016BVKAQ', 4.4194927988743355)],\n",
              "             'A30XZK10EZN9V4': [('B003XM1WE0', 4.851536971410699),\n",
              "              ('B002V88HFE', 4.8192792355401926),\n",
              "              ('B0002L5R78', 4.739198491775708),\n",
              "              ('B004TJ6JH6', 4.72453545590591),\n",
              "              ('B003OC6LWM', 4.718124486070716)],\n",
              "             'A314KKDIJWCNMV': [('B004LSNF04', 4.7744787380478915),\n",
              "              ('B002V88HFE', 4.607474120390352),\n",
              "              ('B0034XRDUA', 4.052809826861533)],\n",
              "             'A31BD4RXCON7QO': [('B000VX6XL6', 4.4481250442141524),\n",
              "              ('B0025VKUPW', 4.413969207803131)],\n",
              "             'A31HE83MU98GBV': [('B000F9YN22', 4.9026104947920475),\n",
              "              ('B003ZHV978', 4.7089566155484945),\n",
              "              ('B00093IIRA', 4.609367178050043),\n",
              "              ('B004XNLR16', 4.56288028129985),\n",
              "              ('B002MCZ2L6', 4.30332193267643)],\n",
              "             'A31ICLWQ9CSHRS': [('B000I1X3W8', 4.688005535073256),\n",
              "              ('B000EW8074', 4.417371508542432),\n",
              "              ('B000MUXJCO', 4.274851334048578),\n",
              "              ('B0042FZA1S', 4.250400096539518),\n",
              "              ('B002SGATH8', 4.111165912885208)],\n",
              "             'A31N0XY2UTB25C': [('B003XM1WE0', 4.917737530863371),\n",
              "              ('B006EKIQYM', 4.852222677758335),\n",
              "              ('B00029U1DK', 4.825275511491799),\n",
              "              ('B00461E7JE', 4.824270654260131),\n",
              "              ('B00316263Y', 4.783359145966259)],\n",
              "             'A324X7RVDAV3FT': [('B000ZMCILW', 4.304727467664957),\n",
              "              ('B000LRMS66', 4.14999517518632)],\n",
              "             'A3284KYDZ00BZA': [('B005IA843W', 4.406376550352825),\n",
              "              ('B000FQ2JLW', 4.4030663085977055),\n",
              "              ('B005DSPLCQ', 4.395677335083847),\n",
              "              ('B003LSTD38', 4.373684329765332),\n",
              "              ('B003VAK16O', 4.212389643947161)],\n",
              "             'A32HSNCNPRUMTR': [('B00006B7DA', 4.210748869631719),\n",
              "              ('B0012S4APK', 4.198347301304749),\n",
              "              ('B00182CIB8', 4.182536675957332),\n",
              "              ('B004QK7HI8', 4.046542992834673)],\n",
              "             'A32O5FZH994CNY': [('B0016BVKAQ', 4.706831650743117),\n",
              "              ('B001O94GNS', 4.594117375527832),\n",
              "              ('B004YHXXKO', 4.483016155575822),\n",
              "              ('B0039NLS3I', 4.453008610477814),\n",
              "              ('B001OQC0IO', 4.392217983969887)],\n",
              "             'A32QOZWIKQDNZX': [('B000V07N9U', 4.445036315002555)],\n",
              "             'A32T2H8150OJLU': [('B001TH7GT6', 4.835814174773179),\n",
              "              ('B000M2GYF6', 4.652640473392007),\n",
              "              ('B0036VO6IC', 4.398107977921079)],\n",
              "             'A335QXPTV1RIV1': [('B0000BVYTV', 4.39791597579454),\n",
              "              ('B000I68BD4', 3.9798193963521387)],\n",
              "             'A33775AIB1A664': [('B000N99BBC', 4.4735410075406605),\n",
              "              ('B004LSNF04', 4.386734605962827),\n",
              "              ('B003BLQHN4', 4.239017434896672),\n",
              "              ('B002ZCXJZE', 4.227571130189715),\n",
              "              ('B003RRYAXQ', 4.023378642473632)],\n",
              "             'A33HIV8RXRDM88': [('B002VPE1X4', 4.607353329597414),\n",
              "              ('B0002L5R78', 4.582814029349133),\n",
              "              ('B0035ERKYW', 4.535595343651773),\n",
              "              ('B00006JN3G', 4.5121571196510715),\n",
              "              ('B004GUT1QO', 4.364319730078848)],\n",
              "             'A33XMCG1UFDSY2': [('B002RM08RE', 4.54785058818943),\n",
              "              ('B000VX6XL6', 4.510576202440728),\n",
              "              ('B000TKHBDK', 4.473567454334976),\n",
              "              ('B000TXEE14', 4.42589121529551),\n",
              "              ('B000LRMS66', 4.345047155106471)],\n",
              "             'A33YZNZIRA3H97': [('B004G6002M', 4.1904131374999025),\n",
              "              ('B002VPE1Z2', 4.053710034612817),\n",
              "              ('B002UT42UI', 3.8807794660443697)],\n",
              "             'A33ZYFE8XMKKR1': [('B0041Q38NU', 3.9151650044577417)],\n",
              "             'A34BZM6S9L7QI4': [('B002WE6D44', 4.793133289491595),\n",
              "              ('B002VPE1Q6', 4.772705995919799),\n",
              "              ('B0074BW614', 4.677219623095358),\n",
              "              ('B00622AG6S', 4.59888563832211),\n",
              "              ('B00634PLTW', 4.458150049784872)],\n",
              "             'A34C9AFFZOI45T': [('B00081A2KY', 4.614432796889873),\n",
              "              ('B004S4R5CK', 4.609120097543348),\n",
              "              ('B004SBI2MU', 4.548900004046286),\n",
              "              ('B00182CIB8', 4.486917369892755),\n",
              "              ('B005FYNSPK', 4.482715669043527)],\n",
              "             'A34JKODTSKCGEN': [('B000N99BBC', 4.8736877516097445),\n",
              "              ('B0002L5R78', 4.771809065024287)],\n",
              "             'A34LQ791ACZ0JC': [('B000FQ2JLW', 4.753530422691788),\n",
              "              ('B004Q0T0LU', 4.646526246562608),\n",
              "              ('B0026ZPFCK', 4.587989838116014)],\n",
              "             'A34UVV757IKPVB': [('B001UI2FPE', 4.17251965603745),\n",
              "              ('B005DOUJL8', 4.168379504327037)],\n",
              "             'A353U0L2HAMSHV': [('B003LSTD38', 4.355018247627405),\n",
              "              ('B0002L5R78', 4.325001756458381),\n",
              "              ('B0043M668G', 4.244772475109319),\n",
              "              ('B000S5Q9CA', 4.209145048084078),\n",
              "              ('B002J9HBIO', 4.1905758168125)],\n",
              "             'A357B3PUHSVQA': [('B005I6EU48', 4.053202153141678)],\n",
              "             'A35C2IVVQR1HTK': [('B004RORMF6', 4.295511971888116),\n",
              "              ('B002WE6D44', 4.153856387468286),\n",
              "              ('B00007GQLU', 4.1456753933189985),\n",
              "              ('B0017JY5FE', 3.938025113708692),\n",
              "              ('B004J3V90Y', 3.891450598615526)],\n",
              "             'A35HNL2VEDK9Z1': [('B00006JN3G', 4.247142593260462),\n",
              "              ('B0007MXZB2', 4.133021241217684),\n",
              "              ('B000O161X0', 4.110405744764483),\n",
              "              ('B0045371FU', 3.9132337819687315)],\n",
              "             'A35HUT8MQMT21L': [('B004GF8TIK', 4.844041532103139),\n",
              "              ('B000CKVOOY', 4.734693906656561),\n",
              "              ('B003UE52ME', 4.674231752471882),\n",
              "              ('B0012Y2LLE', 4.657129481667014),\n",
              "              ('B00092GM0Q', 4.516604129184602)],\n",
              "             'A35OIWPVTGW3UC': [('B0011Z44UA', 4.3735327937694315),\n",
              "              ('B002QEBMAK', 4.3648001142369885),\n",
              "              ('B0041OSQB6', 4.175890755358899),\n",
              "              ('B002UT42UI', 4.017668728241734)],\n",
              "             'A35W3JQYP0M655': [('B003UE52ME', 4.636331788779157),\n",
              "              ('B003XE3X8Q', 4.539028563410606),\n",
              "              ('B0027VT6V4', 4.336507557952048),\n",
              "              ('B0002CPBWI', 4.330127525473621)],\n",
              "             'A35X2JJI49OBZP': [('B001RNNXQM', 4.867566758157487),\n",
              "              ('B006ZT4VA0', 4.76667686973756),\n",
              "              ('B003YKG2W8', 4.656598537661267)],\n",
              "             'A36A1ZYZH8568P': [('B002V88HFE', 4.5148004727164635),\n",
              "              ('B0043WJRRS', 4.351972713120143),\n",
              "              ('B0041Q38NU', 4.341277080491269),\n",
              "              ('B0011ZK6PC', 4.251187334425487),\n",
              "              ('B003ES61EE', 4.250864961752134)],\n",
              "             'A36IHC0K68NS2': [('B000N99BBC', 4.172445357758602),\n",
              "              ('B0076MBOC8', 3.925970134585197),\n",
              "              ('B002LITT42', 3.634970520084378),\n",
              "              ('B004T9RR6I', 3.246625841592742),\n",
              "              ('B0054YF0C0', 2.7018882541325886)],\n",
              "             'A36K2N527TXXJN': [('B000HPV3RW', 5),\n",
              "              ('B000BQ7GW8', 4.963522441383693),\n",
              "              ('B0012Y6HC8', 4.916082075511576),\n",
              "              ('B0002L5R78', 4.906928625647573),\n",
              "              ('B004CLYEFK', 4.897119520203029)],\n",
              "             'A370XYLIZCSK1Y': [('B0036Q7MV0', 4.824446263716437),\n",
              "              ('B001MSU1FS', 4.7207855414389766),\n",
              "              ('B000LRMS66', 4.392253770361868),\n",
              "              ('B005HMKKH4', 4.347045354717017)],\n",
              "             'A376OJHLE6SU9Q': [('B002TLTE6O', 4.770114452276589),\n",
              "              ('B00007E7JU', 4.654772519008462),\n",
              "              ('B000F34FVM', 4.461457430791749),\n",
              "              ('B001UFYFYG', 4.355333270808334),\n",
              "              ('B001CHHVCU', 3.8606402826738573)],\n",
              "             'A3775OP5VTX5ON': [('B00009EHJV', 4.260855922430769),\n",
              "              ('B0036VO6IC', 4.053342443902048),\n",
              "              ('B000V07N9U', 4.009147744996787),\n",
              "              ('B001F42MKG', 3.983259919921443),\n",
              "              ('B0034XRDUA', 3.797101854970028)],\n",
              "             'A377LPVLLAI42D': [('B003SGCO3E', 4.948263575025157),\n",
              "              ('B001B8EOMU', 4.305796974016792)],\n",
              "             'A37CEYB95LK6R6': [('B001NS0OZ4', 4.635574041293909)],\n",
              "             'A37IRE9GZ0CZ7I': [('B003ES5ZUU', 5),\n",
              "              ('B005OOKNP4', 4.4993661703902985)],\n",
              "             'A386LG0LRWKJZP': [('B00007M1TZ', 3.515994693806501),\n",
              "              ('B001B99I34', 3.3329338607316807),\n",
              "              ('B005CLPP84', 3.285489694696473)],\n",
              "             'A3872Y2XH0YDX1': [('B003ES5ZUU', 4.920376092237446),\n",
              "              ('B000Q82PIQ', 4.70176429052893),\n",
              "              ('B004G6002M', 4.555871382655227),\n",
              "              ('B000O8I474', 4.510076194594521)],\n",
              "             'A38KK0SZYEH5UD': [('B005DIQ2OC', 4.78518419473699),\n",
              "              ('B00006RVPW', 4.709663129630726),\n",
              "              ('B006JH8T3S', 4.671720128841577),\n",
              "              ('B005NFG1MS', 4.519511263714344),\n",
              "              ('B000FBK3QK', 4.433402319140459)],\n",
              "             'A38NELQT98S4H8': [('B0034CL2ZI', 4.485850224289686),\n",
              "              ('B001NTFAOS', 4.391187293494214),\n",
              "              ('B005EOWBKE', 4.360534823786096),\n",
              "              ('B000O8WE66', 4.298635189617959),\n",
              "              ('B002QQ7TLY', 4.247514456809981)],\n",
              "             'A38NHXL5257E3B': [('B004XC6GJ0', 4.861748836446572),\n",
              "              ('B005FYNSPK', 4.7973454439692125),\n",
              "              ('B003SGCO3E', 4.610463049089647),\n",
              "              ('B003YH9EZ8', 4.572430768818947),\n",
              "              ('B0041Q38N0', 4.517935636501913)],\n",
              "             'A38QEATH3NODFM': [('B0009RGLSE', 4.604719695861078)],\n",
              "             'A38RMU1Y5TDP9': [('B00483WRZ6', 4.65472372531705),\n",
              "              ('B001E1Y5O6', 4.615196892784889),\n",
              "              ('B005IMFX2K', 4.6076263721983555),\n",
              "              ('B0053R0WWG', 4.5570925249910825),\n",
              "              ('B001TANZ0W', 4.507668995531618)],\n",
              "             'A3977M5S0GIG5H': [('B001TH7T2U', 4.7360996512758735),\n",
              "              ('B001FWBUUG', 4.577618210691443),\n",
              "              ('B0000BVYTV', 4.4052473638074545),\n",
              "              ('B000Q8UAWY', 4.40493213534079),\n",
              "              ('B003XU6H8I', 4.367857118940445)],\n",
              "             'A3A15L96IYUO6V': [('B000N99BBC', 4.563528500196369),\n",
              "              ('B001BM5XB2', 4.416644627591994),\n",
              "              ('B001L2MJO6', 4.311158392063228),\n",
              "              ('B003M0NURK', 4.265961904815328),\n",
              "              ('B003M8HWDA', 3.9965891284215447)],\n",
              "             'A3A4ZAIBQWKOZS': [('B00017LSPI', 5),\n",
              "              ('B0000BZL1P', 5),\n",
              "              ('B0012Y6HC8', 4.952429465024221),\n",
              "              ('B0062EUE54', 4.939785721057255),\n",
              "              ('B006TF37H8', 4.932777119858345)],\n",
              "             'A3AYSYSLHU26U9': [('B004CLYEDC', 4.613729131355753),\n",
              "              ('B006JH8T3S', 4.576442308255251),\n",
              "              ('B005ARQV6U', 4.5503346025225095),\n",
              "              ('B004DMNT2W', 4.341202230479504),\n",
              "              ('B0011ZK6PC', 4.325200728192224)],\n",
              "             'A3BACUOZV1M0WM': [('B00316263Y', 4.855839339392298),\n",
              "              ('B0041Q38NU', 4.62253664325307),\n",
              "              ('B0040JHVC2', 4.597130794323199),\n",
              "              ('B00009R6WO', 4.596155177586139),\n",
              "              ('B004G6002M', 4.444661980387434)],\n",
              "             'A3BKNXX8QFIXIV': [('B001P05NBA', 4.778052774118927),\n",
              "              ('B001TH7GSW', 4.701751819170814),\n",
              "              ('B002R5AM7C', 4.424327184413162),\n",
              "              ('B00127VF68', 4.289395540889582),\n",
              "              ('B0035JJJQY', 4.051494723800633)],\n",
              "             'A3BVN2QBNPBHCR': [('B003M0NURK', 4.6899938629462925),\n",
              "              ('B001C271MA', 4.639393567999095),\n",
              "              ('B000UY1MB2', 4.58582899279276),\n",
              "              ('B004TLH6GM', 4.497980115022954),\n",
              "              ('B003RRYAXQ', 4.468014905780284)],\n",
              "             'A3CG93783LP0FO': [('B000067RT6', 4.60567285393557),\n",
              "              ('B003ES5ZUU', 4.505841799388924),\n",
              "              ('B004Q3R9AQ', 4.3785720385735685),\n",
              "              ('B001E1Y5O6', 4.27615359273446),\n",
              "              ('B001S0PWWC', 4.275185608978585)],\n",
              "             'A3CW0ZLUO5X2B1': [('B004CLYEDC', 4.523794365024592),\n",
              "              ('B003NR57BY', 4.458365562700392),\n",
              "              ('B001O94GNS', 4.301780207913613),\n",
              "              ('B000LRMS66', 4.17520551130951),\n",
              "              ('B005HMKKH4', 4.1642405322842615)],\n",
              "             'A3D01HLSUFEZQY': [('B000V5K3FG', 4.115626462195178)],\n",
              "             'A3D0UM4ZD2CMAW': [('B005IA843W', 4.823939792995811),\n",
              "              ('B004FA8NOQ', 4.571216602035475),\n",
              "              ('B005CT56F8', 4.559656916872622),\n",
              "              ('B002IO2UM2', 4.458369045881512)],\n",
              "             'A3D2VIUT2HWP0Z': [('B000204SWE', 4.478399968327502),\n",
              "              ('B003VAHYNC', 4.45891262152917),\n",
              "              ('B0025VKUPW', 4.39660531469857),\n",
              "              ('B000RHZJN4', 4.311236191044048),\n",
              "              ('B002JCSCYS', 4.1947970616602595)],\n",
              "             'A3D6OI36USYOU1': [('B003ES5ZUU', 4.860627484807248),\n",
              "              ('B003VAGXZC', 4.449437162077878)],\n",
              "             'A3DGJMO6VPG6FJ': [('B0000BZL1P', 4.537458940189632),\n",
              "              ('B000N99BBC', 4.513763402018919),\n",
              "              ('B004QK7HI8', 4.143189290222257),\n",
              "              ('B000V5K3FG', 3.9973878939496164)],\n",
              "             'A3DOPYDOS49I3T': [('B0054L8N7M', 4.619451197154486),\n",
              "              ('B001L2IKYE', 4.382600241760588),\n",
              "              ('B0049SKIDI', 4.3460214101467765),\n",
              "              ('B002KC55OM', 4.3177479841256865),\n",
              "              ('B000P6J67C', 4.317165803256469)],\n",
              "             'A3DWO5RJDA430F': [('B004J3ZV62', 4.427156424384387)],\n",
              "             'A3E68EBGXTWDNP': [('B000062VUO', 4.519887217497655),\n",
              "              ('B000BYCKU8', 4.3758318095030955),\n",
              "              ('B0007U0GZM', 4.26868785178052)],\n",
              "             'A3EFSLEMHNPP6A': [('B000204SWE', 4.616566185844633),\n",
              "              ('B002Y6CJJ8', 4.512670720566267),\n",
              "              ('B003VAM32E', 4.382712539077882),\n",
              "              ('B003VAK16O', 4.327654659523764),\n",
              "              ('B001TK3ACA', 4.261241588744358)],\n",
              "             'A3ER6ARJ23CIN8': [('B003UE52ME', 4.780562724669445),\n",
              "              ('B00429N18S', 4.773845268786809),\n",
              "              ('B001D7REIK', 4.488123109027805),\n",
              "              ('B003ES5ZSW', 4.4837504613608505),\n",
              "              ('B005DOK8NW', 4.344720941291957)],\n",
              "             'A3EXWV8FNSSFL6': [('B001UI2FPE', 4.661075762831913),\n",
              "              ('B0033PRWSW', 4.621550713550358),\n",
              "              ('B001F51G16', 4.604406695399937),\n",
              "              ('B005ARQV6U', 4.564291050827179),\n",
              "              ('B0053R0WWG', 4.5630892389770255)],\n",
              "             'A3EZEP0FX5BC1P': [('B004CLYEDC', 4.415549568784038),\n",
              "              ('B00004SB92', 4.252983596847271),\n",
              "              ('B00008SCFL', 3.852670146586599),\n",
              "              ('B0028Y4CWI', 3.811971579710514),\n",
              "              ('B003EO1H7E', 3.8105481179636795)],\n",
              "             'A3EZFFPVS34AMO': [('B006RG0QC8', 4.128739726897578)],\n",
              "             'A3F3B1JPACN215': [('B004CLYE8C', 4.583243150369868),\n",
              "              ('B004IZN3WU', 4.090001066318251)],\n",
              "             'A3F3B6HY9RJI04': [('B004XQWGHW', 4.801432539034256),\n",
              "              ('B003OC6LWM', 4.755327775215545),\n",
              "              ('B005KP473Q', 4.730908277347721),\n",
              "              ('B001NTFAOS', 4.71459411889492),\n",
              "              ('B001PUQ7PG', 4.510377815545563)],\n",
              "             'A3F7F7QKQP2FKT': [('B001FA1O18', 4.312303934333677)],\n",
              "             'A3F7USIDJBR8WU': [('B004J3V90Y', 4.679078969072483),\n",
              "              ('B003SGCO3E', 4.583068151869636),\n",
              "              ('B004LSNF04', 4.579520031363656),\n",
              "              ('B000L47AHG', 4.438256395451078),\n",
              "              ('B005CT56F8', 4.26407761541555)],\n",
              "             'A3F8T3BRXRX5P3': [('B001UI2FPE', 4.4289628904406175),\n",
              "              ('B002V88HFE', 4.360329038989578),\n",
              "              ('B000O8I474', 4.266930864984471),\n",
              "              ('B000JMJWV2', 4.23106855828694),\n",
              "              ('B002IO2UM2', 4.230196012434689)],\n",
              "             'A3F9CBHV4OHFBS': [('B005EOWBKE', 4.561829794737628),\n",
              "              ('B0040JHVC2', 4.4866318995137044),\n",
              "              ('B000RZQZM0', 4.480503675460159),\n",
              "              ('B002W3IXZW', 4.447972927839036),\n",
              "              ('B0076POAI0', 3.589840889326319)],\n",
              "             'A3F9CMU8KNAY1M': [('B0042FZA1S', 4.40618158189023),\n",
              "              ('B003MAJMXQ', 4.37088495176607),\n",
              "              ('B002R5AM7C', 4.313698008958951),\n",
              "              ('B002VPE1Z2', 4.298881780463197),\n",
              "              ('B001F7HLRC', 4.23106870317214)],\n",
              "             'A3FEGTOLCWXSV4': [('B003ES5ZUU', 4.689043582663705),\n",
              "              ('B001TANZ0W', 4.483086618782398),\n",
              "              ('B001TZUS98', 4.4367495702477555),\n",
              "              ('B000BTL0OA', 4.435137595557982),\n",
              "              ('B002QQ7TLY', 4.161713000627784)],\n",
              "             'A3FFZQKCA7UOYY': [('B000M2TAN4', 5),\n",
              "              ('B001TH7T2U', 4.992858377110139),\n",
              "              ('B002JQNXZC', 4.920565077346423),\n",
              "              ('B000OGX5AM', 4.902520328222969),\n",
              "              ('B003FVVMS0', 4.8730570184980815)],\n",
              "             'A3FKQQTSMHOCE0': [('B00009XVCZ', 4.73722701712427),\n",
              "              ('B000RQSGYO', 4.404440350674618)],\n",
              "             'A3FPSY1M6G7XIB': [('B0007U00X0', 4.830858874213895),\n",
              "              ('B000V5P90K', 4.694833596832116)],\n",
              "             'A3G5MOHY1U635N': [('B000204SWE', 4.458323408646652),\n",
              "              ('B002MCZJ78', 4.312013788763918),\n",
              "              ('B000BTL0OA', 4.28346062164747),\n",
              "              ('B002R5AM7C', 4.209983165908973),\n",
              "              ('B004G6002M', 4.109048543938637)],\n",
              "             'A3GFQHHVMEAIO': [('B0018O9JIG', 4.669237837849952),\n",
              "              ('B0013DXVYK', 4.591728591226939)],\n",
              "             'A3GVXKCTFN3YDN': [('B000F7QRTG', 4.97638986438911),\n",
              "              ('B002BA596W', 4.855209776384212),\n",
              "              ('B004Q3R9B0', 4.790735888498587),\n",
              "              ('B002FU5QLQ', 4.437728910052597),\n",
              "              ('B001IZYV3S', 4.038737451451652)],\n",
              "             'A3H4S6YO9VNGDZ': [('B004S4R5CK', 4.528682381043781),\n",
              "              ('B000Q8UAWY', 4.482648184206282)],\n",
              "             'A3H6NNGCINPLEC': [('B0054L8N7M', 4.444370287462219),\n",
              "              ('B001G5ZTLS', 4.416173349083452),\n",
              "              ('B00169N0BK', 4.1966811961076385),\n",
              "              ('B0012GQZZU', 4.0841022725012355),\n",
              "              ('B001IZYV3S', 3.7255898252544433)],\n",
              "             'A3HCMJOGRRSAF2': [('B001FWBUUG', 4.008717123055789),\n",
              "              ('B00175VDY4', 4.008630630953202),\n",
              "              ('B003XIJ3MW', 3.9491908926743178)],\n",
              "             'A3HPCRD9RX351S': [('B000CKVOOY', 4.73027142233594)],\n",
              "             'A3HR0ZZOFKQ97N': [('B001MSU1FS', 4.99662481878958),\n",
              "              ('B006U3O566', 4.936095454002666),\n",
              "              ('B004Q3R9B0', 4.800043774650049),\n",
              "              ('B006JINHYS', 4.547092904582686)],\n",
              "             'A3HSDV9Y0TV5Z2': [('B004RORMF6', 4.661406522480739),\n",
              "              ('B000CKVOOY', 4.5086652752177585),\n",
              "              ('B002V88HFE', 4.505991921649946),\n",
              "              ('B001MSU1FS', 4.494534446739357)],\n",
              "             'A3INN916E4VION': [('B000HPV3RW', 4.739052141707201),\n",
              "              ('B000JE7GPY', 4.537819059689736),\n",
              "              ('B004E10KFG', 4.173892333276775),\n",
              "              ('B00168BSEW', 4.153324962439002),\n",
              "              ('B005DOK8NW', 4.091785541137307)],\n",
              "             'A3IOQ7NVVLAUEE': [('B003UE52ME', 4.483599867426614),\n",
              "              ('B000EY5F5C', 3.825030187957922)],\n",
              "             'A3IY316DRNF5F2': [('B002TMRZOQ', 4.347060263569913),\n",
              "              ('B005HGBEZ2', 3.9830368090150965),\n",
              "              ('B0039NLS3I', 3.9241045923196562)],\n",
              "             'A3J2YU2D9BH2J7': [('B0052SCU8U', 4.867898253131249),\n",
              "              ('B001TH7GUU', 4.726015718306095),\n",
              "              ('B003ES5ZUU', 4.671331183506515),\n",
              "              ('B004E10KFG', 4.223852250480251),\n",
              "              ('B004T9RR6I', 3.8737188269783003)],\n",
              "             'A3J6Q0Y0SKY7AR': [('B004LSNF04', 4.764853364159925)],\n",
              "             'A3J8A5L5AF5TX9': [('B00316263Y', 4.453628886646584),\n",
              "              ('B002RM08RE', 4.317679120729254),\n",
              "              ('B005FYNSPK', 4.316168739438252),\n",
              "              ('B000VY2BC0', 3.8754123777316596),\n",
              "              ('B003ELYQGG', 3.8139864780240744)],\n",
              "             'A3JV071KO43Q5X': [('B001BM5XB2', 4.203602004985777),\n",
              "              ('B001NJ0WCS', 4.152936076608238),\n",
              "              ('B000FBK3QK', 3.9987566364343006),\n",
              "              ('B001VFUN82', 3.794738758534057)],\n",
              "             'A3L1VJMHFWONCB': [('B00005T3G0', 4.6266315564619145),\n",
              "              ('B003VAK16O', 4.5701259073048615),\n",
              "              ('B00020S7XK', 4.48339956151326),\n",
              "              ('B003ES5ZSW', 4.239510072403957),\n",
              "              ('B005OOKNP4', 4.233888083416553)],\n",
              "             'A3L6L5O89JTX2T': [('B001F7AJKI', 4.619349179367049)],\n",
              "             'A3L9E0YI7C5G0W': [('B004W2JKWG', 4.306964377343619),\n",
              "              ('B0011NVMO8', 4.256306984933615),\n",
              "              ('B001XURP7W', 4.164305381867882),\n",
              "              ('B005DOK8NW', 4.072580374395055),\n",
              "              ('B0012MMW7E', 3.9363921249546356)],\n",
              "             'A3LGT6UZL99IW1': [('B002WE0QN8', 4.6601427613910085),\n",
              "              ('B003CFATT2', 4.655744498144518),\n",
              "              ('B000N99BBC', 4.648170956320815),\n",
              "              ('B004CLYEDC', 4.645554972092546),\n",
              "              ('B005UA3I72', 4.618936696581403)],\n",
              "             'A3LPL35P7FH78Y': [('B001TH7GUU', 4.8884871919995945),\n",
              "              ('B002WE4HE2', 4.786887122500648),\n",
              "              ('B0058UUR6E', 4.739781773631686),\n",
              "              ('B000Q8UAWY', 4.650306815189974),\n",
              "              ('B003VAHYNC', 4.5425927089708145)],\n",
              "             'A3LWC833HQIG7J': [('B0019EHU8G', 4.649132680971272),\n",
              "              ('B001T9NUJE', 4.482908146030048),\n",
              "              ('B002J9HBIO', 4.436613457038919),\n",
              "              ('B001N85NMI', 4.411388387828892),\n",
              "              ('B006K550J0', 4.36245815018199)],\n",
              "             'A3MFORLOKIOEQY': [('B002HWRJY4', 4.8621120740485555),\n",
              "              ('B000VX6XL6', 4.836040777393806),\n",
              "              ('B004T9RR6I', 4.1462723901513625)],\n",
              "             'A3MMR2WDKAK0PA': [('B002BH3I9U', 3.871896749593139)],\n",
              "             'A3MU9G6YWKTGTA': [('B00006B7DA', 4.364937888032299)],\n",
              "             'A3N0P5AAMP6XD2': [('B005FYNSPK', 4.072145887291493),\n",
              "              ('B004Q0PT3I', 4.007177571156756),\n",
              "              ('B003LPTAYI', 3.7887626534544316),\n",
              "              ('B005FVNGRI', 3.78719430610896)],\n",
              "             'A3N4VTNFPMTHEF': [('B0034CL2ZI', 4.553023367242529),\n",
              "              ('B001NTFAOS', 4.427995759786278),\n",
              "              ('B00077AA5Q', 4.288848849597908),\n",
              "              ('B004K1EZDS', 4.19037812914639),\n",
              "              ('B00064V6RG', 4.16390270999624)],\n",
              "             'A3NCIN6TNL0MGA': [('B000MUXJCO', 4.378163311930011),\n",
              "              ('B002FU5QLQ', 4.320219685054264)],\n",
              "             'A3NEAETOSXDBOM': [('B001CIREXA', 4.8089142505847535),\n",
              "              ('B001TH7GUK', 4.776466554394083),\n",
              "              ('B000RHZJN4', 4.713618485997732),\n",
              "              ('B001FWBUUG', 4.709212943330705),\n",
              "              ('B0054JJ0QW', 4.706755750110035)],\n",
              "             'A3NG7X4APIV649': [('B000N99BBC', 4.781441947942357),\n",
              "              ('B004CLYEDC', 4.636019878385961),\n",
              "              ('B0002VAQR4', 4.566134473416135),\n",
              "              ('B003BLQHN4', 4.524216401056482),\n",
              "              ('B00310PJM0', 4.3268042519701)],\n",
              "             'A3NHUQ33CFH3VM': [('B004ELA0SS', 4.65695136653685),\n",
              "              ('B0034CL2ZI', 4.596899818440724),\n",
              "              ('B000067RVL', 4.564039064879966),\n",
              "              ('B0057UUB1G', 4.508843374484387),\n",
              "              ('B003HFCDLY', 4.466898234124035)],\n",
              "             'A3NKRH3TJ4DPVI': [('B000F7QRTG', 4.87201639356188),\n",
              "              ('B0001Y7UAI', 4.663665201379458),\n",
              "              ('B001F7AJKI', 4.498219839610972),\n",
              "              ('B000TG4BA0', 4.436117799495319),\n",
              "              ('B000LRMS66', 4.388382408840131)],\n",
              "             'A3NOBH42C7UI5M': [('B0002MQGOK', 4.634513522022605),\n",
              "              ('B0039BPG1A', 4.430101602648876),\n",
              "              ('B00093IIRA', 4.28249957710368),\n",
              "              ('B000W6POQW', 3.642417861335972)],\n",
              "             'A3NYBI5VMVEEIK': [('B001XURP7W', 4.055994769390283),\n",
              "              ('B0043T7FXE', 4.001962975480413)],\n",
              "             'A3O1FVLUD9X1XC': [('B00461E7JE', 4.76025982337702)],\n",
              "             'A3OA4DV4L81N1D': [('B0000BZL1P', 5),\n",
              "              ('B002JQNXZC', 4.918352034710167),\n",
              "              ('B0002Y5WXE', 4.8966171821303135),\n",
              "              ('B000ENUCR4', 4.874593031599033),\n",
              "              ('B002WE4HE2', 4.8191226425127)],\n",
              "             'A3OXHLG6DIBRW8': [('B000F7QRTG', 4.871762616431994),\n",
              "              ('B0062EUE54', 4.820625181793479),\n",
              "              ('B002VPE1X4', 4.772590846713479),\n",
              "              ('B0002VAQR4', 4.753075341967724),\n",
              "              ('B005FDXZJU', 4.717311271751419)],\n",
              "             'A3OYO7B6SS7QLH': [('B003ES5ZUU', 4.7141555170059535),\n",
              "              ('B000BQ7GW8', 4.6546171417600055),\n",
              "              ('B0056TYRMW', 4.594640221855908),\n",
              "              ('B000CKVOOY', 4.594102887852362),\n",
              "              ('B002V88HFE', 4.58562404029185)],\n",
              "             'A3P1508PZ0UADD': [('B0013AV4M4', 4.1676040021152465)],\n",
              "             'A3PD8JD9L4WEII': [('B003CJTQJC', 4.829489075470831),\n",
              "              ('B004Q3R9AQ', 4.824662030620395),\n",
              "              ('B004CLYEDC', 4.747862106430108),\n",
              "              ('B000CKVOOY', 4.708818292749311),\n",
              "              ('B000HDJT4S', 4.687790816819347)],\n",
              "             'A3PDWA32BAMB2Y': [('B004RORMF6', 4.862139389026085),\n",
              "              ('B000Q8UAWY', 4.607140925092536)],\n",
              "             'A3PGVJF37JSHFO': [('B00029U1DK', 4.467858003071047),\n",
              "              ('B005LDLP8W', 4.374000062726168)],\n",
              "             'A3PU3EDJ2FG1AW': [('B0000BZL1P', 4.980658818661851),\n",
              "              ('B005DOUJL8', 4.7809075735468),\n",
              "              ('B003NR57BY', 4.765731783857984),\n",
              "              ('B0015EWMX8', 4.69834233414793),\n",
              "              ('B001NJ0WCS', 4.69525819585644)],\n",
              "             'A3Q4TYJVAM4IRM': [('B001TH7GSW', 4.417481268107828),\n",
              "              ('B0010Z28XG', 4.34127085617454),\n",
              "              ('B002BH3Z8E', 4.277712620854373),\n",
              "              ('B003UI62AG', 4.232747688069915),\n",
              "              ('B0012GK3MQ', 4.140979615868675)],\n",
              "             'A3Q6ZPW60CVF2L': [('B0062EUE54', 4.530575987852618),\n",
              "              ('B002RCNX8K', 4.37825854229971),\n",
              "              ('B004G8QO8E', 3.941664873178644)],\n",
              "             'A3QAO3QBCQF89T': [('B004RORMF6', 4.737611030718538),\n",
              "              ('B00006RVPW', 4.6744196620273),\n",
              "              ('B001QUA6R0', 4.476007885522943),\n",
              "              ('B003VANO7C', 4.392390421617564),\n",
              "              ('B005HMKKH4', 4.37028099233743)],\n",
              "             'A3QDY9I0CNMD2W': [('B003CJTQJC', 4.39672871100004),\n",
              "              ('B000QUUFRW', 4.341849799996642),\n",
              "              ('B0039BPG1A', 4.289318085514504),\n",
              "              ('B00092GM0Q', 4.258610334037171)],\n",
              "             'A3QJU4FEN8PQSZ': [('B003LSTD38', 4.167067147605362),\n",
              "              ('B001OI2YNS', 3.99159876769364),\n",
              "              ('B004N62I0C', 3.754607155065096),\n",
              "              ('B002VPE1XY', 3.7115409098329106),\n",
              "              ('B003FMVCRU', 3.4523030610306096)],\n",
              "             'A3QMJMTLJC34QC': [('B002TMRZOQ', 4.841973884530321),\n",
              "              ('B001F51G16', 4.718162749593545),\n",
              "              ('B0013FRNKG', 4.6463117395197955),\n",
              "              ('B000FBK3QK', 4.598257920157431),\n",
              "              ('B005CLPP8E', 4.578087763632947)],\n",
              "             'A3QNQQKJTL76H0': [('B000N99BBC', 4.827535591678841),\n",
              "              ('B001S0PWWC', 4.702955541138346),\n",
              "              ('B005IMFX2K', 4.675357761637273),\n",
              "              ('B000CS7U1C', 4.559248788777594),\n",
              "              ('B004NY9UV4', 4.528505707715379)],\n",
              "             'A3QNX5KWHDV0GD': [('B001F51G16', 3.8985137379330177)],\n",
              "             'A3QQGPI3CTV9SX': [('B000BY52NK', 4.891631602409873),\n",
              "              ('B000JE7GPY', 4.873609370747948),\n",
              "              ('B00007E7JU', 4.600267463111588),\n",
              "              ('B00004ZCJE', 4.2559802394033746)],\n",
              "             'A3QRR8PSCBI07C': [('B000067RT6', 4.714103075468235),\n",
              "              ('B001C271MA', 4.594642808091782),\n",
              "              ('B00009EHJV', 4.5584780110520535)],\n",
              "             'A3QU3O79AGNWCY': [('B000HDJT4S', 4.5088029033971635),\n",
              "              ('B000NP3DJW', 4.472634692304111),\n",
              "              ('B00007E7JU', 4.374671364518134),\n",
              "              ('B006WVR9GY', 4.369009945494646),\n",
              "              ('B006ZBWV0K', 4.172145271799387)],\n",
              "             'A3R19YKNL641X3': [('B0071BTJPI', 4.5447050923392185),\n",
              "              ('B006FLENJC', 4.534506770105562),\n",
              "              ('B006ZT4VA0', 4.465690697859013),\n",
              "              ('B000UY1MB2', 4.380293907794449),\n",
              "              ('B005KELR3A', 4.361426266299129)],\n",
              "             'A3R1WFO4KIUQXZ': [('B001MSU1FS', 4.8247164169452645),\n",
              "              ('B002V88HFE', 4.7112444555724),\n",
              "              ('B003N2POXK', 4.5749668142799305),\n",
              "              ('B004LNXO28', 4.5057089025342405),\n",
              "              ('B005DKZTMG', 4.4815030737261905)],\n",
              "             'A3R4794K2RVU1S': [('B002Y6CJJ8', 4.947594686668458),\n",
              "              ('B000S5Q9CA', 4.758705749806897),\n",
              "              ('B0044WWLW0', 4.709757728551673),\n",
              "              ('B005HMKKH4', 4.667260820540444),\n",
              "              ('B004K1EZDS', 4.545121934148442)],\n",
              "             'A3REK3OFONWB1Q': [('B00017LSPI', 4.861874567126918),\n",
              "              ('B000N99BBC', 4.810976198521623),\n",
              "              ('B001FWBUUG', 4.710190323550746),\n",
              "              ('B005IMFX2K', 4.674140465081496),\n",
              "              ('B002W3IXZW', 4.544965540622262)],\n",
              "             'A3RGJ1FXOB1ZLL': [('B004Q0PT3I', 4.61847502752009),\n",
              "              ('B0041OSQB6', 4.46867722618828)],\n",
              "             'A3S0EHEIR52HP1': [('B0012Y2LLE', 4.866372296135329),\n",
              "              ('B002WE6D44', 4.695465368046917),\n",
              "              ('B000233WJ6', 4.446942902884361),\n",
              "              ('B003VAGXZC', 4.42086684948961),\n",
              "              ('B001OORMVQ', 4.038272389916273)],\n",
              "             'A3S3R88HA0HZG3': [('B00316263Y', 5),\n",
              "              ('B000BQ7GW8', 5),\n",
              "              ('B001NTFAOS', 4.974978056380023),\n",
              "              ('B0062EUE54', 4.969369787124663),\n",
              "              ('B003M0NURK', 4.846620205744497)],\n",
              "             'A3S3VSXEFXBMRC': [('B001TH7GUU', 4.7144583125103345),\n",
              "              ('B003ES5ZR8', 4.664341715038667),\n",
              "              ('B001V9KG0I', 4.6372997536439335),\n",
              "              ('B0074FGLUM', 4.591312539460447),\n",
              "              ('B004R7P28W', 4.474033615639327)],\n",
              "             'A3S5EXYZDEBF3K': [('B004ELA0SS', 4.471330158721487),\n",
              "              ('B002HWRZ2K', 4.010130254080063),\n",
              "              ('B002OEBIM4', 3.947510713636771),\n",
              "              ('B002VPDM2K', 3.7873153304386737)],\n",
              "             'A3SMD3T0QTN109': [('B0002MQGOK', 4.746275907138171),\n",
              "              ('B0012Y2LLE', 4.711742231943813),\n",
              "              ('B006W8U2MU', 4.709141526310274),\n",
              "              ('B0043M668G', 4.690925652016977),\n",
              "              ('B006EKIQYM', 4.636631644084287)],\n",
              "             'A3SOJO7Z7R9WIA': [('B00017LSPI', 4.651866928450651),\n",
              "              ('B00104XCVO', 4.630295577258112),\n",
              "              ('B0046TJG1U', 4.531428867909782),\n",
              "              ('B00007E7JU', 4.2563722846162655),\n",
              "              ('B006TT91TW', 4.200276497092751)],\n",
              "             'A3SVYWA9O1KUQV': [('B0009GZSSO', 4.768307982704205),\n",
              "              ('B0049U3TVE', 4.021483946591935)],\n",
              "             'A3T4OHEAHOJ700': [('B001TOD7ME', 4.783902806984013),\n",
              "              ('B003YH9EZ8', 4.480308138430807),\n",
              "              ('B004N625C8', 4.46000220683927),\n",
              "              ('B001FWYXD2', 4.43129109010421),\n",
              "              ('B005KFONIU', 4.409423324112691)],\n",
              "             'A3T7V207KRDE2O': [('B004CLYEFK', 4.424739850499035),\n",
              "              ('B005FYNSPK', 4.2666934860322305),\n",
              "              ('B003I4FHNA', 4.14748052731327),\n",
              "              ('B001TK3ACA', 4.04655964318727),\n",
              "              ('B00004T8R2', 3.9755154829814283)],\n",
              "             'A3TA1UJWRJF9NC': [('B000BTL0OA', 4.605948513644393),\n",
              "              ('B0009ZBRS0', 4.048145703315474),\n",
              "              ('B0011FCV8W', 3.8856635542140974)],\n",
              "             'A3TAS1AG6FMBQW': [('B002WE6D44', 4.950993601282669),\n",
              "              ('B004CLYEFK', 4.948674851058555),\n",
              "              ('B001TH7GSW', 4.85633157338983),\n",
              "              ('B0011NVMO8', 4.7939745007827685),\n",
              "              ('B000S5Q9CA', 4.76048474963476)],\n",
              "             'A3TBMAWIIHKHFN': [('B002WE6D44', 4.067944440460186),\n",
              "              ('B000CRFOMK', 3.802883849160106),\n",
              "              ('B0007MXZB2', 3.747834057922189),\n",
              "              ('B000V1MLBE', 3.1829268256673844)],\n",
              "             'A3TCMJ6GKZJFBQ': [('B000H4CLXS', 4.473067996736419),\n",
              "              ('B0034CL2ZI', 4.459622497405056),\n",
              "              ('B001BM5XB2', 4.343346556781926),\n",
              "              ('B0007QKMQY', 4.280740079137839),\n",
              "              ('B003YKG2W8', 3.969227946355837)],\n",
              "             'A3TRY87JJCA5Y8': [('B000FQ2JLW', 4.739957326677857),\n",
              "              ('B005MTME3U', 4.501047511920626),\n",
              "              ('B003LPTAYI', 4.180460768763618)],\n",
              "             'A3U41ZL33SS92P': [('B000S5Q9CA', 4.169289496620853),\n",
              "              ('B0013DXVYK', 4.119042771626267),\n",
              "              ('B00426C56U', 4.019755851304033),\n",
              "              ('B002IC0YL8', 3.9674443333251457),\n",
              "              ('B003VANO7C', 3.9542507374884486)],\n",
              "             'A3UR2N0ATGBCU8': [('B0035ERKYW', 4.674406179201967)],\n",
              "             'A3V0YR50F1XSKP': [('B0002VAQR4', 4.787900853277112),\n",
              "              ('B000EY5F5C', 4.022324266977891)],\n",
              "             'A3V2EZ6MA32FF6': [('B003ES5ZUU', 4.989903943431365),\n",
              "              ('B002TLTE6O', 4.837223739796625),\n",
              "              ('B00267S7XW', 4.708079811193194),\n",
              "              ('B0039NLS3I', 4.623554585934763),\n",
              "              ('B002R5AM7C', 4.49070212228289)],\n",
              "             'A3V6Z4RCDGRC44': [('B001FA1NZK', 4.719755491506476),\n",
              "              ('B004HIN7SI', 4.659728288870117),\n",
              "              ('B000V5P90K', 4.603381314273588),\n",
              "              ('B005MTME3U', 4.452241438018905)],\n",
              "             'A3V7D0LH8L7BG0': [('B005DM9BGE', 4.315876545480394),\n",
              "              ('B002TLTGM6', 4.268848697518551),\n",
              "              ('B002LITT42', 4.244297636185571),\n",
              "              ('B003EO1H7E', 4.071640508532132),\n",
              "              ('B003Y74AXO', 4.055504972302158)],\n",
              "             'A3V8P0O224OBDB': [('B001OC6DCW', 4.503672997196336),\n",
              "              ('B0002L5R78', 4.457822551139354),\n",
              "              ('B0000BVYTV', 4.31820292183706),\n",
              "              ('B006I5MKZY', 3.561287733991808)],\n",
              "             'A3W4D8XOGLWUN5': [('B001F7AHOG', 4.2125898042405705),\n",
              "              ('B000Q8UAWY', 4.136221291260215),\n",
              "              ('B003M0NURK', 4.135617372127896)],\n",
              "             'A4D5B7Q8A7PA6': [('B001TANZ0W', 4.526772306385584),\n",
              "              ('B0025ZH43O', 4.470555717244673),\n",
              "              ('B003CJTQJC', 4.462957794592515),\n",
              "              ('B0041Q38NU', 4.431537202884683),\n",
              "              ('B002QEBMAK', 4.333733868876006)],\n",
              "             'A4GHPW9AAH1NY': [('B004FA8NOQ', 4.481411985643107),\n",
              "              ('B006GWO5WK', 4.284940506384925)],\n",
              "             'A4IEUHNRFZO0': [('B0000BZL1P', 4.837122598048671),\n",
              "              ('B000F9YN22', 4.68457849743072),\n",
              "              ('B000SMVQK8', 4.253486480564563)],\n",
              "             'A4IL0CLL27Q33': [('B001TOD7ME', 4.756380227255376),\n",
              "              ('B000N99BBC', 4.751504095002141),\n",
              "              ('B003HFCDLY', 4.491320283053718),\n",
              "              ('B002LAS1DU', 4.1936078534209535),\n",
              "              ('B004N6259G', 4.106304999853701)],\n",
              "             'A4UGMKUSX9XHI': [('B001CCAISE', 4.750946489789516),\n",
              "              ('B004CLYEDC', 4.698991106610527),\n",
              "              ('B0035FZJHQ', 4.69307161769889),\n",
              "              ('B002WE6D44', 4.684834477672265),\n",
              "              ('B00006I53X', 4.499100672813046)],\n",
              "             'A4WEZJOIZIV4U': [('B001TH7GUU', 5),\n",
              "              ('B006W8U2MU', 5),\n",
              "              ('B003ES5ZUU', 4.971871109932433),\n",
              "              ('B004CLYEDC', 4.958914037856276),\n",
              "              ('B002V88HFE', 4.884704305636715)],\n",
              "             'A506HOOCVL8GW': [('B001V9KG0I', 5),\n",
              "              ('B003ES5ZUU', 5),\n",
              "              ('B002WE6D44', 4.911441293708526),\n",
              "              ('B00483WRZ6', 4.859312661205724),\n",
              "              ('B00104XCVO', 4.793256716006847)],\n",
              "             'A54S9CIUV5VNB': [('B003ES5ZUU', 4.830443062889433),\n",
              "              ('B004GF8TIK', 4.752083588665951),\n",
              "              ('B002V88HFE', 4.726902833099639),\n",
              "              ('B000RZQZM0', 4.647787470063335),\n",
              "              ('B003VAK16O', 4.605087197637422)],\n",
              "             'A54SG05AV6S4H': [('B001F7AJKI', 4.508853644670911)],\n",
              "             'A5A4374R8I7NB': [('B001E1Y5O6', 4.643229907294854)],\n",
              "             'A5JLAU2ARJ0BO': [('B001P05NBA', 4.290763093781213),\n",
              "              ('B00006JN3G', 4.095878899807902),\n",
              "              ('B000BQ57BU', 4.020761149674821),\n",
              "              ('B00004SB92', 3.9089155666953075),\n",
              "              ('B002VPE1XY', 3.898647664539981)],\n",
              "             'A5KMMY627T3W': [('B0007QKMQY', 4.6043537216391535),\n",
              "              ('B000NP3DJW', 4.50616835289347),\n",
              "              ('B0009GZSSO', 4.456981029413913),\n",
              "              ('B000BY52NK', 4.446347552238927),\n",
              "              ('B0011U65F2', 4.40939745168384)],\n",
              "             'A5MCDQ60DWUEV': [('B005UA3I72', 5),\n",
              "              ('B005EOWBKE', 4.870957369870503),\n",
              "              ('B000VZS2EU', 4.787921705854348),\n",
              "              ('B0000A1G05', 4.686321874734965),\n",
              "              ('B0026ZPFCK', 4.407408939865149)],\n",
              "             'A5Q1FK0FWU7DH': [('B001TOD7ME', 4.350326908701784),\n",
              "              ('B000JE7GPY', 4.344258332476847),\n",
              "              ('B0028Y4H1O', 4.044004504479131),\n",
              "              ('B005IA844Q', 3.5822475897822925)],\n",
              "             'A680RUE1FDO8B': [('B002JQNXZC', 4.860024402168964),\n",
              "              ('B001TOD7ME', 4.859993669562626),\n",
              "              ('B002YU83YO', 4.8046631789652965),\n",
              "              ('B001EYV9TM', 4.682485853584629),\n",
              "              ('B002QEBMAK', 4.67363874359324)],\n",
              "             'A6FIAB28IS79': [('B001FA1NZK', 4.822429286810438),\n",
              "              ('B003ZSHNGS', 4.718780450751422),\n",
              "              ('B000089GN3', 4.636967812250488),\n",
              "              ('B000NK8EWI', 4.631757657866897),\n",
              "              ('B004J3ZV62', 4.604642099056172)],\n",
              "             'A6VPK7X53QNAQ': [('B000RZQZM0', 4.436118141187014),\n",
              "              ('B0009GZSSO', 4.387616453151147),\n",
              "              ('B001FA1O0O', 4.321193871691953),\n",
              "              ('B002QQ7TLY', 4.263848578842095),\n",
              "              ('B0011ZK6PC', 4.254517614828022)],\n",
              "             'A6VXZ1EEPRTLV': [('B000HPV3RW', 4.646735014867333),\n",
              "              ('B004Q3R9AQ', 4.4809176119892955),\n",
              "              ('B005IMFX2K', 4.459310998878067),\n",
              "              ('B006FLENJC', 4.452966029097665),\n",
              "              ('B001EYV9TM', 4.43378953239717)],\n",
              "             'A6XDZ1MJ0B1A2': [('B004XC6GJ0', 4.221084019640704),\n",
              "              ('B004R7P28W', 3.955741899160684)],\n",
              "             'A6XLG77BC9R8R': [('B0049P6OTI', 4.2774030632073305)],\n",
              "             'A7EJERNB7IK3Z': [('B000RHZJN4', 4.12660200106759),\n",
              "              ('B0007MXZB2', 4.105612228182154),\n",
              "              ('B0001FTVE0', 3.8662026359091364)],\n",
              "             'A7QMQBGJ2TCQG': [('B000BYCKU8', 4.352027442268219)],\n",
              "             'A7UPJYPAH73NC': [('B0025VKUPW', 4.709214785275283),\n",
              "              ('B004VM0SE6', 4.572020301558093),\n",
              "              ('B0016BVKAQ', 4.4762678882414155),\n",
              "              ('B005HY4UJ6', 4.432989256569999),\n",
              "              ('B000YQ6DIS', 4.385529790751708)],\n",
              "             'A7Y6AVS576M03': [('B000HZDF8W', 3.7536123070079923)],\n",
              "             'A84FLVDK2R5JF': [('B004CLYEDC', 4.61731458577744),\n",
              "              ('B004DMNT2W', 4.613012820083339),\n",
              "              ('B006DEBYWU', 4.4693801397565895),\n",
              "              ('B004YI9NTS', 4.405020978900478),\n",
              "              ('B005KFONIU', 4.256885852125005)],\n",
              "             'A87N6UTYA6NOB': [('B0052SCU8U', 4.826145852717839),\n",
              "              ('B002NEGTTW', 4.796089326781562),\n",
              "              ('B00267S7XW', 4.531797188736055),\n",
              "              ('B0013AV4M4', 4.45147049537245),\n",
              "              ('B002HWRJBM', 4.324712569163834)],\n",
              "             'A8CKH8XB33XGN': [('B001TH7GUU', 4.365598209190736),\n",
              "              ('B001QUA6RA', 4.203049842450583),\n",
              "              ('B000CRFOMK', 4.104163498216777),\n",
              "              ('B000FBK3QK', 3.8605425771444604)],\n",
              "             'A8FKL1DHTHC12': [('B000QUUFRW', 4.789267487989465),\n",
              "              ('B005IMFX2K', 4.692465363024329),\n",
              "              ('B003XIJ3MW', 4.646101520823186),\n",
              "              ('B005HMKKH4', 4.528066858259067),\n",
              "              ('B000V5P90K', 4.514800020683599)],\n",
              "             'A8WEXFRWX1ZHH': [('B002SZEOLG', 3.5485053460310096),\n",
              "              ('B002KKFP9Y', 2.9172453750594056)],\n",
              "             'A8X8D4BUY5DFU': [('B003FVVMS0', 4.573361897899145),\n",
              "              ('B0041Q38NU', 4.494104484383423),\n",
              "              ('B000RQSGYO', 4.268451153599668),\n",
              "              ('B0049P6OTI', 4.165524226683631)],\n",
              "             'A9ELHLPXF7JKD': [('B000WOIFO2', 4.7165252618841045),\n",
              "              ('B001TZWNF0', 4.544680932551976),\n",
              "              ('B002HWRJBC', 4.514838416886452),\n",
              "              ('B005EOWBHC', 4.269217640664988),\n",
              "              ('B004GUT1QO', 4.251431617696799)],\n",
              "             'A9LNWA25IM2DX': [('B000M17AVO', 4.543969040382915),\n",
              "              ('B00168BSEW', 4.4708284276418535),\n",
              "              ('B001BM5XB2', 4.431619141558162),\n",
              "              ('B00192KCAG', 4.4106529831379735),\n",
              "              ('B003MAJMXQ', 4.389626252420083)],\n",
              "             'A9Y5O2R4D6EH5': [('B000WYVBR0', 4.427246590874447),\n",
              "              ('B0039BPG1A', 4.290641237376255),\n",
              "              ('B0046RE60I', 4.287373084050234),\n",
              "              ('B004CLYE8C', 4.285280602200008),\n",
              "              ('B004I5BUSO', 4.2110972821064445)],\n",
              "             'AAQ9NJ480N9W5': [('B002V88HFE', 4.751169754236806),\n",
              "              ('B000NP3DJW', 4.7332119550923775),\n",
              "              ('B00009XVCZ', 4.720198308671192),\n",
              "              ('B002ZCXJZE', 4.57596004016234),\n",
              "              ('B00004XOM3', 4.5503001431084495)],\n",
              "             'AAR7CEPXYJA0T': [('B001FWBUUG', 3.8780158982925896),\n",
              "              ('B003XIJ566', 3.8373169895546893),\n",
              "              ('B002QEBMAK', 3.698837331548652),\n",
              "              ('B001F42MKG', 3.4509991160827274),\n",
              "              ('B002BH3I9U', 3.3940151842682216)],\n",
              "             'AAXAKFQEAQPWC': [('B004SBBD8U', 4.594345747628973),\n",
              "              ('B001TH7GVE', 4.568790942547227),\n",
              "              ('B001XURP7W', 4.389684206453298)],\n",
              "             'AB094YABX21WQ': [('B0009Y7APU', 4.8592237748200215),\n",
              "              ('B002Y6CJJ8', 4.7929466514736605),\n",
              "              ('B000KO0GY6', 4.771508947843565),\n",
              "              ('B000S5Q9CA', 4.730016091735432),\n",
              "              ('B0002Y5WZM', 4.677503154448292)],\n",
              "             'ABDR6IJ93HFIO': [('B000BQ7GW8', 5),\n",
              "              ('B003WUBIZQ', 4.947899187919932),\n",
              "              ('B001XURP7W', 4.678201065436585)],\n",
              "             'ABIVKBMSIPEDY': [('B002TLTE6Y', 4.214577551337671),\n",
              "              ('B003VAK16O', 4.010224335309969),\n",
              "              ('B000BQ57BU', 3.989170548797747),\n",
              "              ('B001OQC0H0', 3.849141290060603)],\n",
              "             'ABMF4UC4Z00NT': [('B000BTL0OA', 4.796137230056114),\n",
              "              ('B000VE2RP6', 4.717414093646584),\n",
              "              ('B000062VUO', 4.475456296654495),\n",
              "              ('B0017JY5FE', 4.466346719829438)],\n",
              "             'ABQWMANK4AR63': [('B002WE6D44', 4.4999429672184075),\n",
              "              ('B00119T6NQ', 4.461813344645944),\n",
              "              ('B000652M6Y', 4.414692726427817),\n",
              "              ('B003UE52ME', 4.391523045253579),\n",
              "              ('B006EKIQYM', 4.351893985030708)],\n",
              "             'ABVYGB2TKBO8F': [('B001NJ0D0Y', 4.524152759467511),\n",
              "              ('B003WUBIZQ', 4.472599230713553),\n",
              "              ('B003Z4G3I6', 4.441601992226081),\n",
              "              ('B000L47AHG', 4.349304606508857),\n",
              "              ('B00092GM0Q', 4.330981309845956)],\n",
              "             'ABXANRX4GPYRZ': [('B000TXZIDM', 4.727278997244628),\n",
              "              ('B004E10KFG', 4.560628359763253),\n",
              "              ('B006GWO5WK', 4.244180554929217)],\n",
              "             'AC6Z7DP1Z5GHD': [('B00005LEN4', 4.966586336311035),\n",
              "              ('B0011U65F2', 4.766397168460449),\n",
              "              ('B000VZS2EU', 4.578257704219454),\n",
              "              ('B001UFYFYG', 4.405313936162082),\n",
              "              ('B00066IJPQ', 4.344726480829212)],\n",
              "             'ACHTDPEQYSEQL': [('B004CLYEFK', 4.526029102267343),\n",
              "              ('B004CLYEDC', 4.502361830188904),\n",
              "              ('B004XNLR16', 4.229458986904172)],\n",
              "             'ACY9QYNDFLVBI': [('B002G1YPH0', 4.814495403055684),\n",
              "              ('B002IO2UM2', 4.683596153537105),\n",
              "              ('B0041OSQB6', 4.41585762362189)],\n",
              "             'ACYZXQ2JKPZKT': [('B0000BZL1P', 4.394788841156095),\n",
              "              ('B00017LSPI', 4.378873745781114),\n",
              "              ('B0025EWXEU', 4.040032647118972),\n",
              "              ('B000FBK3QK', 3.8161449144574866)],\n",
              "             'AD0J5KK4WQXNS': [('B0009GZSSO', 4.548845495532718),\n",
              "              ('B00007KDVI', 3.9050186156827897)],\n",
              "             'AD8DLOGHAXL': [('B000051299', 4.6438787095979865),\n",
              "              ('B000VX6XL6', 4.4379431290533855)],\n",
              "             'AD9ZL63H0VKCZ': [('B0074BW614', 4.248308687863107),\n",
              "              ('B00004ZCJE', 3.779879487129243)],\n",
              "             'ADKZOXAOV8EXD': [('B002RCNX8K', 4.435725712544472),\n",
              "              ('B000ZMCILW', 4.43270445140366),\n",
              "              ('B000089GN3', 4.213946780946004),\n",
              "              ('B000L47AHG', 4.181831397504285),\n",
              "              ('B005IHAIJ8', 4.123595341737115)],\n",
              "             'ADLVFFE4VBT8': [('B001TH7GUU', 4.806685924893116),\n",
              "              ('B003ES5ZUU', 4.692103170335085),\n",
              "              ('B0055QYJIS', 4.658348735166155),\n",
              "              ('B004Q3R9AQ', 4.602468167658592),\n",
              "              ('B0043WJRRS', 4.5964795014112525)],\n",
              "             'ADOR3TR7GDF68': [('B001TH7GUU', 4.752208364882548),\n",
              "              ('B00029U1DK', 4.680508723515722),\n",
              "              ('B001TOD7ME', 4.65439965583862),\n",
              "              ('B0009Y7APU', 4.527763614784784),\n",
              "              ('B00005T3G0', 4.475676605192668)],\n",
              "             'ADZF3QDGSZE7K': [('B002NO7PWC', 4.666623743570693),\n",
              "              ('B0033PRWSW', 4.606609484711642),\n",
              "              ('B000NP3DJW', 4.542622111399031),\n",
              "              ('B0011NVMO8', 4.4377535017818515)],\n",
              "             'AEAFHD09X8044': [('B001L1H0SC', 4.37507338859047),\n",
              "              ('B004VM1T5S', 4.327911876188578),\n",
              "              ('B004G6002M', 4.1743097508506155),\n",
              "              ('B001TODUXA', 4.104368088490528)],\n",
              "             'AEJAGHLC675A7': [('B002Y6CJJ8', 4.896804168909904),\n",
              "              ('B003Z4G3I6', 4.88888122520025),\n",
              "              ('B000051299', 4.762773535619751),\n",
              "              ('B000BN94F8', 4.755992471055023),\n",
              "              ('B00077AA5Q', 4.712391455530349)],\n",
              "             'AEL6CQNQXONBX': [('B004CLYEE6', 4.471671393077379),\n",
              "              ('B004IZN3WU', 4.259209240222907),\n",
              "              ('B005QUQP6W', 3.8367326214091624)],\n",
              "             'AEN44U6T9R93': [('B000OGX5AM', 4.439730342710058),\n",
              "              ('B002WE6D44', 4.275282248986555),\n",
              "              ('B002KETE24', 4.161155311171114)],\n",
              "             'AENULRBQ2IE5I': [('B004XC6GJ0', 4.879403702633434),\n",
              "              ('B0018O9JIG', 4.561305579245152)],\n",
              "             'AEWYUPCNDV7HY': [('B001DJ64D4', 4.783836874309696),\n",
              "              ('B004CLYEDC', 4.737775403969083),\n",
              "              ('B000VX6XL6', 4.597071338368101),\n",
              "              ('B004HKJTT2', 4.562235728951229),\n",
              "              ('B001OQC0IO', 4.473918940090824)],\n",
              "             'AEZJTA4KDIWY8': [('B003LR7ME6', 4.478760781799771),\n",
              "              ('B002SIMPXM', 4.425760311811083),\n",
              "              ('B000JMJWV2', 4.367505203027376),\n",
              "              ('B000O8I474', 4.3481140174019695),\n",
              "              ('B000X24ISU', 4.106982456774437)],\n",
              "             'AFH97KY1SBP2C': [('B000IF4788', 4.084501394562249)],\n",
              "             'AFNG8O2DXRCUV': [('B001TH7GUU', 4.933387078343911),\n",
              "              ('B000JMJWV2', 4.658920412473293),\n",
              "              ('B000Q8UAWY', 4.517172253710522),\n",
              "              ('B003VAGXWK', 4.39935574011499),\n",
              "              ('B000ZH98LU', 4.395006556933331)],\n",
              "             'AFR9GYKAHM37U': [('B001TH7T2U', 4.942887133509414),\n",
              "              ('B000KO0GY6', 4.917124410164783),\n",
              "              ('B005KP473Q', 4.840771732089871),\n",
              "              ('B001SJVU24', 4.725625203606657),\n",
              "              ('B000VX6XL6', 4.719202717012562)],\n",
              "             'AFXTKAO0CB354': [('B0036Q7MV0', 4.693097423427931),\n",
              "              ('B001TH7GVE', 4.475033104012891)],\n",
              "             'AG35JCCQWDRCS': [('B000F9YN22', 4.938566725163948),\n",
              "              ('B0056TYRMW', 4.821668106563444),\n",
              "              ('B004SBBD8U', 4.707828917275815)],\n",
              "             'AG6TX1ZJHLMO7': [('B000A6PPOK', 4.336110833209144),\n",
              "              ('B001F7AJKI', 4.294192680789853),\n",
              "              ('B0039NLS3I', 4.264061006501747)],\n",
              "             'AG7EF0SVBQOUX': [('B0040JHVC2', 4.633135512247863),\n",
              "              ('B0002VAQR4', 4.545005797053112),\n",
              "              ('B000652M6Y', 4.485321102764442),\n",
              "              ('B000V5K3FG', 4.442223810059501)],\n",
              "             'AGATRDOFW48DK': [('B000F7JCRA', 4.150131090814403)],\n",
              "             'AGGAQLXPVGM5D': [('B002VPE21A', 4.56406684050437),\n",
              "              ('B005DOUJL8', 4.537596121469584),\n",
              "              ('B0011Z44UA', 4.318484895307365),\n",
              "              ('B005GOINEK', 4.265347742151411)],\n",
              "             'AGHZXQL9F94T9': [('B0007QKMQY', 4.478263633598705)],\n",
              "             'AGOH8N902URMW': [('B006W8U2MU', 4.977642319668187),\n",
              "              ('B006LW0W5Y', 4.968631235337918),\n",
              "              ('B001DJ64C0', 4.56068708199623),\n",
              "              ('B002HWRJBM', 4.429583391249299),\n",
              "              ('B001EZRJZE', 4.344945097368983)],\n",
              "             'AGVWTYW0ULXHT': [('B0010Z28XG', 4.506071410646402),\n",
              "              ('B006FLENJC', 4.37698877524835),\n",
              "              ('B005FDXZJU', 4.314754359462875),\n",
              "              ('B000EVSLRO', 4.305685679032104),\n",
              "              ('B001OI2YNS', 4.196135559372483)],\n",
              "             'AGX2K0FMS0IVL': [('B002WE6D44', 4.347696317091391),\n",
              "              ('B002YU83YO', 4.314623128139475)],\n",
              "             'AGXMC3ITWZASE': [('B002R5AM7C', 3.908435469929672),\n",
              "              ('B00007EDZG', 3.859088410444196),\n",
              "              ('B0023B14TK', 3.7578856224290846),\n",
              "              ('B002LLJJAS', 3.7507674734795726),\n",
              "              ('B004CZ9U96', 3.698739387593543)],\n",
              "             'AGXV8E7XK9J6H': [('B0007QKMQY', 4.553005305884026),\n",
              "              ('B000EXRSVM', 4.252520423727635),\n",
              "              ('B00006I53S', 4.208466931464188),\n",
              "              ('B00092GM0Q', 4.2044707222093445)],\n",
              "             'AGYH5U11ZKPFB': [('B004LSNF04', 4.78150835428326),\n",
              "              ('B002YU83YO', 4.739640002150312),\n",
              "              ('B003X7TRWE', 4.4508804401715345),\n",
              "              ('B003VAGXWK', 4.286227896214288),\n",
              "              ('B0012MMW7E', 4.118566252139425)],\n",
              "             'AHD3NZHDUZ5I6': [('B002WE6D44', 4.631375885109758),\n",
              "              ('B001D7REIK', 4.4949017420397945)],\n",
              "             'AHF4I1FSIHABC': [('B00109Y2DQ', 4.4726982429288995),\n",
              "              ('B002NEGTTW', 4.341166600706518),\n",
              "              ('B0026ZPFCK', 4.1930088813866),\n",
              "              ('B003ES61EE', 4.124387813565632)],\n",
              "             'AHIK7BUXFRMT8': [('B000N99BBC', 4.9547394364708355),\n",
              "              ('B001TOD7ME', 4.765313924039822),\n",
              "              ('B000VX6XL6', 4.642921372858028),\n",
              "              ('B006TT91TW', 4.50979486424048),\n",
              "              ('B004CLYEE6', 4.431120339022239)],\n",
              "             'AHQRU3MRORIWQ': [('B001F7HLRC', 4.313003457463906),\n",
              "              ('B001DULYZG', 4.074654261881239),\n",
              "              ('B00007KDVI', 3.819925912921374)],\n",
              "             'AHR86ZEYETLJI': [('B000QUUFRW', 4.809527636083537),\n",
              "              ('B00461E7JE', 4.775734615098026),\n",
              "              ('B005HMKKH4', 4.687697980461847),\n",
              "              ('B0015DYMVO', 4.417150388904302)],\n",
              "             'AHROSV6WJOEGY': [('B002V8C3W2', 4.270494391305447),\n",
              "              ('B00007E7JU', 3.9263085933965787),\n",
              "              ('B003LPTAYI', 3.7836836718439364)],\n",
              "             'AHS6PX6H22WW1': [('B0052SCU8U', 4.579474653231056),\n",
              "              ('B002TLTE7I', 4.470222697230777),\n",
              "              ('B0046HAO40', 4.333858039752261),\n",
              "              ('B002BA596W', 4.3308053710640095),\n",
              "              ('B000BQ57BU', 4.250028364068721)],\n",
              "             'AI0BCEWRE04G0': [('B0015DYMVO', 4.119792176218783),\n",
              "              ('B0012MMW7E', 4.018321489154328)],\n",
              "             'AI8EMB0HUC6Z5': [('B001TH7GUU', 4.869811506157668),\n",
              "              ('B000N99BBC', 4.838339075544701),\n",
              "              ('B000ENUCR4', 4.680524869682254),\n",
              "              ('B000089GN3', 4.622538512013047),\n",
              "              ('B000VX6XL6', 4.541535267705915)],\n",
              "             'AIBRTGBN07D6A': [('B001C271MA', 4.541651502426306),\n",
              "              ('B0002L5R78', 4.534126665895508),\n",
              "              ('B003YH9EZ8', 4.329862643612592),\n",
              "              ('B001F51G0W', 4.033706072587465),\n",
              "              ('B000E0I9K4', 3.911306484222366)],\n",
              "             'AIJQU979J6UFY': [('B000HPV3RW', 4.733603401152955),\n",
              "              ('B00007GQLS', 4.631306677583818),\n",
              "              ('B001T9NUJE', 4.572210633484295),\n",
              "              ('B000F7QRTG', 4.555850883139948),\n",
              "              ('B0013DXVYK', 4.512794358657586)],\n",
              "             'AK3GKIV8DEY8B': [('B00092GM0Q', 4.636966556229061),\n",
              "              ('B001L6LG5K', 4.256479671126524)],\n",
              "             'AK9BXHEXOOM6Z': [('B003M0NURK', 4.541170507677368),\n",
              "              ('B003VAM32E', 4.4929309137205555),\n",
              "              ('B000IF51UQ', 4.262141732567073)],\n",
              "             'AKSFZ4G1AXYFC': [('B001NJ0D0Y', 4.4121763209750124),\n",
              "              ('B002SZEOLG', 4.172559259991375)],\n",
              "             'AKSQNMIKOU01H': [('B0036AWR8E', 4.839133156919079)],\n",
              "             'AKT8TGIT6VVZ5': [('B004CLYEFK', 4.879381149569893),\n",
              "              ('B00009R6WO', 4.8009772492695815),\n",
              "              ('B0007Y794O', 4.620808767069704),\n",
              "              ('B002SZEOLG', 4.587071262324825)],\n",
              "             'AKX9EQ37PAYMY': [('B002V8C3W2', 5),\n",
              "              ('B003ES5ZUU', 4.992045081938036),\n",
              "              ('B002WE6D44', 4.908170985915229),\n",
              "              ('B0012GK3MQ', 4.808447950486063)],\n",
              "             'AL1XV4L25FZ2S': [('B004YHXXKO', 4.119716821560844)],\n",
              "             'ALDAF4VVLFRHP': [('B0035FZJHQ', 4.782287292969047),\n",
              "              ('B0013FRNKG', 4.6016716908991055),\n",
              "              ('B0011NVMO8', 4.587550956643732),\n",
              "              ('B004CLYEH8', 4.5483725350696345),\n",
              "              ('B002VPE1WK', 4.546259549228113)],\n",
              "             'ALRCAGJOJ9583': [('B0036Q7MV0', 4.621997179036896),\n",
              "              ('B000089GN3', 4.5249096230778445),\n",
              "              ('B004ZMV2GA', 4.209608320608448)],\n",
              "             'AMKNPIDFLRFMP': [('B000N99BBC', 4.223553193373194),\n",
              "              ('B00006B7DA', 4.064479969211183),\n",
              "              ('B000JMJWV2', 3.853433279802335),\n",
              "              ('B001NJ0WCS', 3.8082265170429332),\n",
              "              ('B005C31HC0', 3.7207763378251486)],\n",
              "             'AMS2CPERWN7JV': [('B005EOWBKE', 4.539108265600559),\n",
              "              ('B002MCZJ78', 4.433654553574382),\n",
              "              ('B003M0NURK', 4.348877741027993),\n",
              "              ('B00127VF68', 4.245344344103036),\n",
              "              ('B002LARRDK', 4.1939418750965825)],\n",
              "             'AMUP8DYE7EAN2': [('B0034CL2ZI', 4.585170297552766),\n",
              "              ('B000N99BBC', 4.52858769833963),\n",
              "              ('B002V88HFE', 4.4203982413178675),\n",
              "              ('B006DEBYWU', 4.373936979471364),\n",
              "              ('B0039BPG1A', 4.218714656767002)],\n",
              "             'AMVXR3NPL0GWX': [('B002WE0QN8', 4.791652531115933),\n",
              "              ('B000AZ57M6', 4.75241234507253),\n",
              "              ('B000I1X3W8', 4.702770097431551),\n",
              "              ('B001E1Y5O6', 4.6435680486153785),\n",
              "              ('B001CCAISE', 4.617358976778442)],\n",
              "             'AN0JK8OQLUC55': [('B000VX6XL6', 3.732615985999478),\n",
              "              ('B002BH3I9U', 3.0720415674353103)],\n",
              "             'AN81JUYW2SL24': [('B000N99BBC', 4.545252228012762),\n",
              "              ('B003FVJYF8', 4.516350547539045),\n",
              "              ('B004CLYEDC', 4.44659044172156),\n",
              "              ('B000EVSLRO', 4.364433489326938),\n",
              "              ('B0074BW614', 4.336076465552453)],\n",
              "             'AN9CP6J4JF91X': [('B000QUUFRW', 4.727445126523693),\n",
              "              ('B000HJPK2C', 4.657589903927741),\n",
              "              ('B001XURP7W', 4.513152776960066),\n",
              "              ('B002BH3I9U', 4.207154124287624)],\n",
              "             'ANRS196NKFVUU': [('B000BQ7GW8', 5),\n",
              "              ('B0002D6QJO', 4.90692877125599),\n",
              "              ('B000O8I474', 4.800413682347741)],\n",
              "             'ANW6EGY12V5XS': [('B001TH7GUU', 4.7372436901813675),\n",
              "              ('B000OGX5AM', 4.723375473399703),\n",
              "              ('B000FBK3QK', 4.448812443339432),\n",
              "              ('B0015AARJI', 4.426872183172174)],\n",
              "             'AOEAD7DPLZE53': [('B0010Z28XG', 4.947520660804467),\n",
              "              ('B00077AA5Q', 4.588055360372912),\n",
              "              ('B0041Q38NU', 4.577568522680654),\n",
              "              ('B004G6002M', 4.392229429857035),\n",
              "              ('B003EO1H7E', 4.284901735217871)],\n",
              "             'AOEDWQLH2WKKW': [('B004Q3R9B0', 4.549072016064114),\n",
              "              ('B0007LJHVA', 4.38750538658792),\n",
              "              ('B000UY3NR8', 3.9557935776219044),\n",
              "              ('B0028Y4CWI', 3.88964622039851)],\n",
              "             'AOJA1LC8PN7K1': [('B000N99BBC', 4.717657679076029),\n",
              "              ('B001IEZX3G', 4.5411040430126235),\n",
              "              ('B005CT56F8', 4.366885716053763)],\n",
              "             'AOMEH9W6LHC4S': [('B001MSU1FS', 4.7876893533400695),\n",
              "              ('B004Q3R9AQ', 4.78073404691055),\n",
              "              ('B002VPE1X4', 4.661121556886234),\n",
              "              ('B006JH8T3S', 4.660412244782882),\n",
              "              ('B003X7TRWE', 4.57168616950625)],\n",
              "             'AONUCJBC85BL': [('B000F7QRTG', 4.286499049093813),\n",
              "              ('B000JE7GPY', 4.220010470085051),\n",
              "              ('B004NY9UV4', 4.132067277472995),\n",
              "              ('B001TK3ACA', 3.8746046180350797),\n",
              "              ('B002VPDM2K', 3.656176485126232)],\n",
              "             'AOWF9T81XMX2S': [('B003ES5ZUU', 4.728724620281777),\n",
              "              ('B001TH7GUU', 4.7094269356959115),\n",
              "              ('B004NY9UV4', 4.507075972496076),\n",
              "              ('B002RL875A', 4.442051934164973),\n",
              "              ('B001XURP7W', 4.3847342955162905)],\n",
              "             'AP53MVRC8ZEW2': [('B000VX6XL6', 4.6084051944659405)],\n",
              "             'APBB297H3ZA5E': [('B000089GN3', 4.895874666786421),\n",
              "              ('B003ZBZ64Q', 4.821751900417927)],\n",
              "             'APGQTZZ4ZFPHO': [('B006ZT4VA0', 4.688339225413259),\n",
              "              ('B000Q8UAWY', 4.586813139989346),\n",
              "              ('B00007E7JU', 4.510785143792873),\n",
              "              ('B0007DDK7A', 4.19395896790153),\n",
              "              ('B003UT6C9G', 4.146262610093317)],\n",
              "             'APOGXH3A74CM3': [('B003ES5ZUU', 4.994980769815817),\n",
              "              ('B002WE6D44', 4.871693952559692),\n",
              "              ('B0002L5R78', 4.81480808413267),\n",
              "              ('B005DOUJL8', 4.678348275723754),\n",
              "              ('B000M2GYF6', 4.652519600238561)],\n",
              "             'APQQK1V695AUE': [('B000HDJT4S', 4.514803074632534)],\n",
              "             'AQ3IN3MRXQ5KH': [('B0030MITDK', 4.312197054164529)],\n",
              "             'AQIJ3ZEEVCIKU': [('B003CFATT2', 4.419555892387751),\n",
              "              ('B004CLYEDC', 4.389662106539259),\n",
              "              ('B001CIREXA', 4.29717555543135),\n",
              "              ('B002O0L0GC', 4.0617551039383715),\n",
              "              ('B001TK3ACA', 4.047662055985885)],\n",
              "             'AQR4HPVSOPS08': [('B002JQNXZC', 4.925486806058615),\n",
              "              ('B000QUUFRW', 4.922551794757496),\n",
              "              ('B004YLAYHA', 4.635112847842467)],\n",
              "             'AR18DH5SL9F73': [('B0041Q38NU', 4.522661116557552)],\n",
              "             'AR1T36GLLAFFX': [('B000BQ7GW8', 4.3161651194266275),\n",
              "              ('B004Q3R9B0', 4.10933539393106),\n",
              "              ('B004DMNT2W', 4.035605289036203),\n",
              "              ('B002VPE1Z2', 3.9844122869126797)],\n",
              "             'AR3EVUQF0AC7R': [('B002WE0QN8', 4.831275747045938),\n",
              "              ('B005DOUJL8', 4.517884889145309),\n",
              "              ('B000O8WE66', 4.49524831285603),\n",
              "              ('B004N6259G', 4.134653218739132)],\n",
              "             'AR74YY08IP2WE': [('B000JE7GPY', 4.076761450756004),\n",
              "              ('B002BH3Z8E', 3.9447739339449743),\n",
              "              ('B005BZNE2U', 3.7214404509448156),\n",
              "              ('B0064XAIZY', 3.567822586327565)],\n",
              "             'ARBKYIVNYWK3C': [('B0052SCU8U', 4.772751760975021),\n",
              "              ('B006EKIQYM', 4.627563891733613),\n",
              "              ('B00007IFED', 4.609055465399878),\n",
              "              ('B005ARQV6U', 4.588547600090737),\n",
              "              ('B000TKHBDK', 4.545160980646681)],\n",
              "             'ARIDN94LOCQFD': [('B0041Q38NU', 4.506632578558887),\n",
              "              ('B004TLH6GM', 4.505305160600149),\n",
              "              ('B004G6002M', 4.438040049886796),\n",
              "              ('B000LRMS66', 4.432222023368735),\n",
              "              ('B001FWYXD2', 4.351329066933552)],\n",
              "             'AROQO2VDODT7': [('B000053HC5', 4.529634578593383),\n",
              "              ('B001F51G16', 4.526139869758745),\n",
              "              ('B002W3IXZW', 4.4038823314977185),\n",
              "              ('B003ES61EE', 4.250922719490566),\n",
              "              ('B0007DDK7A', 4.19404411171167)],\n",
              "             'ARW8VGT10JG60': [('B002KETE24', 4.5802699361158465),\n",
              "              ('B0049WBZEK', 4.249976073629485)],\n",
              "             'ARX7Z3NI6O0F7': [('B000I1X3W8', 4.7998949658253585),\n",
              "              ('B000KO0GY6', 4.638200030532321)],\n",
              "             'ARXU3FESTWMJJ': [('B001P05NBA', 3.985214562990888),\n",
              "              ('B001DJ64D4', 3.946447268501645),\n",
              "              ('B000V5P90K', 3.9110872332009885),\n",
              "              ('B003ZSHKJ8', 3.8847818547135673),\n",
              "              ('B001TH7GVE', 3.87765270879958)],\n",
              "             'AS269J1OGZT1V': [('B0056TYRMW', 4.4235211097032385),\n",
              "              ('B0011U65F2', 4.357570944145677)],\n",
              "             'AS2II0671KT2C': [('B0009Y7APU', 4.7524969722989026),\n",
              "              ('B004Q0PT3I', 4.666787747899479)],\n",
              "             'ASCBJEPXTOU0V': [('B003ES5ZR8', 4.7617808973402225),\n",
              "              ('B0026ZPFCK', 4.472171047969208),\n",
              "              ('B002SZEOLG', 4.436705011552742)],\n",
              "             'ASFP250F22MDZ': [('B004CLYE8C', 3.780133640207137),\n",
              "              ('B000BN94F8', 3.75042314484191),\n",
              "              ('B003YKG2XM', 3.7039780174345407),\n",
              "              ('B005L38VPC', 3.630444323915426)],\n",
              "             'ASJSX783R5HTZ': [('B002HWRJY4', 4.315608473377845),\n",
              "              ('B001TH7GVE', 4.311680710930723),\n",
              "              ('B001CIREXA', 4.21653345054883),\n",
              "              ('B004TJ6JH6', 4.195767032922438),\n",
              "              ('B003HFCDLY', 4.1573910412318735)],\n",
              "             'AT09WGFUM934H': [('B000QUUFRW', 4.45071120763485),\n",
              "              ('B002G1YPH0', 4.3752179913969735),\n",
              "              ('B005CT56F8', 4.1274764475106505),\n",
              "              ('B0017JY5FE', 4.076733805856211),\n",
              "              ('B003XN24GY', 4.0332022738631705)],\n",
              "             'AT28RL25Q2OLK': [('B00017LSPI', 4.58944416103264),\n",
              "              ('B004XC6GJ0', 4.562234267931124),\n",
              "              ('B0074FGLUM', 4.3287691605305225),\n",
              "              ('B006TF37H8', 4.277261020108066),\n",
              "              ('B000FOYMKU', 4.072592084500058)],\n",
              "             'AT6CZDCP4TRGA': [('B0002SQ2P2', 4.194697341423004),\n",
              "              ('B002QEBMAK', 4.1656862213415105),\n",
              "              ('B00007KDVI', 3.551263803274668)],\n",
              "             'ATDE9JYCPI0L1': [('B0034CL2ZI', 4.739889160650431),\n",
              "              ('B00029U1DK', 4.673383914189924)],\n",
              "             'ATFBVUXDIRXT6': [('B002IC0YL8', 4.392501343792355),\n",
              "              ('B002R5AM7C', 4.269388836381308),\n",
              "              ('B003JQLI9O', 3.6379545753455758),\n",
              "              ('B0035JJJPU', 3.514978638921242)],\n",
              "             'ATNOI7E8GTIVE': [('B000F9YN22', 4.707195350437657),\n",
              "              ('B002ZIN9DU', 4.536884189828636),\n",
              "              ('B000VX6XL6', 4.533965605214996),\n",
              "              ('B002IC0YL8', 4.34054566636689)],\n",
              "             'ATS2855497V0I': [('B000N99BBC', 4.332870683562857),\n",
              "              ('B0074BW614', 4.095675259447863),\n",
              "              ('B004HKJTT2', 4.046443026749406),\n",
              "              ('B003XIJ566', 4.038352305191816),\n",
              "              ('B005CLPP84', 3.943030053566278)],\n",
              "             'AU2UJF4I7KAWL': [('B0062EUE54', 4.700018655079196)],\n",
              "             'AU3GYRAKBUAEU': [('B002TLTE6O', 4.110169627315942),\n",
              "              ('B002VPE1X4', 4.0780099906416565),\n",
              "              ('B0018O9JIG', 3.7743932504594047),\n",
              "              ('B0039NLS3I', 3.746837726720989),\n",
              "              ('B0018KTCIM', 3.68264376203837)],\n",
              "             'AUBEFRFHJR64Y': [('B000N99BBC', 4.711301134407626),\n",
              "              ('B005ES0YYA', 4.48766000743732),\n",
              "              ('B0043T7FXE', 4.318932786732455),\n",
              "              ('B004N6259G', 3.9845810510094)],\n",
              "             'AUCISQA1YXX86': [('B0015EWMX8', 4.005726580760691),\n",
              "              ('B000UWX70S', 3.29640346974779)],\n",
              "             'AUITG1DJ3QUGK': [('B0054L8N7M', 4.467903382416632),\n",
              "              ('B005DKZTMG', 4.454619385557586)],\n",
              "             'AV10H5K6VPQIJ': [('B001TOD7ME', 4.815178996389212),\n",
              "              ('B00029U1DK', 4.802123879669288),\n",
              "              ('B0001Y7UAI', 4.532733895769085),\n",
              "              ('B004VM1T5S', 4.48322791214036),\n",
              "              ('B0027VT6V4', 4.262472865125755)],\n",
              "             'AVBLGXSWRN666': [('B000N99BBC', 4.399075683028499),\n",
              "              ('B001F51G16', 4.359487642951711),\n",
              "              ('B004W2JKWG', 4.349527902992728),\n",
              "              ('B001C271MA', 4.248444546579081),\n",
              "              ('B0074BW614', 4.243394696326844)],\n",
              "             'AVFJ327UXPXLF': [('B000FQ2JLW', 4.702677812457985),\n",
              "              ('B000O8WE66', 4.468354858718613),\n",
              "              ('B0036VO6IC', 4.213505695004415)],\n",
              "             'AVPNQUVZWMDSX': [('B00077AA5Q', 4.5594614056761635),\n",
              "              ('B002FB7IX4', 4.530425893948593),\n",
              "              ('B002R5AM7C', 4.493322580000468),\n",
              "              ('B004CZ9U96', 4.3474517065352325),\n",
              "              ('B003GAMO6Y', 4.269989336135643)],\n",
              "             'AVSMRPI23DQI2': [('B001FA1NK0', 4.324252327268958)],\n",
              "             'AVTJEWTCJ3PBE': [('B000R9AAJA', 4.344689869168528)],\n",
              "             'AW68KVDV7BBRS': [('B0054JJ0QW', 4.021476811450644),\n",
              "              ('B000BYCKU8', 3.9107719458221233)],\n",
              "             'AWH2AY17ZU7W2': [('B002VPDM2A', 4.547640632682397),\n",
              "              ('B0054L8N7M', 4.410287999947096),\n",
              "              ('B004XNLR16', 4.313901434154655),\n",
              "              ('B004GK0GKO', 4.252113537353076),\n",
              "              ('B001OORMVQ', 3.9464634014839612)],\n",
              "             'AWNJAY0M5UI70': [('B004XC6GJ0', 5),\n",
              "              ('B001TH7GUU', 5),\n",
              "              ('B0036Q7MV0', 5),\n",
              "              ('B000S5Q9CA', 4.740633269639143),\n",
              "              ('B004SBBD8U', 4.737594139681581)],\n",
              "             'AWPODHOB4GFWL': [('B002Y6CJJ8', 4.7987717615168695),\n",
              "              ('B002WE4HE2', 4.5954356383620825),\n",
              "              ('B0011ZK6PC', 4.5274821572715425),\n",
              "              ('B000UY1MB2', 4.4926681353889935),\n",
              "              ('B000RHZJN4', 4.476749156077269)],\n",
              "             'AWSK1ZAEU1KFL': [('B002WE6D44', 4.648055612326936)],\n",
              "             'AWZR0O65DL2Q': [('B001T9NUJE', 4.460164774788293)],\n",
              "             'AX7317G153T8W': [('B003ES5ZUU', 4.908216992471214),\n",
              "              ('B001E1Y5O6', 4.697421023920841),\n",
              "              ('B0050A1O5U', 4.5899990457560165),\n",
              "              ('B0013FRNKG', 4.561208783121586),\n",
              "              ('B002BA596W', 4.55772749650333)],\n",
              "             'AXU3VKZE848IY': [('B001S4OTS6', 4.349453214473214),\n",
              "              ('B001OOZ1X2', 4.307559350423512),\n",
              "              ('B00007E7JU', 4.208622657322862),\n",
              "              ('B002JM1V6O', 4.112167554504528),\n",
              "              ('B001TK3ACA', 4.09720169930914)],\n",
              "             'AXYM52DNK6NDF': [('B006TT91TW', 4.5515064631127755)],\n",
              "             'AY6A8KPYCE6B0': [('B00029U1DK', 4.544696654615984),\n",
              "              ('B001S0PWWC', 4.460079235097689),\n",
              "              ('B005IA843W', 4.404582863092746),\n",
              "              ('B003M0NURK', 4.309481411393978),\n",
              "              ('B004G8QO8E', 4.102058995681148)],\n",
              "             'AYB4ELCS5AM8P': [('B004CLYEFK', 4.8782907819614865),\n",
              "              ('B004CLYEE6', 4.597218080869363),\n",
              "              ('B001FA1O18', 4.544718441847088),\n",
              "              ('B005A0B7CA', 4.531867607839233),\n",
              "              ('B004N625C8', 4.506340660840684)],\n",
              "             'AYLLSFYS3UP1H': [('B002V8C3W2', 4.795977977953639),\n",
              "              ('B005L38VPC', 4.213728175489727),\n",
              "              ('B0015DYMVO', 4.0264974716897735)],\n",
              "             'AYMD77ITD15PT': [('B001NTDGQC', 4.264747974320139),\n",
              "              ('B000AP05BO', 4.128344115379536),\n",
              "              ('B0064XAIZY', 4.109824399441206),\n",
              "              ('B0014J07R2', 4.0942345811185925),\n",
              "              ('B001NEK0P2', 3.9110507456679837)],\n",
              "             'AYNAH993VDECT': [('B006ZT4VA0', 4.768463734928686),\n",
              "              ('B0002L5R78', 4.658521547552192),\n",
              "              ('B004SBBD8U', 4.402219691189398),\n",
              "              ('B003YKG2W8', 4.372788555441497),\n",
              "              ('B000ZH98LU', 4.2562822197405445)],\n",
              "             'AYOTEJ617O60K': [('B003FVJYF8', 4.739616749391937)],\n",
              "             'AZ515FFZ7I2P7': [('B001S4OTS6', 4.362762539468586),\n",
              "              ('B001TANZ0W', 4.208586272670281),\n",
              "              ('B002IC0YL8', 4.038770296240604),\n",
              "              ('B001GS8FZ2', 3.9192611269624162),\n",
              "              ('B001B8CU8U', 3.8999569441422888)],\n",
              "             'AZAC8O310IK4E': [('B000LRMS66', 4.426113342270505),\n",
              "              ('B005HY4U5A', 4.424521501203318),\n",
              "              ('B003VANO7C', 4.412068329510883),\n",
              "              ('B004I43F9C', 4.363294071917996),\n",
              "              ('B0015DYMVO', 4.148012118856045)],\n",
              "             'AZMY6E8B52L2T': [('B001MSU1FS', 4.57432172146727),\n",
              "              ('B000BQ7GW8', 4.5624315518155205),\n",
              "              ('B0019EHU8G', 4.547516547959512),\n",
              "              ('B003ES5ZUU', 4.545786488115565),\n",
              "              ('B00005T3G0', 4.393451788883528)]})"
            ]
          },
          "metadata": {},
          "execution_count": 48
        }
      ]
    },
    {
      "cell_type": "markdown",
      "metadata": {
        "id": "qXw69NTqZf5J"
      },
      "source": [
        "**NOTE:**\n",
        "\n",
        "The above list shows the model recommendations the \"TOP 5\" products for each user. There are some cases in which less than 5 products are recommended as the model is not able to find the appropriate number of neighbors"
      ]
    },
    {
      "cell_type": "code",
      "metadata": {
        "colab": {
          "base_uri": "https://localhost:8080/"
        },
        "id": "ZWIy5HqzaBIi",
        "outputId": "ec870a7b-1d76-443c-fcd1-b6fd63fa9e30"
      },
      "source": [
        "def precision_recall_at_k(predictions, k=5, threshold=3.5):\n",
        "    '''Return precision and recall at k metrics for each user.'''\n",
        "\n",
        "    # First map the predictions to each user.\n",
        "    user_est_true = defaultdict(list)\n",
        "    for uid, _, true_r, est, _ in predictions:\n",
        "        user_est_true[uid].append((est, true_r))\n",
        "\n",
        "    precisions = dict()\n",
        "    recalls = dict()\n",
        "    for uid, user_ratings in user_est_true.items():\n",
        "\n",
        "        # Sort user ratings by estimated value\n",
        "        user_ratings.sort(key=lambda x: x[0], reverse=True)\n",
        "\n",
        "        # Number of relevant items\n",
        "        n_rel = sum((true_r >= threshold) for (_, true_r) in user_ratings)\n",
        "\n",
        "        # Number of recommended items in top k\n",
        "        n_rec_k = sum((est >= threshold) for (est, _) in user_ratings[:k])\n",
        "\n",
        "        # Number of relevant and recommended items in top k\n",
        "        n_rel_and_rec_k = sum(((true_r >= threshold) and (est >= threshold))\n",
        "                              for (est, true_r) in user_ratings[:k])\n",
        "\n",
        "        # Precision@K: Proportion of recommended items that are relevant\n",
        "        precisions[uid] = n_rel_and_rec_k / n_rec_k if n_rec_k != 0 else 1\n",
        "\n",
        "        # Recall@K: Proportion of relevant items that are recommended\n",
        "        recalls[uid] = n_rel_and_rec_k / n_rel if n_rel != 0 else 1\n",
        "\n",
        "    return precisions, recalls\n",
        "\n",
        "\n",
        "kf = KFold(n_splits=5)\n",
        "svd_model = SVD(n_epochs=20, lr_all=0.005, reg_all=0.2)\n",
        "precs = []\n",
        "recalls = []\n",
        "\n",
        "for trainset, testset in kf.split(surprise_data):\n",
        "    svd_model.fit(trainset)\n",
        "    predictions = svd_model.test(testset)\n",
        "    precisions, recalls = precision_recall_at_k(predictions, k=5, threshold=3.5)\n",
        "\n",
        "    # Precision and recall can then be averaged over all users\n",
        "    print('Precision : ', sum(prec for prec in precisions.values()) / len(precisions))\n",
        "    print('Recalls : ',sum(rec for rec in recalls.values()) / len(recalls))\n"
      ],
      "execution_count": null,
      "outputs": [
        {
          "output_type": "execute_result",
          "data": {
            "text/plain": [
              "<surprise.prediction_algorithms.matrix_factorization.SVD at 0x7fc9a20e3650>"
            ]
          },
          "metadata": {},
          "execution_count": 49
        },
        {
          "output_type": "stream",
          "name": "stdout",
          "text": [
            "Precision :  0.863562559694366\n",
            "Recalls :  0.9452921362305318\n"
          ]
        },
        {
          "output_type": "execute_result",
          "data": {
            "text/plain": [
              "<surprise.prediction_algorithms.matrix_factorization.SVD at 0x7fc9a20e3650>"
            ]
          },
          "metadata": {},
          "execution_count": 49
        },
        {
          "output_type": "stream",
          "name": "stdout",
          "text": [
            "Precision :  0.8641885325558802\n",
            "Recalls :  0.936979856877816\n"
          ]
        },
        {
          "output_type": "execute_result",
          "data": {
            "text/plain": [
              "<surprise.prediction_algorithms.matrix_factorization.SVD at 0x7fc9a20e3650>"
            ]
          },
          "metadata": {},
          "execution_count": 49
        },
        {
          "output_type": "stream",
          "name": "stdout",
          "text": [
            "Precision :  0.8582844574780065\n",
            "Recalls :  0.9281661683054644\n"
          ]
        },
        {
          "output_type": "execute_result",
          "data": {
            "text/plain": [
              "<surprise.prediction_algorithms.matrix_factorization.SVD at 0x7fc9a20e3650>"
            ]
          },
          "metadata": {},
          "execution_count": 49
        },
        {
          "output_type": "stream",
          "name": "stdout",
          "text": [
            "Precision :  0.8535919540229894\n",
            "Recalls :  0.9360725760510245\n"
          ]
        },
        {
          "output_type": "execute_result",
          "data": {
            "text/plain": [
              "<surprise.prediction_algorithms.matrix_factorization.SVD at 0x7fc9a20e3650>"
            ]
          },
          "metadata": {},
          "execution_count": 49
        },
        {
          "output_type": "stream",
          "name": "stdout",
          "text": [
            "Precision :  0.8700098328416921\n",
            "Recalls :  0.9425515200957679\n"
          ]
        }
      ]
    },
    {
      "cell_type": "code",
      "metadata": {
        "id": "eY2Cpzim5RZo"
      },
      "source": [
        "pickle.dump(svd_model,open('mostrelevant.pkl','wb'))"
      ],
      "execution_count": null,
      "outputs": []
    },
    {
      "cell_type": "markdown",
      "metadata": {
        "id": "ZGrGEUqSau-c"
      },
      "source": [
        "**Comment:** Precision and Recall have been calculated at k=5. \n",
        "\n",
        " Precision and Recall are binary metrics used to evaluate models with binary output. We need a way to translate our numerical problem (ratings usually from 1 to 5) into a binary problem (relevant and not relevant items). To do the translation we assume that any true rating above 3.5 corresponds to a relevant item and any true rating below 3.5 is irrelevant.\n",
        "\n",
        "Precision at 5 within the TOP 5 recommendations is alomost 85%. This means that 86% of the recommendation are relevent to the users.\n",
        "Recall at 5 within the TOP 5 recommendations problem is almost 95%. This means that 95% of the total number of the relevent products appear in the top-k result."
      ]
    },
    {
      "cell_type": "markdown",
      "metadata": {
        "id": "UwAdUamYavVP"
      },
      "source": [
        "**CONCLUSION**\n",
        "\n",
        "- EDA shows us that most of the customers give a rating of \"5\". This leads us to the conclusion that customers are very satisfied with their purchase. It may need some investigation to see if some bots or mandatory feedback at lower ratings are causing the majority to give a top rating of \"5\"\n",
        "\n",
        "- Subset of users who have provided 50 or more ratings and products which have received more than 10 ratings have been used to remove outliers and overcome Grey Sheep issue.\n",
        "\n",
        "- Popularity Model - shows the TOP 5 recommended products irrespective of the user. The same 5 product will be recommended for every user.\n",
        "\n",
        "- 'Matrix Factorization Based Algorithms' & 'k-NN Based Algorithms' were used to build Collaborative Filtering model.\n",
        "\n",
        "- SVD++ yields the lowest RMSE which is slightly better than SVD but computational time of SVD++ is 12 times greater than SVD. SVD can be used to get the recommended products.\n",
        "\n",
        "- Precision which is almost 86%. which can be interpreted as 86% of the recommendations are actually relevant to the user.\n",
        "\n",
        "- Recall is at 96% which can be interpreted as percent of the relevant items were recommended in the top-k items."
      ]
    },
    {
      "cell_type": "code",
      "metadata": {
        "id": "66BUxovdbWXp"
      },
      "source": [
        "!pip install colabcode\n",
        "!pip install fastapi"
      ],
      "execution_count": null,
      "outputs": []
    },
    {
      "cell_type": "code",
      "metadata": {
        "id": "LGPBFFUybhav"
      },
      "source": [
        "from colabcode import ColabCode\n",
        "from fastapi import FastAPI"
      ],
      "execution_count": null,
      "outputs": []
    },
    {
      "cell_type": "code",
      "metadata": {
        "id": "nhKWIGaEbkud"
      },
      "source": [
        "cc = ColabCode(port=12000, code=False)"
      ],
      "execution_count": null,
      "outputs": []
    },
    {
      "cell_type": "code",
      "metadata": {
        "id": "tc0-_qKObpCL"
      },
      "source": [
        "app = FastAPI()\n",
        "\n",
        "@app.get(\"/\")\n",
        "async def read_root():\n",
        "  return {\"PRODUCT RECOMMENDER APP\"}"
      ],
      "execution_count": null,
      "outputs": []
    },
    {
      "cell_type": "code",
      "metadata": {
        "colab": {
          "base_uri": "https://localhost:8080/"
        },
        "id": "Qmi6NrBfbx9R",
        "outputId": "8d131e85-f16b-49bd-bcc0-35d4580e36cb"
      },
      "source": [
        "cc.run_app(app=app)"
      ],
      "execution_count": null,
      "outputs": [
        {
          "metadata": {
            "tags": null
          },
          "name": "stdout",
          "output_type": "stream",
          "text": [
            ""
          ]
        }
      ]
    },
    {
      "cell_type": "code",
      "metadata": {
        "id": "2yMISn3-b53v"
      },
      "source": [
        "%%writefile models.py\n",
        "from pydantic import BaseModel, conlist\n",
        "from typing import List\n",
        "\n",
        "class electronics_data(BaseModel)\n",
        "data: List[conlist(float, min_items=1, max_items=1)]"
      ],
      "execution_count": null,
      "outputs": []
    },
    {
      "cell_type": "code",
      "metadata": {
        "id": "ZAoROwHscryN"
      },
      "source": [
        "import pickle\n",
        "import logging\n",
        "from fastapi import FastAPI\n",
        "\n",
        "app = FastAPI(title=\"Model Deployment\", description=\"Select your product\", version=\"1.0\")\n",
        "\n",
        "# # Initialize logging\n",
        "# my_logger = logging.getLogger()\n",
        "# my_logger.setLevel(logging.DEBUG)\n",
        "# logging.basicConfig(level=logging.DEBUG, filename='logs.log')\n",
        "\n",
        "model = None\n",
        "\n",
        "@app.on_event(\"startup\")\n",
        "def load_model():\n",
        "    global model\n",
        "    model = pickle.load(open(\"mostpopular.pkl\", \"rb\"))\n",
        "\n",
        "@app.post(\"/api\", tags=[\"prediction\"])\n",
        "async def get_predictions(popularity_recommendations:electronics_data):\n",
        "    try:\n",
        "        data = dict(popularity_recommendations)['data']\n",
        "        print(data)\n",
        "        prediction = list(map(lambda x: popularity_recommendations_types[x], model.predict(data).tolist()))\n",
        "        log_proba = model.predict_log_proba(data).tolist()\n",
        "        return {\"prediction\": prediction, \"log_proba\": log_proba}\n",
        "\n",
        "    except:\n",
        "        my_logger.error(\"Something went wrong!\")\n",
        "        return {\"prediction\": \"error\"}"
      ],
      "execution_count": null,
      "outputs": []
    }
  ]
}