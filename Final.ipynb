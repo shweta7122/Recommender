{
  "nbformat": 4,
  "nbformat_minor": 0,
  "metadata": {
    "colab": {
      "name": "Final.ipynb",
      "provenance": [],
      "collapsed_sections": [],
      "authorship_tag": "ABX9TyMNxg2qon6SVSWxdX12kDHU",
      "include_colab_link": true
    },
    "kernelspec": {
      "name": "python3",
      "display_name": "Python 3"
    },
    "language_info": {
      "name": "python"
    }
  },
  "cells": [
    {
      "cell_type": "markdown",
      "metadata": {
        "id": "view-in-github",
        "colab_type": "text"
      },
      "source": [
        "<a href=\"https://colab.research.google.com/github/shweta7122/Recommender/blob/main/Final.ipynb\" target=\"_parent\"><img src=\"https://colab.research.google.com/assets/colab-badge.svg\" alt=\"Open In Colab\"/></a>"
      ]
    },
    {
      "cell_type": "code",
      "metadata": {
        "id": "CqEP-4-wXCQk"
      },
      "source": [
        "!pip install flask_ngrok"
      ],
      "execution_count": null,
      "outputs": []
    },
    {
      "cell_type": "code",
      "metadata": {
        "id": "Y88v7RGZXOCC"
      },
      "source": [
        "from flask import Flask, request, jsonify, render_template"
      ],
      "execution_count": 28,
      "outputs": []
    },
    {
      "cell_type": "code",
      "metadata": {
        "id": "iY0zvEzIO1cx"
      },
      "source": [
        "import pickle\n",
        "import numpy as np\n",
        "import pandas as pd\n"
      ],
      "execution_count": 29,
      "outputs": []
    },
    {
      "cell_type": "code",
      "metadata": {
        "id": "sbLNc2pVPAAe"
      },
      "source": [
        "!pip3 install scikit-surprise"
      ],
      "execution_count": 30,
      "outputs": []
    },
    {
      "cell_type": "code",
      "metadata": {
        "id": "MIlGb2DWPRZf"
      },
      "source": [
        "from surprise import SVD, SVDpp\n",
        "from surprise import KNNBaseline\n",
        "from surprise import KNNBasic\n",
        "from surprise import KNNWithZScore\n",
        "from surprise import BaselineOnly\n",
        "from surprise import Dataset\n",
        "from surprise import Reader\n",
        "from surprise import accuracy\n",
        "from surprise.model_selection import train_test_split\n",
        "from surprise.model_selection import cross_validate\n",
        "from surprise.model_selection import KFold\n",
        "from sklearn.feature_extraction.text import CountVectorizer\n",
        "from sklearn.metrics.pairwise import cosine_similarity\n",
        "import json\n",
        "import bs4 as bs\n",
        "import urllib.request\n",
        "import pickle\n",
        "import requests\n"
      ],
      "execution_count": 64,
      "outputs": []
    },
    {
      "cell_type": "code",
      "metadata": {
        "id": "BlUAbyBJPYin"
      },
      "source": [
        "model = pickle.load(open(\"mostrelevant (1).pkl\", 'rb'))"
      ],
      "execution_count": 78,
      "outputs": []
    },
    {
      "cell_type": "code",
      "metadata": {
        "id": "bxuNgrRkuUsP"
      },
      "source": [
        "!pip install flask-ngrok"
      ],
      "execution_count": 39,
      "outputs": []
    },
    {
      "cell_type": "code",
      "metadata": {
        "id": "ioFPCwVHuuya"
      },
      "source": [
        "from flask_ngrok import run_with_ngrok\n",
        "from flask import Flask, render_template, request\n"
      ],
      "execution_count": 90,
      "outputs": []
    },
    {
      "cell_type": "code",
      "metadata": {
        "id": "IYrRTDUjtEG5"
      },
      "source": [
        "app = Flask(__name__)\n"
      ],
      "execution_count": 93,
      "outputs": []
    },
    {
      "cell_type": "code",
      "metadata": {
        "id": "ko8YxUKRtJDq"
      },
      "source": [
        "@app.route(\"/\")\n",
        "def hello():\n",
        "    return render_template (\"index.html\")\n",
        "\n",
        "@app.route(\"/sub\", methods = ['POST'])\n",
        "def submit():\n",
        "    if request.method == \"POST\":\n",
        "        name = request.form[\"username\"]\n",
        "\n",
        "    return render_template(\"sub.html\", n = name)\n",
        "\n",
        "@app.route(\"/product\", methods = ['POST'])\n",
        "def product():\n",
        "    if request.method == \"POST\": \n",
        "        product=request.form[\"product\"]\n",
        "    \n",
        "    return render_template(\"product.html\", p = product)\n",
        "   \n",
        "\n",
        "\n",
        "\n"
      ],
      "execution_count": 94,
      "outputs": []
    },
    {
      "cell_type": "code",
      "metadata": {
        "colab": {
          "base_uri": "https://localhost:8080/"
        },
        "id": "4Hm1BXAdtPc6",
        "outputId": "f244d72d-ca7b-4da4-bdbd-307f19912702"
      },
      "source": [
        "run_with_ngrok(app)\n",
        "app.run()\n"
      ],
      "execution_count": null,
      "outputs": [
        {
          "output_type": "stream",
          "name": "stdout",
          "text": [
            " * Serving Flask app \"__main__\" (lazy loading)\n",
            " * Environment: production\n",
            "\u001b[31m   WARNING: This is a development server. Do not use it in a production deployment.\u001b[0m\n",
            "\u001b[2m   Use a production WSGI server instead.\u001b[0m\n",
            " * Debug mode: off\n"
          ]
        },
        {
          "output_type": "stream",
          "name": "stderr",
          "text": [
            " * Running on http://127.0.0.1:5000/ (Press CTRL+C to quit)\n"
          ]
        },
        {
          "output_type": "stream",
          "name": "stdout",
          "text": [
            " * Running on http://5414-34-73-245-42.ngrok.io\n",
            " * Traffic stats available on http://127.0.0.1:4040\n"
          ]
        },
        {
          "output_type": "stream",
          "name": "stderr",
          "text": [
            "127.0.0.1 - - [02/Oct/2021 10:07:00] \"\u001b[37mGET / HTTP/1.1\u001b[0m\" 200 -\n",
            "127.0.0.1 - - [02/Oct/2021 10:07:00] \"\u001b[33mGET /favicon.ico HTTP/1.1\u001b[0m\" 404 -\n",
            "127.0.0.1 - - [02/Oct/2021 10:07:03] \"\u001b[37mPOST /sub HTTP/1.1\u001b[0m\" 200 -\n",
            "127.0.0.1 - - [02/Oct/2021 10:07:06] \"\u001b[37mPOST /product HTTP/1.1\u001b[0m\" 200 -\n"
          ]
        }
      ]
    },
    {
      "cell_type": "code",
      "metadata": {
        "id": "pACm_1RatTwr"
      },
      "source": [
        ""
      ],
      "execution_count": null,
      "outputs": []
    }
  ]
}